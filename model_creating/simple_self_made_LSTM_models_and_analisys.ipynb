{
 "cells": [
  {
   "cell_type": "markdown",
   "id": "5866095e-232a-4948-9b60-f30861c76032",
   "metadata": {},
   "source": [
    "моя сеть будет брать на вход батч из n текстов и учиться на каждом тексте последовательно предугадывать каждый следующий токен изходя из соответсвующего префикса"
   ]
  },
  {
   "cell_type": "code",
   "execution_count": 1,
   "id": "a0212ea5-89bc-460f-a775-89fa1cb9bbb1",
   "metadata": {
    "tags": []
   },
   "outputs": [],
   "source": [
    "# %pip install tokenizers"
   ]
  },
  {
   "cell_type": "code",
   "execution_count": 2,
   "id": "7deed274-28b7-45b5-b4d8-f46808a577b8",
   "metadata": {
    "tags": []
   },
   "outputs": [],
   "source": [
    "import torch\n",
    "import torch.nn as nn\n",
    "from torch.utils.data import Dataset, DataLoader\n",
    "\n",
    "import matplotlib.pyplot as plt\n",
    "\n",
    "from tqdm.auto import tqdm as tqdm\n",
    "from sklearn.model_selection import train_test_split\n",
    "import nltk\n",
    "\n",
    "from tokenizers import Tokenizer\n",
    "\n",
    "import re\n",
    "from collections import Counter\n",
    "\n",
    "import numpy as np\n",
    "import sys\n",
    "\n",
    "import random\n",
    "import pickle"
   ]
  },
  {
   "cell_type": "code",
   "execution_count": 3,
   "id": "1fba455a-55aa-4351-a101-62f4c4fd7b01",
   "metadata": {
    "tags": []
   },
   "outputs": [
    {
     "data": {
      "text/plain": [
       "True"
      ]
     },
     "execution_count": 3,
     "metadata": {},
     "output_type": "execute_result"
    }
   ],
   "source": [
    "device = 'cuda'\n",
    "torch.cuda.is_available()"
   ]
  },
  {
   "cell_type": "markdown",
   "id": "0ab41c8c-7e87-430f-8d7e-fb8809b64d4a",
   "metadata": {},
   "source": [
    "## загружаю даннытокенайзер, пишу даталодер"
   ]
  },
  {
   "cell_type": "code",
   "execution_count": 4,
   "id": "35f9d38c-7f67-4b2a-ae6a-0a3bf0749100",
   "metadata": {},
   "outputs": [],
   "source": [
    "\n",
    "with open('../dataset/generated/tokenizer_and_tokenized_dataset/tokenized_texts.pkl', 'rb') as f:\n",
    "    tokenized_texts = pickle.load(f)\n",
    "\n",
    "tokenizer = Tokenizer.from_file('../dataset/generated/tokenizer_and_tokenized_dataset/tokenizer_2_vocab_1410_made_on_generated_data')"
   ]
  },
  {
   "cell_type": "code",
   "execution_count": 5,
   "id": "7c4a0fa7-bfe4-4f39-8a5f-e3410a8b5aeb",
   "metadata": {
    "tags": []
   },
   "outputs": [
    {
     "data": {
      "text/plain": [
       "1410"
      ]
     },
     "execution_count": 5,
     "metadata": {},
     "output_type": "execute_result"
    }
   ],
   "source": [
    "t2id = tokenizer.get_vocab()\n",
    "id2t = {i : t for t, i in t2id.items()}\n",
    "vocab_size = len(t2id.items())\n",
    "vocab_size"
   ]
  },
  {
   "cell_type": "code",
   "execution_count": 6,
   "id": "0b51fc18-fb96-47f8-94c8-3465aa49a5b9",
   "metadata": {
    "tags": []
   },
   "outputs": [],
   "source": [
    "class TextDataset:\n",
    "  def __init__(self, text):\n",
    "    self.data = text\n",
    "    self.unk_id = t2id['<unk>']\n",
    "    self.bos_id = t2id['<bos>']\n",
    "    self.eos_id = t2id['<eos>']\n",
    "    self.pad_id = t2id['<pad>']\n",
    "\n",
    "  def __getitem__(self, idx):\n",
    "    token_t = [self.bos_id]\n",
    "    token_t += [t2id.get(t, self.unk_id) for t in self.data[idx]]\n",
    "    token_t += [self.eos_id]\n",
    "\n",
    "    return token_t\n",
    "\n",
    "\n",
    "  def __len__(self):\n",
    "    return len(self.data)"
   ]
  },
  {
   "cell_type": "code",
   "execution_count": 7,
   "id": "5c1f4b1e-e302-4337-9dce-4d9af3bc87e0",
   "metadata": {
    "tags": []
   },
   "outputs": [],
   "source": [
    "def trans_func(input_batch, pad_id=t2id['<pad>']):  # [text, text, ...] -> batch\n",
    "    '''\n",
    "    Пример (пусть числа - это номера токенов в словаре):\n",
    "    input_batch = [\n",
    "        [t2id['<bos>'], 14, 53, 23, t2id['<eos>']],\n",
    "        [t2id['<bos>'], 67, 98, t2id['<eos>']],\n",
    "    ]\n",
    "    \n",
    "    фукнция должда вернуть\n",
    "    batch = {\n",
    "        'in_ids': [\n",
    "                    [pad_id ... pad_id, pad_id, pad_id, bos_id],\n",
    "                    [pad_id ... pad_id, pad_id, bos_id, 14],\n",
    "                    [pad_id ... pad_id, bos_id, 14,     53 ],\n",
    "                    [pad_id ... bos_id, 14,     53,     23],\n",
    "\n",
    "                    [pad_id ... pad_id, pad_id, pad_id, bos_id],\n",
    "                    [pad_id ... pad_id, pad_id, bos_id, 67],\n",
    "                    [pad_id ... pad_id, bos_id, 67,     98],\n",
    "\n",
    "                  ]\n",
    "        'target_ids': [14, 53, 23, eos_id, 67, 98, eos_id],\n",
    "    }\n",
    "    '''\n",
    "    max_text_len = max(len(text) for text in input_batch)\n",
    "    seq_cou = sum(len(text) - 1 for text in input_batch)\n",
    "    \n",
    "    in_ids = torch.full((seq_cou, max_text_len), pad_id, dtype=torch.long)\n",
    "    target_ids = torch.empty(seq_cou, dtype=torch.long)\n",
    "\n",
    "    seq_idx = 0\n",
    "    for text in input_batch:\n",
    "        text_tens = torch.tensor(text, dtype=torch.long)\n",
    "        target_ids[seq_idx: seq_idx + text_tens.shape[0] - 1] = text_tens[1:]\n",
    "        \n",
    "        for i in range(1, len(text)):\n",
    "            in_ids[seq_idx, -i:] = text_tens[:i]\n",
    "            # target_ids[seq_idx] = text_tens[i]\n",
    "            seq_idx += 1\n",
    "        \n",
    "\n",
    "    batch = {\n",
    "        'in_ids': in_ids.to(device), \n",
    "        'target_ids': target_ids.to(device),\n",
    "    }\n",
    "    return batch\n"
   ]
  },
  {
   "cell_type": "code",
   "execution_count": null,
   "id": "28c65b83-5f86-408a-b58e-7025653b14ed",
   "metadata": {
    "tags": []
   },
   "outputs": [],
   "source": []
  },
  {
   "cell_type": "markdown",
   "id": "02b3a281-6bfe-436b-8795-5f8fcee4c827",
   "metadata": {},
   "source": [
    "# ручками обрезал размер датасета, не забыть об этом "
   ]
  },
  {
   "cell_type": "code",
   "execution_count": 8,
   "id": "d44831c0-6346-4588-91a6-88f14e1aed71",
   "metadata": {
    "tags": []
   },
   "outputs": [],
   "source": [
    "tokenized_texts = random.sample(tokenized_texts, len(tokenized_texts))"
   ]
  },
  {
   "cell_type": "code",
   "execution_count": 9,
   "id": "5b656d97-7e36-4c27-ac28-2661002acf41",
   "metadata": {
    "tags": []
   },
   "outputs": [],
   "source": [
    "train_t, eval_t = train_test_split(tokenized_texts[:100], test_size=1/4)"
   ]
  },
  {
   "cell_type": "code",
   "execution_count": 10,
   "id": "63144dc5-ccbe-4536-a385-7eedb8123c5f",
   "metadata": {
    "tags": []
   },
   "outputs": [],
   "source": [
    "train_dataset = TextDataset(train_t)\n",
    "eval_dataset = TextDataset(eval_t)"
   ]
  },
  {
   "cell_type": "code",
   "execution_count": 11,
   "id": "88e13598-d251-4eb3-8ea3-b5fffeda3ab8",
   "metadata": {
    "tags": []
   },
   "outputs": [],
   "source": [
    "train_dataloader = DataLoader(\n",
    "    dataset=train_dataset, collate_fn=trans_func, batch_size=1,\n",
    ")\n",
    "\n",
    "eval_dataloader = DataLoader(\n",
    "    dataset=eval_dataset, collate_fn=trans_func, batch_size=1,\n",
    ")\n",
    "\n"
   ]
  },
  {
   "cell_type": "markdown",
   "id": "c3d7c578-8552-4579-8994-a21b5b9f7064",
   "metadata": {},
   "source": [
    "## линейная модель"
   ]
  },
  {
   "cell_type": "markdown",
   "id": "7d719cb2-3b90-47f1-8c0c-1e879696f46b",
   "metadata": {},
   "source": [
    "сделаю линейную модель с переменными гиперпараметрами:\n",
    "\n",
    "$ hidden\\_sizes = [h_1, h_2, ..., h_n], dropouts = [d1, d2, ..., dn], embedding\\_dim $\n",
    "\n",
    "сгенерирую много моделей с разными гиперпараметрами, обучу на x эпохах и выберу лучшую по перплексии"
   ]
  },
  {
   "cell_type": "code",
   "execution_count": 12,
   "id": "62d63401-0e49-450c-b6cf-aa0eb840ab53",
   "metadata": {
    "tags": []
   },
   "outputs": [],
   "source": [
    "class LSTMTensorModel(nn.Module):\n",
    "    def __init__(self, hidden_sizes, dropout_values, attantion_count, embedding_dim, vocab_size):\n",
    "        super().__init__()\n",
    "        self.losses = []\n",
    "        self.perplexities = []\n",
    "        \n",
    "        self.hidden_sizes = hidden_sizes\n",
    "        self.dropout_values = dropout_values\n",
    "        self.attention_count = attantion_count\n",
    "        self.embedding_dim = embedding_dim\n",
    "        self.vocab_size = vocab_size\n",
    "        \n",
    "        self.depth = len(hidden_sizes)\n",
    "\n",
    "        self.embedding = nn.Embedding(vocab_size, embedding_dim)\n",
    "        self.non_lin = nn.Tanh()\n",
    "        \n",
    "        self.lstms = nn.ModuleList()\n",
    "        self.dropouts = nn.ModuleList()\n",
    "        self.attentions = nn.ModuleList()\n",
    "        \n",
    "        last_size = embedding_dim\n",
    "\n",
    "        for i in range(self.depth):\n",
    "            self.lstms.append(nn.LSTM(last_size, self.hidden_sizes[i], batch_first=True))\n",
    "            self.dropouts.append(nn.Dropout(p=self.dropout_values[i]))\n",
    "            last_size =  self.hidden_sizes[i]\n",
    "\n",
    "        for i in range(self.attention_count):\n",
    "            self.attentions.append(nn.LSTM(last_size, 1, batch_first=True))\n",
    "        \n",
    "        self.softmax = nn.Softmax(dim=1)\n",
    "        \n",
    "        self.fc = nn.Linear(last_size, vocab_size)\n",
    "\n",
    "    \n",
    "    def forward(self, input_batch):\n",
    "        out = self.embedding(input_batch)  # (batch_size, seq_len, embedding_dim)\n",
    "\n",
    "\n",
    "    \n",
    "        for i in range(self.depth):\n",
    "            out, _ = self.lstms[i](out)  # (batch_size, seq_len, self.hidden_sizes[i])\n",
    "            out = self.non_lin(self.dropouts[i](out))  \n",
    "\n",
    "        weighted_outs = []\n",
    "        for i in range(self.attention_count):\n",
    "            weights, _ = self.attentions[i](out)\n",
    "            weights = self.softmax(weights)\n",
    "            weighted_outs.append(torch.sum(weights*out, dim=1))\n",
    "        \n",
    "        out = sum(weighted_outs) / self.attention_count  # (batch_size, self.hidden_sizes[-1])\n",
    "\n",
    "        out = self.fc(out)  # (batch_size, vocab_size)\n",
    "        return out\n",
    "\n",
    "    def get_sizes(self):\n",
    "        return {\n",
    "            'hidden_sizes': self.hidden_sizes,\n",
    "            'dropout_values': self.dropout_values,\n",
    "            'embedding_dim': self.embedding_dim, \n",
    "            'attention_count': self.attention_count,\n",
    "            'vocab_size': self.vocab_size, \n",
    "            'deepht': self.depht, \n",
    "        }\n",
    "\n",
    "    def get_losses(self):\n",
    "        return self.losses\n",
    "\n",
    "    def get_perplexities(self):\n",
    "        return self.perplexities\n",
    "    \n",
    "    \n",
    "    def __str__(self):\n",
    "        return f'hs={self.hidden_sizes}, ed={self.embedding_dim}, ac={self.attention_count}'\n",
    "            \n",
    "        \n",
    "        "
   ]
  },
  {
   "cell_type": "markdown",
   "id": "0552b91e-b6d6-4402-8a20-bc6c612e7879",
   "metadata": {},
   "source": [
    "## evaluate, train"
   ]
  },
  {
   "cell_type": "markdown",
   "id": "607c6cad-cc3c-45c6-939c-f31bec335b22",
   "metadata": {},
   "source": [
    "тк я планирю делать сразу много моделей, я сделаю эти методы так, чтобы они работали не на 1 модели, а на списке:\n",
    "\n",
    "models = [(model1, optimizer1), (model2, optimizer2), ...]"
   ]
  },
  {
   "cell_type": "code",
   "execution_count": 13,
   "id": "27830206-dec2-4ff7-8e60-7b2b41c69dc0",
   "metadata": {
    "tags": []
   },
   "outputs": [],
   "source": [
    "def evaluate(model, optimizer, crit, eval_dataloader):\n",
    "    model.eval()\n",
    "    perplexity = []\n",
    "    amount = 0\n",
    "    with torch.no_grad():\n",
    "        for batch in eval_dataloader:\n",
    "            logs = model(batch['in_ids'])\n",
    "            len_batch = len(batch['in_ids'])\n",
    "            for i in range(len_batch):\n",
    "                loss = crit(\n",
    "                    logs[i], \n",
    "                    batch['target_ids'][i]\n",
    "                )\n",
    "                perplexity.append(torch.exp(loss).item())\n",
    "    rate = sum(perplexity) / len(perplexity)\n",
    "    return rate\n"
   ]
  },
  {
   "cell_type": "code",
   "execution_count": 14,
   "id": "f213e9ea-3ea2-4a67-a900-4385b1a737f4",
   "metadata": {
    "tags": []
   },
   "outputs": [],
   "source": [
    "crit_func = nn.CrossEntropyLoss(ignore_index=t2id['<pad>'])"
   ]
  },
  {
   "cell_type": "code",
   "execution_count": 15,
   "id": "1b0bb639-a2d9-432b-938b-e1d248647ee9",
   "metadata": {
    "tags": []
   },
   "outputs": [],
   "source": [
    "# evaluate(m1, o1, crit, eval_dataloader)"
   ]
  },
  {
   "cell_type": "code",
   "execution_count": 16,
   "id": "5f514231-f988-4694-96b4-2f0b2f263523",
   "metadata": {
    "tags": []
   },
   "outputs": [],
   "source": [
    "# m1 = LinearTensorModel(hidden_sizes=[64, 64, 64], dropout_values=[0.1, 0.1, 0.1], embedding_dim=128, attantion_count=2, vocab_size=vocab_size)\n",
    "# m = \n",
    "# o1 = torch.optim.Adam(m1.parameters())\n",
    "# claster = [(m1.to(device), o1)]"
   ]
  },
  {
   "cell_type": "markdown",
   "id": "773f1a4c-39f0-46c3-9949-5c92e9102911",
   "metadata": {},
   "source": [
    "### для того, чтобы выбрать лучшую архитектуру, создаю и обучаю на не большой подвыборке кластер с рандомными гиперпараметрами (hidden_dim, hidden_sizes, dropout_values, embedding_dim) на не большом количестве эпох"
   ]
  },
  {
   "cell_type": "code",
   "execution_count": 17,
   "id": "42128a23-8e22-432e-b81e-f74b99db75f7",
   "metadata": {
    "tags": []
   },
   "outputs": [],
   "source": [
    "already_done = 23\n",
    "claster_size = 100 - already_done # моделей будет сгенерированно\n",
    "\n",
    "# hidden_dim_vals = (1, 4)\n",
    "# hidden_dim_sizes_vals = (4, 64)\n",
    "# dropout_valuse_vals = (0, 0.2)\n",
    "# embedding_dim_vals = (30, 300)\n",
    "# attantion_count_vals = (1, 5)\n",
    "\n",
    "\n",
    "hidden_dim_vals = (1, 4)\n",
    "hidden_dim_sizes_vals = (4, 32)\n",
    "dropout_valuse_vals = (0, 0.2)\n",
    "embedding_dim_vals = (30, 100)\n",
    "attantion_count_vals = (1, 5)\n",
    "\n",
    "claster = []\n",
    "\n",
    "for i in range(claster_size):\n",
    "    hidden_dim = random.randint(hidden_dim_vals[0], hidden_dim_vals[1])\n",
    "    hidden_sizes = random.choices(range(hidden_dim_sizes_vals[0], hidden_dim_sizes_vals[1] + 1), k=hidden_dim)\n",
    "    dropout_values = np.random.uniform(dropout_valuse_vals[0], dropout_valuse_vals[1], hidden_dim)\n",
    "    attantion_count = random.randint(attantion_count_vals[0], attantion_count_vals[1])\n",
    "    embedding_dim = random.randint(embedding_dim_vals[0], embedding_dim_vals[1])\n",
    "    \n",
    "    m = LSTMTensorModel(hidden_sizes=hidden_sizes, dropout_values=dropout_values, attantion_count=attantion_count, embedding_dim=embedding_dim, vocab_size=vocab_size)\n",
    "    o = torch.optim.Adam(m.parameters())\n",
    "    claster.append((m.to(device), o))\n",
    "    "
   ]
  },
  {
   "cell_type": "code",
   "execution_count": null,
   "id": "1c624caa-13be-4446-aaac-657fd33632d3",
   "metadata": {
    "tags": []
   },
   "outputs": [
    {
     "data": {
      "application/vnd.jupyter.widget-view+json": {
       "model_id": "90d3a425db874eb0a94ef7caca43d264",
       "version_major": 2,
       "version_minor": 0
      },
      "text/plain": [
       "model: 1/77, epoch: 1/20, params: hs=[32, 20, 18], ed=40, ac=5:   0%|          | 0/75 [00:00<?, ?it/s]"
      ]
     },
     "metadata": {},
     "output_type": "display_data"
    },
    {
     "data": {
      "application/vnd.jupyter.widget-view+json": {
       "model_id": "d51e02932ec94424b08ee0d22096b0d9",
       "version_major": 2,
       "version_minor": 0
      },
      "text/plain": [
       "model: 1/77, epoch: 2/20, params: hs=[32, 20, 18], ed=40, ac=5:   0%|          | 0/75 [00:00<?, ?it/s]"
      ]
     },
     "metadata": {},
     "output_type": "display_data"
    },
    {
     "data": {
      "application/vnd.jupyter.widget-view+json": {
       "model_id": "306d61b501cd4c67a495b621d02e2773",
       "version_major": 2,
       "version_minor": 0
      },
      "text/plain": [
       "model: 1/77, epoch: 3/20, params: hs=[32, 20, 18], ed=40, ac=5:   0%|          | 0/75 [00:00<?, ?it/s]"
      ]
     },
     "metadata": {},
     "output_type": "display_data"
    },
    {
     "data": {
      "application/vnd.jupyter.widget-view+json": {
       "model_id": "2e1a09d278a44aa1a589586d3ef8cf9a",
       "version_major": 2,
       "version_minor": 0
      },
      "text/plain": [
       "model: 1/77, epoch: 4/20, params: hs=[32, 20, 18], ed=40, ac=5:   0%|          | 0/75 [00:00<?, ?it/s]"
      ]
     },
     "metadata": {},
     "output_type": "display_data"
    },
    {
     "data": {
      "application/vnd.jupyter.widget-view+json": {
       "model_id": "06d43158aec64bce988aa78198ec6e0e",
       "version_major": 2,
       "version_minor": 0
      },
      "text/plain": [
       "model: 1/77, epoch: 5/20, params: hs=[32, 20, 18], ed=40, ac=5:   0%|          | 0/75 [00:00<?, ?it/s]"
      ]
     },
     "metadata": {},
     "output_type": "display_data"
    },
    {
     "data": {
      "application/vnd.jupyter.widget-view+json": {
       "model_id": "cfc738967c8146278c11b7481c2a2fca",
       "version_major": 2,
       "version_minor": 0
      },
      "text/plain": [
       "model: 1/77, epoch: 6/20, params: hs=[32, 20, 18], ed=40, ac=5:   0%|          | 0/75 [00:00<?, ?it/s]"
      ]
     },
     "metadata": {},
     "output_type": "display_data"
    },
    {
     "data": {
      "application/vnd.jupyter.widget-view+json": {
       "model_id": "5c1a17635e1849e899ed20a22cc37b1b",
       "version_major": 2,
       "version_minor": 0
      },
      "text/plain": [
       "model: 1/77, epoch: 7/20, params: hs=[32, 20, 18], ed=40, ac=5:   0%|          | 0/75 [00:00<?, ?it/s]"
      ]
     },
     "metadata": {},
     "output_type": "display_data"
    },
    {
     "data": {
      "application/vnd.jupyter.widget-view+json": {
       "model_id": "c1b3778b75374149abb45c7ace377580",
       "version_major": 2,
       "version_minor": 0
      },
      "text/plain": [
       "model: 1/77, epoch: 8/20, params: hs=[32, 20, 18], ed=40, ac=5:   0%|          | 0/75 [00:00<?, ?it/s]"
      ]
     },
     "metadata": {},
     "output_type": "display_data"
    },
    {
     "data": {
      "application/vnd.jupyter.widget-view+json": {
       "model_id": "66462ce76a374046a7c3ae32177a6630",
       "version_major": 2,
       "version_minor": 0
      },
      "text/plain": [
       "model: 1/77, epoch: 9/20, params: hs=[32, 20, 18], ed=40, ac=5:   0%|          | 0/75 [00:00<?, ?it/s]"
      ]
     },
     "metadata": {},
     "output_type": "display_data"
    },
    {
     "data": {
      "application/vnd.jupyter.widget-view+json": {
       "model_id": "820992a0b7ed4f00acb6447c10d8d3b7",
       "version_major": 2,
       "version_minor": 0
      },
      "text/plain": [
       "model: 1/77, epoch: 10/20, params: hs=[32, 20, 18], ed=40, ac=5:   0%|          | 0/75 [00:00<?, ?it/s]"
      ]
     },
     "metadata": {},
     "output_type": "display_data"
    },
    {
     "data": {
      "application/vnd.jupyter.widget-view+json": {
       "model_id": "988d1c5cf32f4582869e9a50fcf68dce",
       "version_major": 2,
       "version_minor": 0
      },
      "text/plain": [
       "model: 1/77, epoch: 11/20, params: hs=[32, 20, 18], ed=40, ac=5:   0%|          | 0/75 [00:00<?, ?it/s]"
      ]
     },
     "metadata": {},
     "output_type": "display_data"
    },
    {
     "data": {
      "application/vnd.jupyter.widget-view+json": {
       "model_id": "ada54654cdf8454b946d0bac1211a9c3",
       "version_major": 2,
       "version_minor": 0
      },
      "text/plain": [
       "model: 1/77, epoch: 12/20, params: hs=[32, 20, 18], ed=40, ac=5:   0%|          | 0/75 [00:00<?, ?it/s]"
      ]
     },
     "metadata": {},
     "output_type": "display_data"
    },
    {
     "data": {
      "application/vnd.jupyter.widget-view+json": {
       "model_id": "38b4773d7b7a4071b470f055b07d0d09",
       "version_major": 2,
       "version_minor": 0
      },
      "text/plain": [
       "model: 1/77, epoch: 13/20, params: hs=[32, 20, 18], ed=40, ac=5:   0%|          | 0/75 [00:00<?, ?it/s]"
      ]
     },
     "metadata": {},
     "output_type": "display_data"
    },
    {
     "data": {
      "application/vnd.jupyter.widget-view+json": {
       "model_id": "d71f1f5759da4237b73f70cd8fcc2ae7",
       "version_major": 2,
       "version_minor": 0
      },
      "text/plain": [
       "model: 1/77, epoch: 14/20, params: hs=[32, 20, 18], ed=40, ac=5:   0%|          | 0/75 [00:00<?, ?it/s]"
      ]
     },
     "metadata": {},
     "output_type": "display_data"
    },
    {
     "data": {
      "application/vnd.jupyter.widget-view+json": {
       "model_id": "f682f9d0928b4c89a859f4ee7bd61376",
       "version_major": 2,
       "version_minor": 0
      },
      "text/plain": [
       "model: 1/77, epoch: 15/20, params: hs=[32, 20, 18], ed=40, ac=5:   0%|          | 0/75 [00:00<?, ?it/s]"
      ]
     },
     "metadata": {},
     "output_type": "display_data"
    },
    {
     "data": {
      "application/vnd.jupyter.widget-view+json": {
       "model_id": "32a1173eb8d9483cba9c48702d5a2e50",
       "version_major": 2,
       "version_minor": 0
      },
      "text/plain": [
       "model: 1/77, epoch: 16/20, params: hs=[32, 20, 18], ed=40, ac=5:   0%|          | 0/75 [00:00<?, ?it/s]"
      ]
     },
     "metadata": {},
     "output_type": "display_data"
    },
    {
     "data": {
      "application/vnd.jupyter.widget-view+json": {
       "model_id": "8621152fe2094b52b45441ee03fdda27",
       "version_major": 2,
       "version_minor": 0
      },
      "text/plain": [
       "model: 1/77, epoch: 17/20, params: hs=[32, 20, 18], ed=40, ac=5:   0%|          | 0/75 [00:00<?, ?it/s]"
      ]
     },
     "metadata": {},
     "output_type": "display_data"
    },
    {
     "data": {
      "application/vnd.jupyter.widget-view+json": {
       "model_id": "57c6b7ada43446758a041c358bde37d8",
       "version_major": 2,
       "version_minor": 0
      },
      "text/plain": [
       "model: 1/77, epoch: 18/20, params: hs=[32, 20, 18], ed=40, ac=5:   0%|          | 0/75 [00:00<?, ?it/s]"
      ]
     },
     "metadata": {},
     "output_type": "display_data"
    },
    {
     "data": {
      "application/vnd.jupyter.widget-view+json": {
       "model_id": "90a624242850499e82e5fcb810e1a749",
       "version_major": 2,
       "version_minor": 0
      },
      "text/plain": [
       "model: 1/77, epoch: 19/20, params: hs=[32, 20, 18], ed=40, ac=5:   0%|          | 0/75 [00:00<?, ?it/s]"
      ]
     },
     "metadata": {},
     "output_type": "display_data"
    },
    {
     "data": {
      "application/vnd.jupyter.widget-view+json": {
       "model_id": "5c3e6d715f6041ebbcbd3b2805a87458",
       "version_major": 2,
       "version_minor": 0
      },
      "text/plain": [
       "model: 1/77, epoch: 20/20, params: hs=[32, 20, 18], ed=40, ac=5:   0%|          | 0/75 [00:00<?, ?it/s]"
      ]
     },
     "metadata": {},
     "output_type": "display_data"
    },
    {
     "data": {
      "application/vnd.jupyter.widget-view+json": {
       "model_id": "bcd8dea035c44821b114fd2674434a81",
       "version_major": 2,
       "version_minor": 0
      },
      "text/plain": [
       "model: 2/77, epoch: 1/20, params: hs=[7], ed=45, ac=3:   0%|          | 0/75 [00:00<?, ?it/s]"
      ]
     },
     "metadata": {},
     "output_type": "display_data"
    },
    {
     "data": {
      "application/vnd.jupyter.widget-view+json": {
       "model_id": "ccc2e0b015da462f9e1249b15e525285",
       "version_major": 2,
       "version_minor": 0
      },
      "text/plain": [
       "model: 2/77, epoch: 2/20, params: hs=[7], ed=45, ac=3:   0%|          | 0/75 [00:00<?, ?it/s]"
      ]
     },
     "metadata": {},
     "output_type": "display_data"
    },
    {
     "data": {
      "application/vnd.jupyter.widget-view+json": {
       "model_id": "c12a4936ff304a199da103d5b08afffa",
       "version_major": 2,
       "version_minor": 0
      },
      "text/plain": [
       "model: 2/77, epoch: 3/20, params: hs=[7], ed=45, ac=3:   0%|          | 0/75 [00:00<?, ?it/s]"
      ]
     },
     "metadata": {},
     "output_type": "display_data"
    },
    {
     "data": {
      "application/vnd.jupyter.widget-view+json": {
       "model_id": "a86fbc738c72477d93c8174c40967273",
       "version_major": 2,
       "version_minor": 0
      },
      "text/plain": [
       "model: 2/77, epoch: 4/20, params: hs=[7], ed=45, ac=3:   0%|          | 0/75 [00:00<?, ?it/s]"
      ]
     },
     "metadata": {},
     "output_type": "display_data"
    },
    {
     "data": {
      "application/vnd.jupyter.widget-view+json": {
       "model_id": "b47970565af74dfa951bbef99f2eee7a",
       "version_major": 2,
       "version_minor": 0
      },
      "text/plain": [
       "model: 2/77, epoch: 5/20, params: hs=[7], ed=45, ac=3:   0%|          | 0/75 [00:00<?, ?it/s]"
      ]
     },
     "metadata": {},
     "output_type": "display_data"
    },
    {
     "data": {
      "application/vnd.jupyter.widget-view+json": {
       "model_id": "781a2a76423e4c5fa5bbf72cc8e88151",
       "version_major": 2,
       "version_minor": 0
      },
      "text/plain": [
       "model: 2/77, epoch: 6/20, params: hs=[7], ed=45, ac=3:   0%|          | 0/75 [00:00<?, ?it/s]"
      ]
     },
     "metadata": {},
     "output_type": "display_data"
    },
    {
     "data": {
      "application/vnd.jupyter.widget-view+json": {
       "model_id": "7b69f637a2504ef5aa052534905ff7f1",
       "version_major": 2,
       "version_minor": 0
      },
      "text/plain": [
       "model: 2/77, epoch: 7/20, params: hs=[7], ed=45, ac=3:   0%|          | 0/75 [00:00<?, ?it/s]"
      ]
     },
     "metadata": {},
     "output_type": "display_data"
    },
    {
     "data": {
      "application/vnd.jupyter.widget-view+json": {
       "model_id": "1052f2a8622c49f983c4a4b1c2be5c3c",
       "version_major": 2,
       "version_minor": 0
      },
      "text/plain": [
       "model: 2/77, epoch: 8/20, params: hs=[7], ed=45, ac=3:   0%|          | 0/75 [00:00<?, ?it/s]"
      ]
     },
     "metadata": {},
     "output_type": "display_data"
    },
    {
     "data": {
      "application/vnd.jupyter.widget-view+json": {
       "model_id": "8f6669657f6f4e62b1f827f7700304e3",
       "version_major": 2,
       "version_minor": 0
      },
      "text/plain": [
       "model: 2/77, epoch: 9/20, params: hs=[7], ed=45, ac=3:   0%|          | 0/75 [00:00<?, ?it/s]"
      ]
     },
     "metadata": {},
     "output_type": "display_data"
    },
    {
     "data": {
      "application/vnd.jupyter.widget-view+json": {
       "model_id": "5ba1702ba357439aad26a9f13acbbf85",
       "version_major": 2,
       "version_minor": 0
      },
      "text/plain": [
       "model: 2/77, epoch: 10/20, params: hs=[7], ed=45, ac=3:   0%|          | 0/75 [00:00<?, ?it/s]"
      ]
     },
     "metadata": {},
     "output_type": "display_data"
    },
    {
     "data": {
      "application/vnd.jupyter.widget-view+json": {
       "model_id": "acbbd4245e084f75a111a089b7f7dff2",
       "version_major": 2,
       "version_minor": 0
      },
      "text/plain": [
       "model: 2/77, epoch: 11/20, params: hs=[7], ed=45, ac=3:   0%|          | 0/75 [00:00<?, ?it/s]"
      ]
     },
     "metadata": {},
     "output_type": "display_data"
    },
    {
     "data": {
      "application/vnd.jupyter.widget-view+json": {
       "model_id": "e6d344713b2145b6b6c118baa5c5d4ea",
       "version_major": 2,
       "version_minor": 0
      },
      "text/plain": [
       "model: 2/77, epoch: 12/20, params: hs=[7], ed=45, ac=3:   0%|          | 0/75 [00:00<?, ?it/s]"
      ]
     },
     "metadata": {},
     "output_type": "display_data"
    },
    {
     "data": {
      "application/vnd.jupyter.widget-view+json": {
       "model_id": "37bcb3996678429a83fae37200507c9e",
       "version_major": 2,
       "version_minor": 0
      },
      "text/plain": [
       "model: 2/77, epoch: 13/20, params: hs=[7], ed=45, ac=3:   0%|          | 0/75 [00:00<?, ?it/s]"
      ]
     },
     "metadata": {},
     "output_type": "display_data"
    },
    {
     "data": {
      "application/vnd.jupyter.widget-view+json": {
       "model_id": "2f79ee591f784b23be02cacc75834b53",
       "version_major": 2,
       "version_minor": 0
      },
      "text/plain": [
       "model: 2/77, epoch: 14/20, params: hs=[7], ed=45, ac=3:   0%|          | 0/75 [00:00<?, ?it/s]"
      ]
     },
     "metadata": {},
     "output_type": "display_data"
    },
    {
     "data": {
      "application/vnd.jupyter.widget-view+json": {
       "model_id": "4fde07326b724b99be293cfbe46f248c",
       "version_major": 2,
       "version_minor": 0
      },
      "text/plain": [
       "model: 2/77, epoch: 15/20, params: hs=[7], ed=45, ac=3:   0%|          | 0/75 [00:00<?, ?it/s]"
      ]
     },
     "metadata": {},
     "output_type": "display_data"
    },
    {
     "data": {
      "application/vnd.jupyter.widget-view+json": {
       "model_id": "0dfd093e390246328627ed34be2ce3b8",
       "version_major": 2,
       "version_minor": 0
      },
      "text/plain": [
       "model: 2/77, epoch: 16/20, params: hs=[7], ed=45, ac=3:   0%|          | 0/75 [00:00<?, ?it/s]"
      ]
     },
     "metadata": {},
     "output_type": "display_data"
    },
    {
     "data": {
      "application/vnd.jupyter.widget-view+json": {
       "model_id": "398c696a6bc04347a81cd1ccf95eecaf",
       "version_major": 2,
       "version_minor": 0
      },
      "text/plain": [
       "model: 2/77, epoch: 17/20, params: hs=[7], ed=45, ac=3:   0%|          | 0/75 [00:00<?, ?it/s]"
      ]
     },
     "metadata": {},
     "output_type": "display_data"
    },
    {
     "data": {
      "application/vnd.jupyter.widget-view+json": {
       "model_id": "7bbaf383c5c14d5aa578bee258d53bb3",
       "version_major": 2,
       "version_minor": 0
      },
      "text/plain": [
       "model: 2/77, epoch: 18/20, params: hs=[7], ed=45, ac=3:   0%|          | 0/75 [00:00<?, ?it/s]"
      ]
     },
     "metadata": {},
     "output_type": "display_data"
    },
    {
     "data": {
      "application/vnd.jupyter.widget-view+json": {
       "model_id": "07d9c883f0904bd8b2454ffbcd99322c",
       "version_major": 2,
       "version_minor": 0
      },
      "text/plain": [
       "model: 2/77, epoch: 19/20, params: hs=[7], ed=45, ac=3:   0%|          | 0/75 [00:00<?, ?it/s]"
      ]
     },
     "metadata": {},
     "output_type": "display_data"
    },
    {
     "data": {
      "application/vnd.jupyter.widget-view+json": {
       "model_id": "09e02bc2364a44a3b1d100b247f47858",
       "version_major": 2,
       "version_minor": 0
      },
      "text/plain": [
       "model: 2/77, epoch: 20/20, params: hs=[7], ed=45, ac=3:   0%|          | 0/75 [00:00<?, ?it/s]"
      ]
     },
     "metadata": {},
     "output_type": "display_data"
    },
    {
     "data": {
      "application/vnd.jupyter.widget-view+json": {
       "model_id": "74d9550b3aee49d793559b47d0429823",
       "version_major": 2,
       "version_minor": 0
      },
      "text/plain": [
       "model: 3/77, epoch: 1/20, params: hs=[6], ed=76, ac=2:   0%|          | 0/75 [00:00<?, ?it/s]"
      ]
     },
     "metadata": {},
     "output_type": "display_data"
    },
    {
     "data": {
      "application/vnd.jupyter.widget-view+json": {
       "model_id": "c1589edaae1843f4b3268e9da1f5818e",
       "version_major": 2,
       "version_minor": 0
      },
      "text/plain": [
       "model: 3/77, epoch: 2/20, params: hs=[6], ed=76, ac=2:   0%|          | 0/75 [00:00<?, ?it/s]"
      ]
     },
     "metadata": {},
     "output_type": "display_data"
    },
    {
     "data": {
      "application/vnd.jupyter.widget-view+json": {
       "model_id": "feb8eba1f2f949a3a6dfadd1afa82f97",
       "version_major": 2,
       "version_minor": 0
      },
      "text/plain": [
       "model: 3/77, epoch: 3/20, params: hs=[6], ed=76, ac=2:   0%|          | 0/75 [00:00<?, ?it/s]"
      ]
     },
     "metadata": {},
     "output_type": "display_data"
    },
    {
     "data": {
      "application/vnd.jupyter.widget-view+json": {
       "model_id": "ebbf11a5420f434b9c17db7798972767",
       "version_major": 2,
       "version_minor": 0
      },
      "text/plain": [
       "model: 3/77, epoch: 4/20, params: hs=[6], ed=76, ac=2:   0%|          | 0/75 [00:00<?, ?it/s]"
      ]
     },
     "metadata": {},
     "output_type": "display_data"
    },
    {
     "data": {
      "application/vnd.jupyter.widget-view+json": {
       "model_id": "d2f20ce2f40d493dbc581ccf065a653f",
       "version_major": 2,
       "version_minor": 0
      },
      "text/plain": [
       "model: 3/77, epoch: 5/20, params: hs=[6], ed=76, ac=2:   0%|          | 0/75 [00:00<?, ?it/s]"
      ]
     },
     "metadata": {},
     "output_type": "display_data"
    },
    {
     "data": {
      "application/vnd.jupyter.widget-view+json": {
       "model_id": "4c90d6deae8b45f080ce942145446162",
       "version_major": 2,
       "version_minor": 0
      },
      "text/plain": [
       "model: 3/77, epoch: 6/20, params: hs=[6], ed=76, ac=2:   0%|          | 0/75 [00:00<?, ?it/s]"
      ]
     },
     "metadata": {},
     "output_type": "display_data"
    },
    {
     "data": {
      "application/vnd.jupyter.widget-view+json": {
       "model_id": "a1d74c43380c42918c3f78431c9e8a0d",
       "version_major": 2,
       "version_minor": 0
      },
      "text/plain": [
       "model: 3/77, epoch: 7/20, params: hs=[6], ed=76, ac=2:   0%|          | 0/75 [00:00<?, ?it/s]"
      ]
     },
     "metadata": {},
     "output_type": "display_data"
    },
    {
     "data": {
      "application/vnd.jupyter.widget-view+json": {
       "model_id": "8882de27ec4e410e931b551da0a401e3",
       "version_major": 2,
       "version_minor": 0
      },
      "text/plain": [
       "model: 3/77, epoch: 8/20, params: hs=[6], ed=76, ac=2:   0%|          | 0/75 [00:00<?, ?it/s]"
      ]
     },
     "metadata": {},
     "output_type": "display_data"
    },
    {
     "data": {
      "application/vnd.jupyter.widget-view+json": {
       "model_id": "4fadcafab79641a9af66402fc435e6d1",
       "version_major": 2,
       "version_minor": 0
      },
      "text/plain": [
       "model: 3/77, epoch: 9/20, params: hs=[6], ed=76, ac=2:   0%|          | 0/75 [00:00<?, ?it/s]"
      ]
     },
     "metadata": {},
     "output_type": "display_data"
    },
    {
     "data": {
      "application/vnd.jupyter.widget-view+json": {
       "model_id": "b23a83b16e894b49bf8cf7ffcb53318d",
       "version_major": 2,
       "version_minor": 0
      },
      "text/plain": [
       "model: 3/77, epoch: 10/20, params: hs=[6], ed=76, ac=2:   0%|          | 0/75 [00:00<?, ?it/s]"
      ]
     },
     "metadata": {},
     "output_type": "display_data"
    },
    {
     "data": {
      "application/vnd.jupyter.widget-view+json": {
       "model_id": "dbd7a4c71c09439baf391df731b8281e",
       "version_major": 2,
       "version_minor": 0
      },
      "text/plain": [
       "model: 3/77, epoch: 11/20, params: hs=[6], ed=76, ac=2:   0%|          | 0/75 [00:00<?, ?it/s]"
      ]
     },
     "metadata": {},
     "output_type": "display_data"
    },
    {
     "data": {
      "application/vnd.jupyter.widget-view+json": {
       "model_id": "ba85ca9aa3f04276b6629748fd6e6097",
       "version_major": 2,
       "version_minor": 0
      },
      "text/plain": [
       "model: 3/77, epoch: 12/20, params: hs=[6], ed=76, ac=2:   0%|          | 0/75 [00:00<?, ?it/s]"
      ]
     },
     "metadata": {},
     "output_type": "display_data"
    },
    {
     "data": {
      "application/vnd.jupyter.widget-view+json": {
       "model_id": "bb58dc99c4684f57a46efc020598af30",
       "version_major": 2,
       "version_minor": 0
      },
      "text/plain": [
       "model: 3/77, epoch: 13/20, params: hs=[6], ed=76, ac=2:   0%|          | 0/75 [00:00<?, ?it/s]"
      ]
     },
     "metadata": {},
     "output_type": "display_data"
    },
    {
     "data": {
      "application/vnd.jupyter.widget-view+json": {
       "model_id": "67eb73b483b3474ebd18038602039cc3",
       "version_major": 2,
       "version_minor": 0
      },
      "text/plain": [
       "model: 3/77, epoch: 14/20, params: hs=[6], ed=76, ac=2:   0%|          | 0/75 [00:00<?, ?it/s]"
      ]
     },
     "metadata": {},
     "output_type": "display_data"
    },
    {
     "data": {
      "application/vnd.jupyter.widget-view+json": {
       "model_id": "ee0c9ddcb17a479f80e0c8f282aea8c7",
       "version_major": 2,
       "version_minor": 0
      },
      "text/plain": [
       "model: 3/77, epoch: 15/20, params: hs=[6], ed=76, ac=2:   0%|          | 0/75 [00:00<?, ?it/s]"
      ]
     },
     "metadata": {},
     "output_type": "display_data"
    },
    {
     "data": {
      "application/vnd.jupyter.widget-view+json": {
       "model_id": "2f2a6308c35d4927a3b66be25fc1d7b9",
       "version_major": 2,
       "version_minor": 0
      },
      "text/plain": [
       "model: 3/77, epoch: 16/20, params: hs=[6], ed=76, ac=2:   0%|          | 0/75 [00:00<?, ?it/s]"
      ]
     },
     "metadata": {},
     "output_type": "display_data"
    },
    {
     "data": {
      "application/vnd.jupyter.widget-view+json": {
       "model_id": "079220b628744d44a2830445dc671c50",
       "version_major": 2,
       "version_minor": 0
      },
      "text/plain": [
       "model: 3/77, epoch: 17/20, params: hs=[6], ed=76, ac=2:   0%|          | 0/75 [00:00<?, ?it/s]"
      ]
     },
     "metadata": {},
     "output_type": "display_data"
    },
    {
     "data": {
      "application/vnd.jupyter.widget-view+json": {
       "model_id": "0317e65f9e9942688f2fd82fd85f4e6a",
       "version_major": 2,
       "version_minor": 0
      },
      "text/plain": [
       "model: 3/77, epoch: 18/20, params: hs=[6], ed=76, ac=2:   0%|          | 0/75 [00:00<?, ?it/s]"
      ]
     },
     "metadata": {},
     "output_type": "display_data"
    },
    {
     "data": {
      "application/vnd.jupyter.widget-view+json": {
       "model_id": "c8464bf677324a2e8f15ef064a3773b3",
       "version_major": 2,
       "version_minor": 0
      },
      "text/plain": [
       "model: 3/77, epoch: 19/20, params: hs=[6], ed=76, ac=2:   0%|          | 0/75 [00:00<?, ?it/s]"
      ]
     },
     "metadata": {},
     "output_type": "display_data"
    },
    {
     "data": {
      "application/vnd.jupyter.widget-view+json": {
       "model_id": "f20f29789d3a4b258cf0a2dc9da470ac",
       "version_major": 2,
       "version_minor": 0
      },
      "text/plain": [
       "model: 3/77, epoch: 20/20, params: hs=[6], ed=76, ac=2:   0%|          | 0/75 [00:00<?, ?it/s]"
      ]
     },
     "metadata": {},
     "output_type": "display_data"
    },
    {
     "data": {
      "application/vnd.jupyter.widget-view+json": {
       "model_id": "6fad7d9221a6421f80a7a902ea4a147b",
       "version_major": 2,
       "version_minor": 0
      },
      "text/plain": [
       "model: 4/77, epoch: 1/20, params: hs=[17], ed=73, ac=3:   0%|          | 0/75 [00:00<?, ?it/s]"
      ]
     },
     "metadata": {},
     "output_type": "display_data"
    },
    {
     "data": {
      "application/vnd.jupyter.widget-view+json": {
       "model_id": "625874e8d39c4b3997ca13e62b6f8255",
       "version_major": 2,
       "version_minor": 0
      },
      "text/plain": [
       "model: 4/77, epoch: 2/20, params: hs=[17], ed=73, ac=3:   0%|          | 0/75 [00:00<?, ?it/s]"
      ]
     },
     "metadata": {},
     "output_type": "display_data"
    },
    {
     "data": {
      "application/vnd.jupyter.widget-view+json": {
       "model_id": "dc0d3f3ce14e42d2afccbdaad7dab6f7",
       "version_major": 2,
       "version_minor": 0
      },
      "text/plain": [
       "model: 4/77, epoch: 3/20, params: hs=[17], ed=73, ac=3:   0%|          | 0/75 [00:00<?, ?it/s]"
      ]
     },
     "metadata": {},
     "output_type": "display_data"
    },
    {
     "data": {
      "application/vnd.jupyter.widget-view+json": {
       "model_id": "f491666705b64812a777194189de884d",
       "version_major": 2,
       "version_minor": 0
      },
      "text/plain": [
       "model: 4/77, epoch: 4/20, params: hs=[17], ed=73, ac=3:   0%|          | 0/75 [00:00<?, ?it/s]"
      ]
     },
     "metadata": {},
     "output_type": "display_data"
    },
    {
     "data": {
      "application/vnd.jupyter.widget-view+json": {
       "model_id": "2ce3d95d80bb4017822ea85607fc04d4",
       "version_major": 2,
       "version_minor": 0
      },
      "text/plain": [
       "model: 4/77, epoch: 5/20, params: hs=[17], ed=73, ac=3:   0%|          | 0/75 [00:00<?, ?it/s]"
      ]
     },
     "metadata": {},
     "output_type": "display_data"
    },
    {
     "data": {
      "application/vnd.jupyter.widget-view+json": {
       "model_id": "f339d5461c7c4cf9b9848b1eb6e18079",
       "version_major": 2,
       "version_minor": 0
      },
      "text/plain": [
       "model: 4/77, epoch: 6/20, params: hs=[17], ed=73, ac=3:   0%|          | 0/75 [00:00<?, ?it/s]"
      ]
     },
     "metadata": {},
     "output_type": "display_data"
    },
    {
     "data": {
      "application/vnd.jupyter.widget-view+json": {
       "model_id": "46609e6e6caf49db814e82ddd7590666",
       "version_major": 2,
       "version_minor": 0
      },
      "text/plain": [
       "model: 4/77, epoch: 7/20, params: hs=[17], ed=73, ac=3:   0%|          | 0/75 [00:00<?, ?it/s]"
      ]
     },
     "metadata": {},
     "output_type": "display_data"
    },
    {
     "data": {
      "application/vnd.jupyter.widget-view+json": {
       "model_id": "d7344ad39b814944aabc91199e8eecf6",
       "version_major": 2,
       "version_minor": 0
      },
      "text/plain": [
       "model: 4/77, epoch: 8/20, params: hs=[17], ed=73, ac=3:   0%|          | 0/75 [00:00<?, ?it/s]"
      ]
     },
     "metadata": {},
     "output_type": "display_data"
    },
    {
     "data": {
      "application/vnd.jupyter.widget-view+json": {
       "model_id": "18ccb86520fe4f4bbd6b38a920d0c71c",
       "version_major": 2,
       "version_minor": 0
      },
      "text/plain": [
       "model: 4/77, epoch: 9/20, params: hs=[17], ed=73, ac=3:   0%|          | 0/75 [00:00<?, ?it/s]"
      ]
     },
     "metadata": {},
     "output_type": "display_data"
    },
    {
     "data": {
      "application/vnd.jupyter.widget-view+json": {
       "model_id": "a8944987aa834067b77b67bac715a51d",
       "version_major": 2,
       "version_minor": 0
      },
      "text/plain": [
       "model: 4/77, epoch: 10/20, params: hs=[17], ed=73, ac=3:   0%|          | 0/75 [00:00<?, ?it/s]"
      ]
     },
     "metadata": {},
     "output_type": "display_data"
    },
    {
     "data": {
      "application/vnd.jupyter.widget-view+json": {
       "model_id": "2416b32963944a8f828fcea7d84e8fd4",
       "version_major": 2,
       "version_minor": 0
      },
      "text/plain": [
       "model: 4/77, epoch: 11/20, params: hs=[17], ed=73, ac=3:   0%|          | 0/75 [00:00<?, ?it/s]"
      ]
     },
     "metadata": {},
     "output_type": "display_data"
    },
    {
     "data": {
      "application/vnd.jupyter.widget-view+json": {
       "model_id": "6d517ee6dcd245d7913b665d5f86e6b6",
       "version_major": 2,
       "version_minor": 0
      },
      "text/plain": [
       "model: 4/77, epoch: 12/20, params: hs=[17], ed=73, ac=3:   0%|          | 0/75 [00:00<?, ?it/s]"
      ]
     },
     "metadata": {},
     "output_type": "display_data"
    },
    {
     "data": {
      "application/vnd.jupyter.widget-view+json": {
       "model_id": "df3b173e122a4cae8d3afb00dd2160d9",
       "version_major": 2,
       "version_minor": 0
      },
      "text/plain": [
       "model: 4/77, epoch: 13/20, params: hs=[17], ed=73, ac=3:   0%|          | 0/75 [00:00<?, ?it/s]"
      ]
     },
     "metadata": {},
     "output_type": "display_data"
    },
    {
     "data": {
      "application/vnd.jupyter.widget-view+json": {
       "model_id": "ee30b42c3c644cdbb45df18d75121171",
       "version_major": 2,
       "version_minor": 0
      },
      "text/plain": [
       "model: 4/77, epoch: 14/20, params: hs=[17], ed=73, ac=3:   0%|          | 0/75 [00:00<?, ?it/s]"
      ]
     },
     "metadata": {},
     "output_type": "display_data"
    },
    {
     "data": {
      "application/vnd.jupyter.widget-view+json": {
       "model_id": "5d7a3ff537184762b7df565da09bbd15",
       "version_major": 2,
       "version_minor": 0
      },
      "text/plain": [
       "model: 4/77, epoch: 15/20, params: hs=[17], ed=73, ac=3:   0%|          | 0/75 [00:00<?, ?it/s]"
      ]
     },
     "metadata": {},
     "output_type": "display_data"
    },
    {
     "data": {
      "application/vnd.jupyter.widget-view+json": {
       "model_id": "4ee19c1f7d6d4aceb5ffd2b7a6818606",
       "version_major": 2,
       "version_minor": 0
      },
      "text/plain": [
       "model: 4/77, epoch: 16/20, params: hs=[17], ed=73, ac=3:   0%|          | 0/75 [00:00<?, ?it/s]"
      ]
     },
     "metadata": {},
     "output_type": "display_data"
    },
    {
     "data": {
      "application/vnd.jupyter.widget-view+json": {
       "model_id": "ed6af21cad4b4a78bf84f056ef849f18",
       "version_major": 2,
       "version_minor": 0
      },
      "text/plain": [
       "model: 4/77, epoch: 17/20, params: hs=[17], ed=73, ac=3:   0%|          | 0/75 [00:00<?, ?it/s]"
      ]
     },
     "metadata": {},
     "output_type": "display_data"
    },
    {
     "data": {
      "application/vnd.jupyter.widget-view+json": {
       "model_id": "e518eb29358f4ac8b5628951dc536e7e",
       "version_major": 2,
       "version_minor": 0
      },
      "text/plain": [
       "model: 4/77, epoch: 18/20, params: hs=[17], ed=73, ac=3:   0%|          | 0/75 [00:00<?, ?it/s]"
      ]
     },
     "metadata": {},
     "output_type": "display_data"
    },
    {
     "data": {
      "application/vnd.jupyter.widget-view+json": {
       "model_id": "5e1a9e9ea402457fb5995a5b132f57cd",
       "version_major": 2,
       "version_minor": 0
      },
      "text/plain": [
       "model: 4/77, epoch: 19/20, params: hs=[17], ed=73, ac=3:   0%|          | 0/75 [00:00<?, ?it/s]"
      ]
     },
     "metadata": {},
     "output_type": "display_data"
    },
    {
     "data": {
      "application/vnd.jupyter.widget-view+json": {
       "model_id": "0cea4c2afb9d47229b0d8885faa484c2",
       "version_major": 2,
       "version_minor": 0
      },
      "text/plain": [
       "model: 4/77, epoch: 20/20, params: hs=[17], ed=73, ac=3:   0%|          | 0/75 [00:00<?, ?it/s]"
      ]
     },
     "metadata": {},
     "output_type": "display_data"
    },
    {
     "data": {
      "application/vnd.jupyter.widget-view+json": {
       "model_id": "29e8f95e78bb4e3289f5c6af9b4f28aa",
       "version_major": 2,
       "version_minor": 0
      },
      "text/plain": [
       "model: 5/77, epoch: 1/20, params: hs=[18, 13, 32, 7], ed=92, ac=3:   0%|          | 0/75 [00:00<?, ?it/s]"
      ]
     },
     "metadata": {},
     "output_type": "display_data"
    },
    {
     "data": {
      "application/vnd.jupyter.widget-view+json": {
       "model_id": "4f6feeef53704e4a8b89efe6293c9b01",
       "version_major": 2,
       "version_minor": 0
      },
      "text/plain": [
       "model: 6/77, epoch: 1/20, params: hs=[4], ed=72, ac=5:   0%|          | 0/75 [00:00<?, ?it/s]"
      ]
     },
     "metadata": {},
     "output_type": "display_data"
    },
    {
     "data": {
      "application/vnd.jupyter.widget-view+json": {
       "model_id": "41ea2e7a03e5441eba9e97562cf6bf5b",
       "version_major": 2,
       "version_minor": 0
      },
      "text/plain": [
       "model: 6/77, epoch: 2/20, params: hs=[4], ed=72, ac=5:   0%|          | 0/75 [00:00<?, ?it/s]"
      ]
     },
     "metadata": {},
     "output_type": "display_data"
    },
    {
     "data": {
      "application/vnd.jupyter.widget-view+json": {
       "model_id": "0cdec27a81084fb7993b7e52eca4ee5e",
       "version_major": 2,
       "version_minor": 0
      },
      "text/plain": [
       "model: 6/77, epoch: 3/20, params: hs=[4], ed=72, ac=5:   0%|          | 0/75 [00:00<?, ?it/s]"
      ]
     },
     "metadata": {},
     "output_type": "display_data"
    },
    {
     "data": {
      "application/vnd.jupyter.widget-view+json": {
       "model_id": "b979f47614a64f3fb78f06471f54b902",
       "version_major": 2,
       "version_minor": 0
      },
      "text/plain": [
       "model: 6/77, epoch: 4/20, params: hs=[4], ed=72, ac=5:   0%|          | 0/75 [00:00<?, ?it/s]"
      ]
     },
     "metadata": {},
     "output_type": "display_data"
    },
    {
     "data": {
      "application/vnd.jupyter.widget-view+json": {
       "model_id": "b613c7a756e948f8af7100f102715885",
       "version_major": 2,
       "version_minor": 0
      },
      "text/plain": [
       "model: 6/77, epoch: 5/20, params: hs=[4], ed=72, ac=5:   0%|          | 0/75 [00:00<?, ?it/s]"
      ]
     },
     "metadata": {},
     "output_type": "display_data"
    },
    {
     "data": {
      "application/vnd.jupyter.widget-view+json": {
       "model_id": "d6f9fe1309c64aacac2692971c6d6c43",
       "version_major": 2,
       "version_minor": 0
      },
      "text/plain": [
       "model: 6/77, epoch: 6/20, params: hs=[4], ed=72, ac=5:   0%|          | 0/75 [00:00<?, ?it/s]"
      ]
     },
     "metadata": {},
     "output_type": "display_data"
    },
    {
     "data": {
      "application/vnd.jupyter.widget-view+json": {
       "model_id": "886a65cf48864463af3843da0da5af88",
       "version_major": 2,
       "version_minor": 0
      },
      "text/plain": [
       "model: 6/77, epoch: 7/20, params: hs=[4], ed=72, ac=5:   0%|          | 0/75 [00:00<?, ?it/s]"
      ]
     },
     "metadata": {},
     "output_type": "display_data"
    },
    {
     "data": {
      "application/vnd.jupyter.widget-view+json": {
       "model_id": "eb3c12a061984865946365609462a352",
       "version_major": 2,
       "version_minor": 0
      },
      "text/plain": [
       "model: 6/77, epoch: 8/20, params: hs=[4], ed=72, ac=5:   0%|          | 0/75 [00:00<?, ?it/s]"
      ]
     },
     "metadata": {},
     "output_type": "display_data"
    },
    {
     "data": {
      "application/vnd.jupyter.widget-view+json": {
       "model_id": "28e436a45e654aa5a9bea9be4f3c8d73",
       "version_major": 2,
       "version_minor": 0
      },
      "text/plain": [
       "model: 6/77, epoch: 9/20, params: hs=[4], ed=72, ac=5:   0%|          | 0/75 [00:00<?, ?it/s]"
      ]
     },
     "metadata": {},
     "output_type": "display_data"
    },
    {
     "data": {
      "application/vnd.jupyter.widget-view+json": {
       "model_id": "8c23a89dd0d94e03a2baa8e10889a3e1",
       "version_major": 2,
       "version_minor": 0
      },
      "text/plain": [
       "model: 6/77, epoch: 10/20, params: hs=[4], ed=72, ac=5:   0%|          | 0/75 [00:00<?, ?it/s]"
      ]
     },
     "metadata": {},
     "output_type": "display_data"
    },
    {
     "data": {
      "application/vnd.jupyter.widget-view+json": {
       "model_id": "9396d6392c544fc2a0754c9af0513ad8",
       "version_major": 2,
       "version_minor": 0
      },
      "text/plain": [
       "model: 6/77, epoch: 11/20, params: hs=[4], ed=72, ac=5:   0%|          | 0/75 [00:00<?, ?it/s]"
      ]
     },
     "metadata": {},
     "output_type": "display_data"
    },
    {
     "data": {
      "application/vnd.jupyter.widget-view+json": {
       "model_id": "edff7796150a4aca972e342234593e99",
       "version_major": 2,
       "version_minor": 0
      },
      "text/plain": [
       "model: 6/77, epoch: 12/20, params: hs=[4], ed=72, ac=5:   0%|          | 0/75 [00:00<?, ?it/s]"
      ]
     },
     "metadata": {},
     "output_type": "display_data"
    },
    {
     "data": {
      "application/vnd.jupyter.widget-view+json": {
       "model_id": "6d68b532b13e435dbee5f112f6a7edc4",
       "version_major": 2,
       "version_minor": 0
      },
      "text/plain": [
       "model: 6/77, epoch: 13/20, params: hs=[4], ed=72, ac=5:   0%|          | 0/75 [00:00<?, ?it/s]"
      ]
     },
     "metadata": {},
     "output_type": "display_data"
    },
    {
     "data": {
      "application/vnd.jupyter.widget-view+json": {
       "model_id": "6297d199ea0841e18504934b5c96bb3b",
       "version_major": 2,
       "version_minor": 0
      },
      "text/plain": [
       "model: 6/77, epoch: 14/20, params: hs=[4], ed=72, ac=5:   0%|          | 0/75 [00:00<?, ?it/s]"
      ]
     },
     "metadata": {},
     "output_type": "display_data"
    },
    {
     "data": {
      "application/vnd.jupyter.widget-view+json": {
       "model_id": "eeb09f71c4674769badc0aa6a37ee8fe",
       "version_major": 2,
       "version_minor": 0
      },
      "text/plain": [
       "model: 6/77, epoch: 15/20, params: hs=[4], ed=72, ac=5:   0%|          | 0/75 [00:00<?, ?it/s]"
      ]
     },
     "metadata": {},
     "output_type": "display_data"
    },
    {
     "data": {
      "application/vnd.jupyter.widget-view+json": {
       "model_id": "e2b7f0e56ea748c88e6128c286e4a05f",
       "version_major": 2,
       "version_minor": 0
      },
      "text/plain": [
       "model: 6/77, epoch: 16/20, params: hs=[4], ed=72, ac=5:   0%|          | 0/75 [00:00<?, ?it/s]"
      ]
     },
     "metadata": {},
     "output_type": "display_data"
    },
    {
     "data": {
      "application/vnd.jupyter.widget-view+json": {
       "model_id": "dd329c73e4634d1889fe91724dd5383a",
       "version_major": 2,
       "version_minor": 0
      },
      "text/plain": [
       "model: 6/77, epoch: 17/20, params: hs=[4], ed=72, ac=5:   0%|          | 0/75 [00:00<?, ?it/s]"
      ]
     },
     "metadata": {},
     "output_type": "display_data"
    },
    {
     "data": {
      "application/vnd.jupyter.widget-view+json": {
       "model_id": "e891f637cd904e5cbcc0017047509859",
       "version_major": 2,
       "version_minor": 0
      },
      "text/plain": [
       "model: 6/77, epoch: 18/20, params: hs=[4], ed=72, ac=5:   0%|          | 0/75 [00:00<?, ?it/s]"
      ]
     },
     "metadata": {},
     "output_type": "display_data"
    },
    {
     "data": {
      "application/vnd.jupyter.widget-view+json": {
       "model_id": "2f28b3482c6b4c2986f9ca9c19413e47",
       "version_major": 2,
       "version_minor": 0
      },
      "text/plain": [
       "model: 6/77, epoch: 19/20, params: hs=[4], ed=72, ac=5:   0%|          | 0/75 [00:00<?, ?it/s]"
      ]
     },
     "metadata": {},
     "output_type": "display_data"
    },
    {
     "data": {
      "application/vnd.jupyter.widget-view+json": {
       "model_id": "92c0c60337ce48b5b9bc8f371bb88dbc",
       "version_major": 2,
       "version_minor": 0
      },
      "text/plain": [
       "model: 6/77, epoch: 20/20, params: hs=[4], ed=72, ac=5:   0%|          | 0/75 [00:00<?, ?it/s]"
      ]
     },
     "metadata": {},
     "output_type": "display_data"
    },
    {
     "data": {
      "application/vnd.jupyter.widget-view+json": {
       "model_id": "b49230ceae03423dbfea4f3082ee89aa",
       "version_major": 2,
       "version_minor": 0
      },
      "text/plain": [
       "model: 7/77, epoch: 1/20, params: hs=[10, 23], ed=93, ac=3:   0%|          | 0/75 [00:00<?, ?it/s]"
      ]
     },
     "metadata": {},
     "output_type": "display_data"
    },
    {
     "data": {
      "application/vnd.jupyter.widget-view+json": {
       "model_id": "f786d8a0f651485faf4558e4ee6a44ea",
       "version_major": 2,
       "version_minor": 0
      },
      "text/plain": [
       "model: 7/77, epoch: 2/20, params: hs=[10, 23], ed=93, ac=3:   0%|          | 0/75 [00:00<?, ?it/s]"
      ]
     },
     "metadata": {},
     "output_type": "display_data"
    },
    {
     "data": {
      "application/vnd.jupyter.widget-view+json": {
       "model_id": "de62b24d25c2491fa8c51ad9e033570f",
       "version_major": 2,
       "version_minor": 0
      },
      "text/plain": [
       "model: 7/77, epoch: 3/20, params: hs=[10, 23], ed=93, ac=3:   0%|          | 0/75 [00:00<?, ?it/s]"
      ]
     },
     "metadata": {},
     "output_type": "display_data"
    },
    {
     "data": {
      "application/vnd.jupyter.widget-view+json": {
       "model_id": "af1b888a37ec433b80f132912be4772d",
       "version_major": 2,
       "version_minor": 0
      },
      "text/plain": [
       "model: 7/77, epoch: 4/20, params: hs=[10, 23], ed=93, ac=3:   0%|          | 0/75 [00:00<?, ?it/s]"
      ]
     },
     "metadata": {},
     "output_type": "display_data"
    },
    {
     "data": {
      "application/vnd.jupyter.widget-view+json": {
       "model_id": "10150227058346f08bde8add41ac61ab",
       "version_major": 2,
       "version_minor": 0
      },
      "text/plain": [
       "model: 7/77, epoch: 5/20, params: hs=[10, 23], ed=93, ac=3:   0%|          | 0/75 [00:00<?, ?it/s]"
      ]
     },
     "metadata": {},
     "output_type": "display_data"
    },
    {
     "data": {
      "application/vnd.jupyter.widget-view+json": {
       "model_id": "7fdeeee46eea43bdb7c01023e5130036",
       "version_major": 2,
       "version_minor": 0
      },
      "text/plain": [
       "model: 7/77, epoch: 6/20, params: hs=[10, 23], ed=93, ac=3:   0%|          | 0/75 [00:00<?, ?it/s]"
      ]
     },
     "metadata": {},
     "output_type": "display_data"
    },
    {
     "data": {
      "application/vnd.jupyter.widget-view+json": {
       "model_id": "f906875cd9254a9fb5b2f1b85a4d1a61",
       "version_major": 2,
       "version_minor": 0
      },
      "text/plain": [
       "model: 7/77, epoch: 7/20, params: hs=[10, 23], ed=93, ac=3:   0%|          | 0/75 [00:00<?, ?it/s]"
      ]
     },
     "metadata": {},
     "output_type": "display_data"
    },
    {
     "data": {
      "application/vnd.jupyter.widget-view+json": {
       "model_id": "c2432b45897d45dfb449d4feec137d2e",
       "version_major": 2,
       "version_minor": 0
      },
      "text/plain": [
       "model: 7/77, epoch: 8/20, params: hs=[10, 23], ed=93, ac=3:   0%|          | 0/75 [00:00<?, ?it/s]"
      ]
     },
     "metadata": {},
     "output_type": "display_data"
    },
    {
     "data": {
      "application/vnd.jupyter.widget-view+json": {
       "model_id": "835603cb254f4fee8b4a198316c2ffc3",
       "version_major": 2,
       "version_minor": 0
      },
      "text/plain": [
       "model: 7/77, epoch: 9/20, params: hs=[10, 23], ed=93, ac=3:   0%|          | 0/75 [00:00<?, ?it/s]"
      ]
     },
     "metadata": {},
     "output_type": "display_data"
    },
    {
     "data": {
      "application/vnd.jupyter.widget-view+json": {
       "model_id": "1bfdf86c35554530b007d7e49598a6a9",
       "version_major": 2,
       "version_minor": 0
      },
      "text/plain": [
       "model: 7/77, epoch: 10/20, params: hs=[10, 23], ed=93, ac=3:   0%|          | 0/75 [00:00<?, ?it/s]"
      ]
     },
     "metadata": {},
     "output_type": "display_data"
    },
    {
     "data": {
      "application/vnd.jupyter.widget-view+json": {
       "model_id": "96e307e8d9044006a014044573c5d4b7",
       "version_major": 2,
       "version_minor": 0
      },
      "text/plain": [
       "model: 7/77, epoch: 11/20, params: hs=[10, 23], ed=93, ac=3:   0%|          | 0/75 [00:00<?, ?it/s]"
      ]
     },
     "metadata": {},
     "output_type": "display_data"
    },
    {
     "data": {
      "application/vnd.jupyter.widget-view+json": {
       "model_id": "fb83690d2dd24e39b0c024f3f6ee21ab",
       "version_major": 2,
       "version_minor": 0
      },
      "text/plain": [
       "model: 7/77, epoch: 12/20, params: hs=[10, 23], ed=93, ac=3:   0%|          | 0/75 [00:00<?, ?it/s]"
      ]
     },
     "metadata": {},
     "output_type": "display_data"
    },
    {
     "data": {
      "application/vnd.jupyter.widget-view+json": {
       "model_id": "b4a0f028b08d4e64aa2e47fd75d9fa19",
       "version_major": 2,
       "version_minor": 0
      },
      "text/plain": [
       "model: 7/77, epoch: 13/20, params: hs=[10, 23], ed=93, ac=3:   0%|          | 0/75 [00:00<?, ?it/s]"
      ]
     },
     "metadata": {},
     "output_type": "display_data"
    },
    {
     "data": {
      "application/vnd.jupyter.widget-view+json": {
       "model_id": "7fe45cb93b1e4dbdabe2095bc47b95ca",
       "version_major": 2,
       "version_minor": 0
      },
      "text/plain": [
       "model: 7/77, epoch: 14/20, params: hs=[10, 23], ed=93, ac=3:   0%|          | 0/75 [00:00<?, ?it/s]"
      ]
     },
     "metadata": {},
     "output_type": "display_data"
    },
    {
     "data": {
      "application/vnd.jupyter.widget-view+json": {
       "model_id": "e582d7f5b3f14b9e87a8b5dcb27add06",
       "version_major": 2,
       "version_minor": 0
      },
      "text/plain": [
       "model: 7/77, epoch: 15/20, params: hs=[10, 23], ed=93, ac=3:   0%|          | 0/75 [00:00<?, ?it/s]"
      ]
     },
     "metadata": {},
     "output_type": "display_data"
    },
    {
     "data": {
      "application/vnd.jupyter.widget-view+json": {
       "model_id": "0e7789321c5944b9badd1602d19342a7",
       "version_major": 2,
       "version_minor": 0
      },
      "text/plain": [
       "model: 7/77, epoch: 16/20, params: hs=[10, 23], ed=93, ac=3:   0%|          | 0/75 [00:00<?, ?it/s]"
      ]
     },
     "metadata": {},
     "output_type": "display_data"
    },
    {
     "data": {
      "application/vnd.jupyter.widget-view+json": {
       "model_id": "17276879c11b41fdaa2c4834bbdb4e26",
       "version_major": 2,
       "version_minor": 0
      },
      "text/plain": [
       "model: 7/77, epoch: 17/20, params: hs=[10, 23], ed=93, ac=3:   0%|          | 0/75 [00:00<?, ?it/s]"
      ]
     },
     "metadata": {},
     "output_type": "display_data"
    },
    {
     "data": {
      "application/vnd.jupyter.widget-view+json": {
       "model_id": "7cef15c5b48f489f9df3c7efe82a9073",
       "version_major": 2,
       "version_minor": 0
      },
      "text/plain": [
       "model: 7/77, epoch: 18/20, params: hs=[10, 23], ed=93, ac=3:   0%|          | 0/75 [00:00<?, ?it/s]"
      ]
     },
     "metadata": {},
     "output_type": "display_data"
    },
    {
     "data": {
      "application/vnd.jupyter.widget-view+json": {
       "model_id": "ef90d8e258aa476585cc305b3b965d0c",
       "version_major": 2,
       "version_minor": 0
      },
      "text/plain": [
       "model: 7/77, epoch: 19/20, params: hs=[10, 23], ed=93, ac=3:   0%|          | 0/75 [00:00<?, ?it/s]"
      ]
     },
     "metadata": {},
     "output_type": "display_data"
    },
    {
     "data": {
      "application/vnd.jupyter.widget-view+json": {
       "model_id": "bb962e2456c64444b278672473335489",
       "version_major": 2,
       "version_minor": 0
      },
      "text/plain": [
       "model: 7/77, epoch: 20/20, params: hs=[10, 23], ed=93, ac=3:   0%|          | 0/75 [00:00<?, ?it/s]"
      ]
     },
     "metadata": {},
     "output_type": "display_data"
    },
    {
     "data": {
      "application/vnd.jupyter.widget-view+json": {
       "model_id": "3b33a431988e4af9b29d399f5f0b26ad",
       "version_major": 2,
       "version_minor": 0
      },
      "text/plain": [
       "model: 8/77, epoch: 1/20, params: hs=[21, 31, 26], ed=37, ac=5:   0%|          | 0/75 [00:00<?, ?it/s]"
      ]
     },
     "metadata": {},
     "output_type": "display_data"
    },
    {
     "data": {
      "application/vnd.jupyter.widget-view+json": {
       "model_id": "e4e0b18ec30a456f9a5308314b25374c",
       "version_major": 2,
       "version_minor": 0
      },
      "text/plain": [
       "model: 8/77, epoch: 2/20, params: hs=[21, 31, 26], ed=37, ac=5:   0%|          | 0/75 [00:00<?, ?it/s]"
      ]
     },
     "metadata": {},
     "output_type": "display_data"
    },
    {
     "data": {
      "application/vnd.jupyter.widget-view+json": {
       "model_id": "642d8bff908847d09727b06e0d6babd6",
       "version_major": 2,
       "version_minor": 0
      },
      "text/plain": [
       "model: 8/77, epoch: 3/20, params: hs=[21, 31, 26], ed=37, ac=5:   0%|          | 0/75 [00:00<?, ?it/s]"
      ]
     },
     "metadata": {},
     "output_type": "display_data"
    },
    {
     "data": {
      "application/vnd.jupyter.widget-view+json": {
       "model_id": "f20e2e2f5f4a4502a92dc21dfbbff29b",
       "version_major": 2,
       "version_minor": 0
      },
      "text/plain": [
       "model: 8/77, epoch: 4/20, params: hs=[21, 31, 26], ed=37, ac=5:   0%|          | 0/75 [00:00<?, ?it/s]"
      ]
     },
     "metadata": {},
     "output_type": "display_data"
    },
    {
     "data": {
      "application/vnd.jupyter.widget-view+json": {
       "model_id": "93f0a6f1f59e4cc99febb364bedb334c",
       "version_major": 2,
       "version_minor": 0
      },
      "text/plain": [
       "model: 8/77, epoch: 5/20, params: hs=[21, 31, 26], ed=37, ac=5:   0%|          | 0/75 [00:00<?, ?it/s]"
      ]
     },
     "metadata": {},
     "output_type": "display_data"
    },
    {
     "data": {
      "application/vnd.jupyter.widget-view+json": {
       "model_id": "ab69c0ae18d54ca6a43acca198823885",
       "version_major": 2,
       "version_minor": 0
      },
      "text/plain": [
       "model: 8/77, epoch: 6/20, params: hs=[21, 31, 26], ed=37, ac=5:   0%|          | 0/75 [00:00<?, ?it/s]"
      ]
     },
     "metadata": {},
     "output_type": "display_data"
    },
    {
     "data": {
      "application/vnd.jupyter.widget-view+json": {
       "model_id": "73b6843a753749b8b3533828b242495e",
       "version_major": 2,
       "version_minor": 0
      },
      "text/plain": [
       "model: 8/77, epoch: 7/20, params: hs=[21, 31, 26], ed=37, ac=5:   0%|          | 0/75 [00:00<?, ?it/s]"
      ]
     },
     "metadata": {},
     "output_type": "display_data"
    },
    {
     "data": {
      "application/vnd.jupyter.widget-view+json": {
       "model_id": "17aa86a18f504288921271bf8e779c5d",
       "version_major": 2,
       "version_minor": 0
      },
      "text/plain": [
       "model: 8/77, epoch: 8/20, params: hs=[21, 31, 26], ed=37, ac=5:   0%|          | 0/75 [00:00<?, ?it/s]"
      ]
     },
     "metadata": {},
     "output_type": "display_data"
    },
    {
     "data": {
      "application/vnd.jupyter.widget-view+json": {
       "model_id": "ce9a9144d36a48218e8a311b117e46a8",
       "version_major": 2,
       "version_minor": 0
      },
      "text/plain": [
       "model: 8/77, epoch: 9/20, params: hs=[21, 31, 26], ed=37, ac=5:   0%|          | 0/75 [00:00<?, ?it/s]"
      ]
     },
     "metadata": {},
     "output_type": "display_data"
    },
    {
     "data": {
      "application/vnd.jupyter.widget-view+json": {
       "model_id": "ac1a0cf4a38041d9a52f7ca3541bda87",
       "version_major": 2,
       "version_minor": 0
      },
      "text/plain": [
       "model: 8/77, epoch: 10/20, params: hs=[21, 31, 26], ed=37, ac=5:   0%|          | 0/75 [00:00<?, ?it/s]"
      ]
     },
     "metadata": {},
     "output_type": "display_data"
    }
   ],
   "source": [
    "# train_model_claster\n",
    "num_ep = 20\n",
    "models_count = len(claster)\n",
    "\n",
    "for model_idx in range(models_count):\n",
    "    model = claster[model_idx][0]\n",
    "    optimizer = claster[model_idx][1]\n",
    "    losses = []\n",
    "    perplexities = []\n",
    "    try:\n",
    "        for ep in range(num_ep):\n",
    "            model.train()\n",
    "            ep_losses=[]\n",
    "            for batch in tqdm(train_dataloader, desc=f'model: {model_idx + 1}/{models_count}, epoch: {ep + 1}/{num_ep}, params: {claster[model_idx][0]}'):\n",
    "                optimizer.zero_grad()\n",
    "                logs = model(batch['in_ids'])\n",
    "                loss = crit_func(\n",
    "                    logs, batch['target_ids']\n",
    "                )\n",
    "                loss.backward()\n",
    "                optimizer.step()\n",
    "    \n",
    "                ep_losses.append(loss.item())\n",
    "            losses.append(sum(ep_losses) / len(ep_losses))\n",
    "            perplexities.append(evaluate(model, optimizer, crit_func, eval_dataloader))\n",
    "            \n",
    "            model.losses = losses\n",
    "            model.perplexities = perplexities\n",
    "    \n",
    "    \n",
    "        # saving models:\n",
    "        torch.save(claster[model_idx][0].state_dict(), f'simple_lstm_models/lstm_rand_model_{model_idx + already_done}_epochs_{num_ep}')\n",
    "    except:\n",
    "        pass\n",
    "            "
   ]
  },
  {
   "cell_type": "code",
   "execution_count": null,
   "id": "38c5a3f0-4146-494c-91ff-5bb6a90decd9",
   "metadata": {
    "tags": []
   },
   "outputs": [],
   "source": [
    "\n",
    "def draw_end_losses_and_perplexities_for_claster(claster):\n",
    "    models = [m for m, o in claster]\n",
    "    end_losses = [m.get_losses()[-1] for m in models]\n",
    "    end_perplexities = [m.get_perplexities()[-1] for m in models]\n",
    "    plt.figure(figsize=(16, 5))\n",
    "    plt.plot(end_losses)\n",
    "    plt.title('losses')\n",
    "    plt.xlabel('models')\n",
    "    plt.ylabel('loss_val')\n",
    "    \n",
    "    plt.xticks(np.arange(len(end_losses)))\n",
    "    plt.grid(True)\n",
    "    plt.show()\n",
    "    \n",
    "    #\n",
    "    plt.figure(figsize=(16, 5))\n",
    "    plt.plot(end_perplexities)\n",
    "    plt.title('perplexities')\n",
    "    plt.xlabel('models')\n",
    "    plt.ylabel('perplexities_val')\n",
    "    \n",
    "    plt.xticks(np.arange(len(end_perplexities)))\n",
    "    plt.grid(True)\n",
    "    plt.show()\n",
    "\n",
    "\n",
    "def draw_all_losses_and_perplexities_for_claster(claster):\n",
    "    models = [m for m, o in claster]\n",
    "    epoches_num = len(models[0].get_losses())\n",
    "    #  losses\n",
    "    plt.figure(figsize=(16, 10))\n",
    "    plt.title('losses change')\n",
    "    plt.xlabel('epchs')\n",
    "    plt.ylabel('loss_val')\n",
    "    for i in range(len(models)):\n",
    "        plt.plot(models[i].get_losses(), label=f'model[{i}]')\n",
    "        \n",
    "        \n",
    "    plt.xticks(np.arange(epoches_num))\n",
    "    plt.grid(True)\n",
    "    plt.legend()\n",
    "    plt.show()\n",
    "    \n",
    "    #  perpleixties\n",
    "    plt.figure(figsize=(16, 10))\n",
    "    plt.title('perpleixties change')\n",
    "    plt.xlabel('epchs')\n",
    "    plt.ylabel('loss_val')\n",
    "    for i in range(len(models)):\n",
    "        plt.plot(models[i].get_perplexities(), label=f'model[{i}]')\n",
    "        \n",
    "        \n",
    "    plt.xticks(np.arange(epoches_num))\n",
    "    plt.grid(True)\n",
    "    plt.legend()\n",
    "    plt.show()\n",
    "\n"
   ]
  },
  {
   "cell_type": "code",
   "execution_count": null,
   "id": "ad1293fa-475a-4436-8c0a-3fdc2af55d4d",
   "metadata": {},
   "outputs": [],
   "source": [
    "claster[0][0].get_losses()"
   ]
  },
  {
   "cell_type": "code",
   "execution_count": null,
   "id": "c69c0e35-74a6-4da7-b7c4-f7dda8dfe455",
   "metadata": {},
   "outputs": [],
   "source": [
    "draw_end_losses_and_perplexities_for_claster(claster)"
   ]
  },
  {
   "cell_type": "code",
   "execution_count": null,
   "id": "abda2e9e-1004-4e88-816e-416ad199a8a7",
   "metadata": {
    "tags": []
   },
   "outputs": [],
   "source": [
    "draw_all_losses_and_perplexities_for_claster(claster)"
   ]
  },
  {
   "cell_type": "markdown",
   "id": "7ab9c854-0174-4590-9c28-ce2da57780bf",
   "metadata": {},
   "source": [
    "результат генерации различных моделей сомнительный, все работают плохо"
   ]
  },
  {
   "cell_type": "markdown",
   "id": "68ea4d6f-45e3-4264-a654-6aeb3a05769d",
   "metadata": {},
   "source": [
    "## text generation func"
   ]
  },
  {
   "cell_type": "code",
   "execution_count": null,
   "id": "0b776e99-4ca8-404f-9345-93a1153162b1",
   "metadata": {
    "tags": []
   },
   "outputs": [],
   "source": [
    "def generate(model, start_s='жили у бабуси ', max_s_len=100, tokenizer=tokenizer, t2id=t2id, id2t=id2t):\n",
    "    device = 'cuda'\n",
    "    model.to(device)\n",
    "    input_ids = [t2id['<bos>']] + [t2id.get(t, t2id['<unk>']) for t in tokenizer.encode(start_s).tokens]\n",
    "    input_ids = torch.LongTensor(input_ids).unsqueeze(0).to(device)\n",
    "\n",
    "    model.eval()\n",
    "    with torch.no_grad():\n",
    "        for i in range(max_s_len):\n",
    "            next_t_vec = model(input_ids)\n",
    "            next_t = next_t_vec.squeeze().argmax()\n",
    "\n",
    "            input_ids = torch.cat([input_ids, next_t.unsqueeze(0).unsqueeze(0)], dim=1)\n",
    "            # print(next_t.item(), input_ids)\n",
    "            if next_t == t2id['<eos>']:\n",
    "                break\n",
    "    text = ''.join([id2t[ind.item()] for ind in input_ids[0]])\n",
    "    return text\n",
    "            "
   ]
  },
  {
   "cell_type": "code",
   "execution_count": null,
   "id": "ba92a91f-4577-4c30-8fb0-ccade15f3889",
   "metadata": {
    "tags": []
   },
   "outputs": [],
   "source": [
    "generate(claster[22][0],'и днем и ночью', 100)"
   ]
  },
  {
   "cell_type": "code",
   "execution_count": null,
   "id": "425eb3b2-da8b-4a34-9cb9-de577f4d9069",
   "metadata": {},
   "outputs": [],
   "source": []
  },
  {
   "cell_type": "code",
   "execution_count": null,
   "id": "4dea3dc1-868a-4623-9956-e926d60e89a0",
   "metadata": {},
   "outputs": [],
   "source": []
  },
  {
   "cell_type": "code",
   "execution_count": null,
   "id": "27a4df71-cf40-4ec9-a5e6-c1d40af211f3",
   "metadata": {},
   "outputs": [],
   "source": []
  },
  {
   "cell_type": "code",
   "execution_count": null,
   "id": "86b9fd1b-8da6-425e-8545-2f8ecb53c4d1",
   "metadata": {},
   "outputs": [],
   "source": []
  },
  {
   "cell_type": "code",
   "execution_count": null,
   "id": "a225be11-708c-452e-8cde-8e2b032c9d8c",
   "metadata": {},
   "outputs": [],
   "source": []
  },
  {
   "cell_type": "code",
   "execution_count": null,
   "id": "9b3a9289-1822-46d1-ba48-b075c9585df1",
   "metadata": {},
   "outputs": [],
   "source": []
  },
  {
   "cell_type": "code",
   "execution_count": null,
   "id": "8c06e713-68fe-46a9-bb34-1068d7c2b80a",
   "metadata": {},
   "outputs": [],
   "source": []
  },
  {
   "cell_type": "code",
   "execution_count": null,
   "id": "c1fd9895-ddbe-4235-a8e9-a31d7332e3ac",
   "metadata": {},
   "outputs": [],
   "source": []
  }
 ],
 "metadata": {
  "kernelspec": {
   "display_name": "Python 3 (ipykernel)",
   "language": "python",
   "name": "python3"
  },
  "language_info": {
   "codemirror_mode": {
    "name": "ipython",
    "version": 3
   },
   "file_extension": ".py",
   "mimetype": "text/x-python",
   "name": "python",
   "nbconvert_exporter": "python",
   "pygments_lexer": "ipython3",
   "version": "3.12.4"
  }
 },
 "nbformat": 4,
 "nbformat_minor": 5
}
