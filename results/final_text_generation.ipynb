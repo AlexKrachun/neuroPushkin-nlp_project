{
 "cells": [
  {
   "cell_type": "code",
   "execution_count": 2,
   "id": "24df7281-4947-49b5-b855-ccbba3f1bdda",
   "metadata": {},
   "outputs": [
    {
     "name": "stdout",
     "output_type": "stream",
     "text": [
      "Requirement already satisfied: torch in /Users/alexkarachun/Documents/DEV/neuroPushkin-nlp_project/venv/lib/python3.12/site-packages (2.4.0)\n",
      "Requirement already satisfied: filelock in /Users/alexkarachun/Documents/DEV/neuroPushkin-nlp_project/venv/lib/python3.12/site-packages (from torch) (3.15.4)\n",
      "Requirement already satisfied: typing-extensions>=4.8.0 in /Users/alexkarachun/Documents/DEV/neuroPushkin-nlp_project/venv/lib/python3.12/site-packages (from torch) (4.12.2)\n",
      "Requirement already satisfied: sympy in /Users/alexkarachun/Documents/DEV/neuroPushkin-nlp_project/venv/lib/python3.12/site-packages (from torch) (1.13.1)\n",
      "Requirement already satisfied: networkx in /Users/alexkarachun/Documents/DEV/neuroPushkin-nlp_project/venv/lib/python3.12/site-packages (from torch) (3.3)\n",
      "Requirement already satisfied: jinja2 in /Users/alexkarachun/Documents/DEV/neuroPushkin-nlp_project/venv/lib/python3.12/site-packages (from torch) (3.1.4)\n",
      "Requirement already satisfied: fsspec in /Users/alexkarachun/Documents/DEV/neuroPushkin-nlp_project/venv/lib/python3.12/site-packages (from torch) (2024.6.1)\n",
      "Requirement already satisfied: setuptools in /Users/alexkarachun/Documents/DEV/neuroPushkin-nlp_project/venv/lib/python3.12/site-packages (from torch) (72.1.0)\n",
      "Requirement already satisfied: MarkupSafe>=2.0 in /Users/alexkarachun/Documents/DEV/neuroPushkin-nlp_project/venv/lib/python3.12/site-packages (from jinja2->torch) (2.1.5)\n",
      "Requirement already satisfied: mpmath<1.4,>=1.1.0 in /Users/alexkarachun/Documents/DEV/neuroPushkin-nlp_project/venv/lib/python3.12/site-packages (from sympy->torch) (1.3.0)\n",
      "Requirement already satisfied: transformers in /Users/alexkarachun/Documents/DEV/neuroPushkin-nlp_project/venv/lib/python3.12/site-packages (4.43.3)\n",
      "Requirement already satisfied: filelock in /Users/alexkarachun/Documents/DEV/neuroPushkin-nlp_project/venv/lib/python3.12/site-packages (from transformers) (3.15.4)\n",
      "Requirement already satisfied: huggingface-hub<1.0,>=0.23.2 in /Users/alexkarachun/Documents/DEV/neuroPushkin-nlp_project/venv/lib/python3.12/site-packages (from transformers) (0.24.5)\n",
      "Requirement already satisfied: numpy>=1.17 in /Users/alexkarachun/Documents/DEV/neuroPushkin-nlp_project/venv/lib/python3.12/site-packages (from transformers) (2.0.1)\n",
      "Requirement already satisfied: packaging>=20.0 in /Users/alexkarachun/Documents/DEV/neuroPushkin-nlp_project/venv/lib/python3.12/site-packages (from transformers) (24.1)\n",
      "Requirement already satisfied: pyyaml>=5.1 in /Users/alexkarachun/Documents/DEV/neuroPushkin-nlp_project/venv/lib/python3.12/site-packages (from transformers) (6.0.1)\n",
      "Requirement already satisfied: regex!=2019.12.17 in /Users/alexkarachun/Documents/DEV/neuroPushkin-nlp_project/venv/lib/python3.12/site-packages (from transformers) (2024.7.24)\n",
      "Requirement already satisfied: requests in /Users/alexkarachun/Documents/DEV/neuroPushkin-nlp_project/venv/lib/python3.12/site-packages (from transformers) (2.32.3)\n",
      "Requirement already satisfied: safetensors>=0.4.1 in /Users/alexkarachun/Documents/DEV/neuroPushkin-nlp_project/venv/lib/python3.12/site-packages (from transformers) (0.4.3)\n",
      "Requirement already satisfied: tokenizers<0.20,>=0.19 in /Users/alexkarachun/Documents/DEV/neuroPushkin-nlp_project/venv/lib/python3.12/site-packages (from transformers) (0.19.1)\n",
      "Requirement already satisfied: tqdm>=4.27 in /Users/alexkarachun/Documents/DEV/neuroPushkin-nlp_project/venv/lib/python3.12/site-packages (from transformers) (4.66.4)\n",
      "Requirement already satisfied: fsspec>=2023.5.0 in /Users/alexkarachun/Documents/DEV/neuroPushkin-nlp_project/venv/lib/python3.12/site-packages (from huggingface-hub<1.0,>=0.23.2->transformers) (2024.6.1)\n",
      "Requirement already satisfied: typing-extensions>=3.7.4.3 in /Users/alexkarachun/Documents/DEV/neuroPushkin-nlp_project/venv/lib/python3.12/site-packages (from huggingface-hub<1.0,>=0.23.2->transformers) (4.12.2)\n",
      "Requirement already satisfied: charset-normalizer<4,>=2 in /Users/alexkarachun/Documents/DEV/neuroPushkin-nlp_project/venv/lib/python3.12/site-packages (from requests->transformers) (3.3.2)\n",
      "Requirement already satisfied: idna<4,>=2.5 in /Users/alexkarachun/Documents/DEV/neuroPushkin-nlp_project/venv/lib/python3.12/site-packages (from requests->transformers) (3.7)\n",
      "Requirement already satisfied: urllib3<3,>=1.21.1 in /Users/alexkarachun/Documents/DEV/neuroPushkin-nlp_project/venv/lib/python3.12/site-packages (from requests->transformers) (2.2.2)\n",
      "Requirement already satisfied: certifi>=2017.4.17 in /Users/alexkarachun/Documents/DEV/neuroPushkin-nlp_project/venv/lib/python3.12/site-packages (from requests->transformers) (2024.7.4)\n"
     ]
    }
   ],
   "source": [
    "!pip install torch\n",
    "!pip install transformers"
   ]
  },
  {
   "cell_type": "code",
   "execution_count": 3,
   "id": "930a77f4-1940-4e4f-ba39-c408736d2b33",
   "metadata": {},
   "outputs": [
    {
     "data": {
      "text/plain": [
       "'cpu'"
      ]
     },
     "execution_count": 3,
     "metadata": {},
     "output_type": "execute_result"
    }
   ],
   "source": [
    "import torch\n",
    "from transformers import GPT2LMHeadModel, GPT2Tokenizer, TextDataset, DataCollatorForLanguageModeling, Trainer, TrainingArguments\n",
    "\n",
    "device = 'cuda' if torch.cuda.is_available() else 'cpu'\n",
    "device"
   ]
  },
  {
   "cell_type": "code",
   "execution_count": 9,
   "id": "ec927d95-ddff-42f4-a2d4-66171296d033",
   "metadata": {},
   "outputs": [],
   "source": [
    "def generate_text(prompt, device, tokenizer):\n",
    "    model.to(device)\n",
    "    input_ids = tokenizer.encode(prompt, return_tensors='pt').to(device)\n",
    "    output = model.generate(\n",
    "        input_ids,\n",
    "        min_length=64,\n",
    "        max_length=256,\n",
    "        num_beams=2,\n",
    "        no_repeat_ngram_size=2,\n",
    "        top_k=20, \n",
    "        top_p=0.5, \n",
    "        early_stopping=True,\n",
    "        do_sample=True,\n",
    "        temperature=0.7, \n",
    "    )\n",
    "    return tokenizer.decode(output[0], skip_special_tokens=True)"
   ]
  },
  {
   "cell_type": "code",
   "execution_count": 10,
   "id": "64c920af-cce7-411c-95df-339628ceb6c2",
   "metadata": {},
   "outputs": [],
   "source": [
    "\n",
    "model_name =  f'rugpt3medium_based_on_gpt2_1_epochs'\n",
    "\n",
    "tokenizer = GPT2Tokenizer.from_pretrained(model_name)\n",
    "model = GPT2LMHeadModel.from_pretrained(model_name)\n"
   ]
  },
  {
   "cell_type": "code",
   "execution_count": 11,
   "id": "45dfc4b2-bf5d-404e-a9ab-9d5c8e490d33",
   "metadata": {},
   "outputs": [
    {
     "name": "stdout",
     "output_type": "stream",
     "text": [
      "однажды в студеную зимнюю пору я из лесу вышел, чтобы встретить еe. Она, как весенний цветок, расцвела в моeм сердце, но судьба, злая шутка, разлучила нас. С тех пор каждый вечер я бродил по лесу, надеясь вновь увидеть свою загадочную подругу. И вот, однажды, в тени могучего дуба, я услышал ещe один звук — это была она, моя прекрасная лира! Она звучала, словно сама природа, сливаясь с мелодией жизни. Я замер, затаив дыхание, и, следуя за звуком, вышел из-за деревьев. Перед ней я предстал в ослепительном сиянии, весь в цветах и мечтах. «Кто ты, о дивная незнакомка?» — спросил я, трепетно произнося каждое слово. Но она лишь улыбнулась и сказала: «Я — дух леса, хранительница его тайн. Слыша твои страдания, пришла поделиться вечным покоем». Я был поражeн и тронут. Еe мудрость озарила мою душу. В тот вечер мы сидели под звeздным небом, делясь историями и смеясь над глупыми шалостями природы. Время текло, а луна наполняла серебром каждый миг. Мы пели о любви\n"
     ]
    }
   ],
   "source": [
    "prompt = \"однажды в студеную зимнюю пору я из лесу\"\n",
    "\n",
    "\n",
    "generated_texts = generate_text(prompt, device, tokenizer)\n",
    "print(generated_texts)"
   ]
  },
  {
   "cell_type": "code",
   "execution_count": null,
   "id": "7cb5fd91-9270-4e09-9fd6-d4ad4f9afee6",
   "metadata": {},
   "outputs": [],
   "source": []
  }
 ],
 "metadata": {
  "kernelspec": {
   "display_name": "Python 3 (ipykernel)",
   "language": "python",
   "name": "python3"
  },
  "language_info": {
   "codemirror_mode": {
    "name": "ipython",
    "version": 3
   },
   "file_extension": ".py",
   "mimetype": "text/x-python",
   "name": "python",
   "nbconvert_exporter": "python",
   "pygments_lexer": "ipython3",
   "version": "3.12.2"
  }
 },
 "nbformat": 4,
 "nbformat_minor": 5
}
