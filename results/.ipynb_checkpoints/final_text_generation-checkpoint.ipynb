{
 "cells": [
  {
   "cell_type": "code",
   "execution_count": 1,
   "id": "24df7281-4947-49b5-b855-ccbba3f1bdda",
   "metadata": {},
   "outputs": [
    {
     "name": "stdout",
     "output_type": "stream",
     "text": [
      "Requirement already satisfied: torch in d:\\alex_karachun\\dev\\neuropushkin-nlp_project\\.venv\\lib\\site-packages (2.4.0+cu124)\n",
      "Requirement already satisfied: filelock in d:\\alex_karachun\\dev\\neuropushkin-nlp_project\\.venv\\lib\\site-packages (from torch) (3.15.4)\n",
      "Requirement already satisfied: typing-extensions>=4.8.0 in d:\\alex_karachun\\dev\\neuropushkin-nlp_project\\.venv\\lib\\site-packages (from torch) (4.12.2)\n",
      "Requirement already satisfied: sympy in d:\\alex_karachun\\dev\\neuropushkin-nlp_project\\.venv\\lib\\site-packages (from torch) (1.12)\n",
      "Requirement already satisfied: networkx in d:\\alex_karachun\\dev\\neuropushkin-nlp_project\\.venv\\lib\\site-packages (from torch) (3.2.1)\n",
      "Requirement already satisfied: jinja2 in d:\\alex_karachun\\dev\\neuropushkin-nlp_project\\.venv\\lib\\site-packages (from torch) (3.1.4)\n",
      "Requirement already satisfied: fsspec in d:\\alex_karachun\\dev\\neuropushkin-nlp_project\\.venv\\lib\\site-packages (from torch) (2024.5.0)\n",
      "Requirement already satisfied: setuptools in d:\\alex_karachun\\dev\\neuropushkin-nlp_project\\.venv\\lib\\site-packages (from torch) (72.1.0)\n",
      "Requirement already satisfied: MarkupSafe>=2.0 in d:\\alex_karachun\\dev\\neuropushkin-nlp_project\\.venv\\lib\\site-packages (from jinja2->torch) (2.1.5)\n",
      "Requirement already satisfied: mpmath>=0.19 in d:\\alex_karachun\\dev\\neuropushkin-nlp_project\\.venv\\lib\\site-packages (from sympy->torch) (1.3.0)\n",
      "Requirement already satisfied: transformers in d:\\alex_karachun\\dev\\neuropushkin-nlp_project\\.venv\\lib\\site-packages (4.44.0)\n",
      "Requirement already satisfied: filelock in d:\\alex_karachun\\dev\\neuropushkin-nlp_project\\.venv\\lib\\site-packages (from transformers) (3.15.4)\n",
      "Requirement already satisfied: huggingface-hub<1.0,>=0.23.2 in d:\\alex_karachun\\dev\\neuropushkin-nlp_project\\.venv\\lib\\site-packages (from transformers) (0.24.5)\n",
      "Requirement already satisfied: numpy>=1.17 in d:\\alex_karachun\\dev\\neuropushkin-nlp_project\\.venv\\lib\\site-packages (from transformers) (1.26.4)\n",
      "Requirement already satisfied: packaging>=20.0 in d:\\alex_karachun\\dev\\neuropushkin-nlp_project\\.venv\\lib\\site-packages (from transformers) (24.1)\n",
      "Requirement already satisfied: pyyaml>=5.1 in d:\\alex_karachun\\dev\\neuropushkin-nlp_project\\.venv\\lib\\site-packages (from transformers) (6.0.1)\n",
      "Requirement already satisfied: regex!=2019.12.17 in d:\\alex_karachun\\dev\\neuropushkin-nlp_project\\.venv\\lib\\site-packages (from transformers) (2024.7.24)\n",
      "Requirement already satisfied: requests in d:\\alex_karachun\\dev\\neuropushkin-nlp_project\\.venv\\lib\\site-packages (from transformers) (2.32.3)\n",
      "Requirement already satisfied: safetensors>=0.4.1 in d:\\alex_karachun\\dev\\neuropushkin-nlp_project\\.venv\\lib\\site-packages (from transformers) (0.4.3)\n",
      "Requirement already satisfied: tokenizers<0.20,>=0.19 in d:\\alex_karachun\\dev\\neuropushkin-nlp_project\\.venv\\lib\\site-packages (from transformers) (0.19.1)\n",
      "Requirement already satisfied: tqdm>=4.27 in d:\\alex_karachun\\dev\\neuropushkin-nlp_project\\.venv\\lib\\site-packages (from transformers) (4.66.4)\n",
      "Requirement already satisfied: fsspec>=2023.5.0 in d:\\alex_karachun\\dev\\neuropushkin-nlp_project\\.venv\\lib\\site-packages (from huggingface-hub<1.0,>=0.23.2->transformers) (2024.5.0)\n",
      "Requirement already satisfied: typing-extensions>=3.7.4.3 in d:\\alex_karachun\\dev\\neuropushkin-nlp_project\\.venv\\lib\\site-packages (from huggingface-hub<1.0,>=0.23.2->transformers) (4.12.2)\n",
      "Requirement already satisfied: colorama in d:\\alex_karachun\\dev\\neuropushkin-nlp_project\\.venv\\lib\\site-packages (from tqdm>=4.27->transformers) (0.4.6)\n",
      "Requirement already satisfied: charset-normalizer<4,>=2 in d:\\alex_karachun\\dev\\neuropushkin-nlp_project\\.venv\\lib\\site-packages (from requests->transformers) (3.3.2)\n",
      "Requirement already satisfied: idna<4,>=2.5 in d:\\alex_karachun\\dev\\neuropushkin-nlp_project\\.venv\\lib\\site-packages (from requests->transformers) (3.7)\n",
      "Requirement already satisfied: urllib3<3,>=1.21.1 in d:\\alex_karachun\\dev\\neuropushkin-nlp_project\\.venv\\lib\\site-packages (from requests->transformers) (2.2.2)\n",
      "Requirement already satisfied: certifi>=2017.4.17 in d:\\alex_karachun\\dev\\neuropushkin-nlp_project\\.venv\\lib\\site-packages (from requests->transformers) (2024.7.4)\n"
     ]
    }
   ],
   "source": [
    "!pip install torch\n",
    "!pip install transformers"
   ]
  },
  {
   "cell_type": "code",
   "execution_count": 2,
   "id": "930a77f4-1940-4e4f-ba39-c408736d2b33",
   "metadata": {},
   "outputs": [
    {
     "name": "stdout",
     "output_type": "stream",
     "text": [
      "WARNING:tensorflow:From d:\\Alex_Karachun\\DEV\\neuroPushkin-nlp_project\\.venv\\Lib\\site-packages\\tf_keras\\src\\losses.py:2976: The name tf.losses.sparse_softmax_cross_entropy is deprecated. Please use tf.compat.v1.losses.sparse_softmax_cross_entropy instead.\n",
      "\n"
     ]
    },
    {
     "data": {
      "text/plain": [
       "'cuda'"
      ]
     },
     "execution_count": 2,
     "metadata": {},
     "output_type": "execute_result"
    }
   ],
   "source": [
    "import torch\n",
    "from transformers import GPT2LMHeadModel, GPT2Tokenizer, TextDataset, DataCollatorForLanguageModeling, Trainer, TrainingArguments\n",
    "\n",
    "device = 'cuda' if torch.cuda.is_available() else 'cpu'\n",
    "device"
   ]
  },
  {
   "cell_type": "code",
   "execution_count": 3,
   "id": "ec927d95-ddff-42f4-a2d4-66171296d033",
   "metadata": {},
   "outputs": [],
   "source": [
    "def generate_text(prompt, device, tokenizer):\n",
    "    model.to(device)\n",
    "    input_ids = tokenizer.encode(prompt, return_tensors='pt').to(device)\n",
    "    output = model.generate(\n",
    "        input_ids,\n",
    "        min_length=64,\n",
    "        max_length=256,\n",
    "        num_beams=2,\n",
    "        no_repeat_ngram_size=2,\n",
    "        top_k=20, \n",
    "        top_p=0.5, \n",
    "        early_stopping=True,\n",
    "        do_sample=True,\n",
    "        temperature=0.7, \n",
    "    )\n",
    "    return tokenizer.decode(output[0], skip_special_tokens=True)"
   ]
  },
  {
   "cell_type": "code",
   "execution_count": 5,
   "id": "64c920af-cce7-411c-95df-339628ceb6c2",
   "metadata": {},
   "outputs": [],
   "source": [
    "\n",
    "model_name =  f'rugpt3medium_based_on_gpt2_1_epochs'\n",
    "\n",
    "tokenizer = GPT2Tokenizer.from_pretrained(model_name)\n",
    "model = GPT2LMHeadModel.from_pretrained(model_name)\n"
   ]
  },
  {
   "cell_type": "code",
   "execution_count": 12,
   "id": "b9ae675f-bd21-4f2d-a5c3-0e20816504a2",
   "metadata": {},
   "outputs": [
    {
     "name": "stdout",
     "output_type": "stream",
     "text": [
      "в комнате на стене висел ковер. Именно в таком ковре таилась тайна, о которой никто не догадывался. На нем, как на полотне жизни, возникали образы, полные света и тени, радости и печали. Однажды, в вечернюю пору, когда закат окрасил небосвод в пурпурные тона, к двери его скромной обители постучался странник. Он был одет в простую одежду, но в глазах его светилась искра, способная растопить даже самые холодные сердца. Странник, представившийся Алексеем, рассказал о своих странствиях и горьких потерях. — О, мудрый старец! — воскликнул он, — расскажи мне о том, что скрыто от взоров человеческих! Как найти смысл в мире, полном суеты и заблуждений? Федор, усевшись на скрипучую скамью, пригласил Алексея войти. Они уселись рядом, и старец, потянувшись к чаше с чаем, начал свой рассказ: — Знай, юноша, каждый человек — это звезда на бескрайних небесах. В его глубине таится истина, которую ты стремишься найти. Но как найти, если сам не знаешь, куда ведeт твой путь? Алексей задумался, его разум наполнился образами, словно роса на утренней траве. И он начал излагать\n"
     ]
    }
   ],
   "source": [
    "prompt = \"в комнате на стене висел ковер. Именно в таком ковре\"\n",
    "\n",
    "\n",
    "generated_texts = generate_text(prompt, device, tokenizer)\n",
    "print(generated_texts)"
   ]
  },
  {
   "cell_type": "code",
   "execution_count": null,
   "id": "605ade72-52d8-4027-a883-645a3ee2963e",
   "metadata": {},
   "outputs": [],
   "source": []
  }
 ],
 "metadata": {
  "kernelspec": {
   "display_name": "Python 3 (ipykernel)",
   "language": "python",
   "name": "python3"
  },
  "language_info": {
   "codemirror_mode": {
    "name": "ipython",
    "version": 3
   },
   "file_extension": ".py",
   "mimetype": "text/x-python",
   "name": "python",
   "nbconvert_exporter": "python",
   "pygments_lexer": "ipython3",
   "version": "3.12.4"
  }
 },
 "nbformat": 4,
 "nbformat_minor": 5
}
