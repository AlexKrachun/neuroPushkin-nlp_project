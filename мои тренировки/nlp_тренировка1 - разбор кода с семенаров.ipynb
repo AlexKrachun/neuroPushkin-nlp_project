{
 "cells": [
  {
   "cell_type": "markdown",
   "metadata": {
    "colab": {
     "base_uri": "https://localhost:8080/"
    },
    "id": "qrc-9fVOxU3_",
    "outputId": "6cee5d74-8992-4cba-9056-c005b2010f19"
   },
   "source": [
    "# данный код был переписан с семенарского занятия - тут я разбираюсь в том, как он работает"
   ]
  },
  {
   "cell_type": "code",
   "execution_count": 1,
   "metadata": {
    "colab": {
     "base_uri": "https://localhost:8080/"
    },
    "id": "MxkgSSaox5Po",
    "outputId": "033af859-2fbf-4348-ad46-5e54096f0b36"
   },
   "outputs": [],
   "source": [
    "# !pip install nltk"
   ]
  },
  {
   "cell_type": "code",
   "execution_count": 1,
   "metadata": {
    "id": "rH_aIMpYxZ9E"
   },
   "outputs": [],
   "source": [
    "import torch\n",
    "import torch.nn as nn\n",
    "from torch.utils.data import Dataset, DataLoader\n",
    "\n",
    "import numpy as np\n",
    "import matplotlib.pyplot as plt\n",
    "\n",
    "from tqdm.auto import tqdm\n",
    "from nltk.tokenize import sent_tokenize\n",
    "from sklearn.model_selection import train_test_split\n",
    "import nltk\n",
    "\n",
    "from collections import Counter\n",
    "from typing import List\n",
    "\n",
    "import seaborn\n",
    "seaborn.set(palette= 'summer')"
   ]
  },
  {
   "cell_type": "code",
   "execution_count": 2,
   "metadata": {},
   "outputs": [
    {
     "data": {
      "text/plain": [
       "tensor([9, 9, 9, 9, 9])"
      ]
     },
     "execution_count": 2,
     "metadata": {},
     "output_type": "execute_result"
    }
   ],
   "source": [
    "torch.full((5, ), 9)"
   ]
  },
  {
   "cell_type": "code",
   "execution_count": 3,
   "metadata": {},
   "outputs": [
    {
     "data": {
      "text/plain": [
       "tensor([-9.4239e-02,  1.6185e-42,  0.0000e+00,  0.0000e+00,  0.0000e+00])"
      ]
     },
     "execution_count": 3,
     "metadata": {},
     "output_type": "execute_result"
    }
   ],
   "source": [
    "torch.empty((5))"
   ]
  },
  {
   "cell_type": "code",
   "execution_count": 4,
   "metadata": {},
   "outputs": [],
   "source": [
    "a = torch.tensor([1, 2, 3, 4, 5])"
   ]
  },
  {
   "cell_type": "code",
   "execution_count": 5,
   "metadata": {},
   "outputs": [
    {
     "data": {
      "text/plain": [
       "5"
      ]
     },
     "execution_count": 5,
     "metadata": {},
     "output_type": "execute_result"
    }
   ],
   "source": [
    "len(a)"
   ]
  },
  {
   "cell_type": "code",
   "execution_count": 6,
   "metadata": {},
   "outputs": [
    {
     "data": {
      "text/plain": [
       "5"
      ]
     },
     "execution_count": 6,
     "metadata": {},
     "output_type": "execute_result"
    }
   ],
   "source": [
    "a.shape[0]"
   ]
  },
  {
   "cell_type": "code",
   "execution_count": 7,
   "metadata": {},
   "outputs": [
    {
     "data": {
      "text/plain": [
       "[1, 2, 3, 4, 5]"
      ]
     },
     "execution_count": 7,
     "metadata": {},
     "output_type": "execute_result"
    }
   ],
   "source": [
    "[1, 2, 3, 4, 5][-0:]"
   ]
  },
  {
   "cell_type": "code",
   "execution_count": null,
   "metadata": {},
   "outputs": [],
   "source": []
  },
  {
   "cell_type": "code",
   "execution_count": null,
   "metadata": {},
   "outputs": [],
   "source": []
  },
  {
   "cell_type": "code",
   "execution_count": 8,
   "metadata": {
    "colab": {
     "base_uri": "https://localhost:8080/"
    },
    "id": "0rmYn0zcx4k8",
    "outputId": "52dc88c4-7aeb-4bd6-db84-e5fad66324b2"
   },
   "outputs": [
    {
     "name": "stderr",
     "output_type": "stream",
     "text": [
      "[nltk_data] Downloading package punkt to\n",
      "[nltk_data]     C:\\Users\\pavel\\AppData\\Roaming\\nltk_data...\n",
      "[nltk_data]   Package punkt is already up-to-date!\n"
     ]
    },
    {
     "data": {
      "text/plain": [
       "True"
      ]
     },
     "execution_count": 8,
     "metadata": {},
     "output_type": "execute_result"
    }
   ],
   "source": [
    "nltk.download('punkt')"
   ]
  },
  {
   "cell_type": "code",
   "execution_count": 9,
   "metadata": {
    "colab": {
     "base_uri": "https://localhost:8080/",
     "height": 35
    },
    "id": "KaQj6yBdx1_6",
    "outputId": "e95066e1-e2a0-45bd-a189-9971928f26eb"
   },
   "outputs": [
    {
     "data": {
      "text/plain": [
       "'cuda'"
      ]
     },
     "execution_count": 9,
     "metadata": {},
     "output_type": "execute_result"
    }
   ],
   "source": [
    "device = 'cuda' if torch.cuda.is_available() else 'cpu'\n",
    "device"
   ]
  },
  {
   "cell_type": "code",
   "execution_count": 33,
   "metadata": {
    "colab": {
     "base_uri": "https://localhost:8080/"
    },
    "id": "Ovk1hLEjyPUT",
    "outputId": "8bd7e054-61d2-4165-d6da-889720b3030b"
   },
   "outputs": [
    {
     "name": "stdout",
     "output_type": "stream",
     "text": [
      "птичка в чужбине свято наблюдаю родной обычай старины: на волю птичку выпускаю при светлом празднике весны. я стал доступен утешенью; за что на бога мне роптать, когда хоть одному творенью я мог свобо\n"
     ]
    }
   ],
   "source": [
    "f = open('../dataset/clean/original_cleaned.txt', encoding='utf-8')\n",
    "dataset = f.read().replace('\\n', '').replace('-', ' ').lower()\n",
    "print(dataset[:200])"
   ]
  },
  {
   "cell_type": "code",
   "execution_count": 34,
   "metadata": {
    "colab": {
     "base_uri": "https://localhost:8080/"
    },
    "id": "Ndee0_QAkg1j",
    "outputId": "2b7e18e6-1308-4341-95ff-9b597b60e41e"
   },
   "outputs": [
    {
     "name": "stdout",
     "output_type": "stream",
     "text": [
      "71568\n"
     ]
    }
   ],
   "source": [
    "sentences = [i for i in sent_tokenize(dataset, language='russian') if len(i) > 20]\n",
    "\n",
    "print(len(sentences))"
   ]
  },
  {
   "cell_type": "code",
   "execution_count": 35,
   "metadata": {
    "colab": {
     "base_uri": "https://localhost:8080/"
    },
    "id": "vSw5cVJampRb",
    "outputId": "78b3edf0-a5c7-48ef-b2f8-61c9e8ba16e4"
   },
   "outputs": [
    {
     "name": "stdout",
     "output_type": "stream",
     "text": [
      "птичка в чужбине свято наблюдаю родной обычай старины: на волю птичку выпускаю при светлом празднике весны.\n",
      "---------\n",
      "я стал доступен утешенью; за что на бога мне роптать, когда хоть одному творенью я мог свободу даровать!\n",
      "---------\n",
      "царское село хранитель милых чувств и прошлых наслаждений, о ты, певцу дубрав давно знакомый гений, воспоминание, рисуй передо мной волшебные места, где я живу душой, леса, где я любил, где чувство развивалось, где с первой юностью младенчество сливалось и где, взлелеянный природой и мечтой, я знал поэзию, веселость и покой.\n",
      "---------\n",
      "веди, веди меня под липовые сени, всегда любезные моей свободной лени, на берег озера, на тихий скат холмов!.\n",
      "---------\n",
      "да вновь увижу я ковры густых лугов, и дряхлый пук дерев, и светлую долину, и злачных берегов знакомую картину, и в тихом озере, средь блещущих зыбей, станицу гордую спокойных лебедей.\n",
      "---------\n",
      "* * * кто, волны, вас остановил, кто оковал ваш бег могучий, кто в пруд безмолвный и дремучий поток мятежный обратил?\n",
      "---------\n",
      "чей жезл волшебный поразил во мне надежду, скорбь и радость и душу бурную дремотой лени усыпил?\n",
      "---------\n",
      "взыграйте, ветры, взройте воды, разрушьте гибельный оплот!\n",
      "---------\n",
      "где ты, гроза   символ свободы?\n",
      "---------\n",
      "промчись поверх невольных вод. ночь мой голос для тебя и ласковый и томный тревожит поздное молчанье ночи темной.\n"
     ]
    }
   ],
   "source": [
    "print(*sentences[:10], sep='\\n---------\\n')"
   ]
  },
  {
   "cell_type": "code",
   "execution_count": 36,
   "metadata": {
    "colab": {
     "base_uri": "https://localhost:8080/"
    },
    "id": "_Uskm4xS4zY2",
    "outputId": "a5dbc30d-1119-4bf5-f8fd-1836eb694d04"
   },
   "outputs": [
    {
     "data": {
      "text/plain": [
       "71568"
      ]
     },
     "execution_count": 36,
     "metadata": {},
     "output_type": "execute_result"
    }
   ],
   "source": [
    "len(sentences)"
   ]
  },
  {
   "cell_type": "code",
   "execution_count": 37,
   "metadata": {
    "colab": {
     "base_uri": "https://localhost:8080/",
     "height": 49,
     "referenced_widgets": [
      "ce848a3ca6b946b6811c8d069d37ebd8",
      "8d805b6618664f059d983f60c10f3af1",
      "53cfcf9baae64e38ad8e5e962ea3e1e2",
      "3d9d43c33bae477386e4703e40bd0500",
      "251dbdb60e5947428ee7167aa48fbc56",
      "2c3838813736459fb08f7f65a3c79e8e",
      "a14b9e2e31bf4090ba06c512c2a24212",
      "9f2fcccda28a408882824801bb257e00",
      "c1ed1f5625a1472e98360d055dccd705",
      "95033b44fd3a481f955fa88f4af09b9a",
      "19bab6ab3a0a45d288aa03e687c7b475"
     ]
    },
    "id": "8JrSy2at8Grp",
    "outputId": "62c6648e-33a6-4027-a695-df716ed4503e"
   },
   "outputs": [
    {
     "data": {
      "application/vnd.jupyter.widget-view+json": {
       "model_id": "7ce7db7bd96442cd9bb64811df78c85d",
       "version_major": 2,
       "version_minor": 0
      },
      "text/plain": [
       "  0%|          | 0/71568 [00:00<?, ?it/s]"
      ]
     },
     "metadata": {},
     "output_type": "display_data"
    }
   ],
   "source": [
    "chars = Counter()\n",
    "for sentence in tqdm(sentences):\n",
    "  for char in sentence:\n",
    "    chars[char] += 1"
   ]
  },
  {
   "cell_type": "code",
   "execution_count": 38,
   "metadata": {
    "colab": {
     "base_uri": "https://localhost:8080/"
    },
    "id": "SvX19XYB8YoQ",
    "outputId": "e20529dc-ad15-455f-97a0-016b8a3e0611"
   },
   "outputs": [
    {
     "data": {
      "text/plain": [
       "110"
      ]
     },
     "execution_count": 38,
     "metadata": {},
     "output_type": "execute_result"
    }
   ],
   "source": [
    "len(chars.items())"
   ]
  },
  {
   "cell_type": "code",
   "execution_count": 39,
   "metadata": {
    "id": "BEiKt6Lsls6n"
   },
   "outputs": [],
   "source": [
    "# print(*sorted(chars.items(), key=lambda x: -x[1]), sep='\\n')"
   ]
  },
  {
   "cell_type": "code",
   "execution_count": 40,
   "metadata": {
    "colab": {
     "base_uri": "https://localhost:8080/",
     "height": 49,
     "referenced_widgets": [
      "73a0f1069b9143d0b9fc27805d587e1a",
      "473886c646a142dbafcf1a17dccd9742",
      "6633fda49f5a4e54b86799fb40a05e6a",
      "01c329865df44e979627c3acf87088b4",
      "3d20dfd6675547fcad5ed1be7b96c50a",
      "c97efdd395c04efc96d77a5ac894b21d",
      "939dab3d75224677bb0f07b1ada2f38a",
      "bc896690322a4331a10cc5960c94272e",
      "beb931151fde4bf8840ad6a00206f42b",
      "18291c5e5eeb4cbd8547f29b21717d6e",
      "436d5113ca7246f7b593e5000671d05c"
     ]
    },
    "id": "qM7OTc9A8zp1",
    "outputId": "9908dea1-aaf2-41f6-d31f-a47245e5277c"
   },
   "outputs": [
    {
     "data": {
      "application/vnd.jupyter.widget-view+json": {
       "model_id": "75c0e03c978a437789f9a554f05d4688",
       "version_major": 2,
       "version_minor": 0
      },
      "text/plain": [
       "  0%|          | 0/110 [00:00<?, ?it/s]"
      ]
     },
     "metadata": {},
     "output_type": "display_data"
    }
   ],
   "source": [
    "vocab = set(['<unk>', '<bos>', '<eos>', '<pad>'])\n",
    "counter_threshold = 8921\n",
    "\n",
    "for char, cnt, in tqdm(chars.items()):\n",
    "  if cnt > counter_threshold:\n",
    "    vocab.add(char)"
   ]
  },
  {
   "cell_type": "code",
   "execution_count": 41,
   "metadata": {
    "colab": {
     "base_uri": "https://localhost:8080/"
    },
    "id": "7SGgPRde9NTD",
    "outputId": "5fcfac41-f549-450b-f196-2dddb44acaed"
   },
   "outputs": [
    {
     "data": {
      "text/plain": [
       "44"
      ]
     },
     "execution_count": 41,
     "metadata": {},
     "output_type": "execute_result"
    }
   ],
   "source": [
    "len(vocab)"
   ]
  },
  {
   "cell_type": "code",
   "execution_count": 42,
   "metadata": {
    "id": "LrlGPp9S_PpQ"
   },
   "outputs": [],
   "source": [
    "char2ind = {char: i for i, char in enumerate(vocab)}\n",
    "ind2char = {i: char for char, i in char2ind.items()}"
   ]
  },
  {
   "cell_type": "code",
   "execution_count": 43,
   "metadata": {
    "id": "D8g3pBqK_QgD"
   },
   "outputs": [],
   "source": [
    "class CharDataset:\n",
    "  def __init__(self, sentences):\n",
    "    self.data = sentences\n",
    "    self.unk_id = char2ind['<unk>']\n",
    "    self.bos_id = char2ind['<bos>']\n",
    "    self.eos_id = char2ind['<eos>']\n",
    "    self.pad_id = char2ind['<pad>']\n",
    "\n",
    "  def __getitem__(self, idx: int) -> List[int]:\n",
    "    tokenized_sentence = [self.bos_id]\n",
    "    tokenized_sentence += [char2ind.get(char, self.unk_id) for char in self.data[idx]]\n",
    "    tokenized_sentence += [self.eos_id]\n",
    "    return tokenized_sentence\n",
    "\n",
    "  def __len__(self) -> int:\n",
    "    return len(self.data)\n"
   ]
  },
  {
   "cell_type": "code",
   "execution_count": 44,
   "metadata": {
    "id": "G2M6-FYEA57U"
   },
   "outputs": [],
   "source": [
    "def collate_fn_with_padding(\n",
    "    input_batch: List[List[int]], pad_id=char2ind['<pad>']) -> torch.Tensor:\n",
    "    max_seq_len = max(len(sent) for sent in input_batch)\n",
    "    new_batch = []\n",
    "    for sequence in input_batch:\n",
    "      for _ in range(max_seq_len - len(sequence)):\n",
    "        sequence.append(pad_id)\n",
    "      new_batch.append(sequence)\n",
    "    sequences = torch.LongTensor(new_batch).to(device)\n",
    "\n",
    "    new_batch = {\n",
    "        'input_ids': sequences[:, :-1],\n",
    "        'target_ids': sequences[:, 1:]\n",
    "    }\n",
    "    return new_batch"
   ]
  },
  {
   "cell_type": "code",
   "execution_count": 45,
   "metadata": {
    "id": "XmG69EvTXGJj"
   },
   "outputs": [],
   "source": [
    "train_sentences, eval_sentences = train_test_split(sentences, test_size=0.2)\n",
    "\n",
    "train_dataset = CharDataset(train_sentences)\n",
    "eval_dataset = CharDataset(eval_sentences)\n",
    "\n",
    "train_dataloader = DataLoader(\n",
    "    train_dataset, collate_fn=collate_fn_with_padding, batch_size=128)\n",
    "\n",
    "eval_dataloader = DataLoader(\n",
    "    eval_dataset, collate_fn=collate_fn_with_padding, batch_size=128)\n"
   ]
  },
  {
   "cell_type": "code",
   "execution_count": 46,
   "metadata": {
    "id": "u2RMqWs5ZmTb"
   },
   "outputs": [],
   "source": [
    "\n",
    "class CharLM(nn.Module):\n",
    "  def __init__(self, hidden_dim: int, vocab_size: int):\n",
    "    super().__init__()\n",
    "    self.embedding = nn.Embedding(vocab_size, hidden_dim)\n",
    "    self.rnn = nn.GRU(hidden_dim, hidden_dim, batch_first=True)\n",
    "    self.Linear1 = nn.Linear(hidden_dim, hidden_dim)\n",
    "    self.Linear2 = nn.Linear(hidden_dim, hidden_dim)\n",
    "    self.Linear3 = nn.Linear(hidden_dim, hidden_dim)\n",
    "    self.projection = nn.Linear(hidden_dim, vocab_size)\n",
    "\n",
    "    self.non_lin = nn.Tanh()\n",
    "    self.dropout = nn.Dropout(p=0.2)\n",
    "\n",
    "  def forward(self, input_batch) -> torch.Tensor:\n",
    "    embeddings = self.embedding(input_batch)\n",
    "    output, _ = self.rnn(embeddings)\n",
    "    output = self.non_lin(output)\n",
    "\n",
    "    x = self.non_lin(self.Linear1(output))\n",
    "    x = self.non_lin(self.Linear2(x))\n",
    "    x = self.non_lin(self.Linear3(x))\n",
    "\n",
    "    projection = self.projection(self.non_lin(x))\n",
    "\n",
    "    return projection\n"
   ]
  },
  {
   "cell_type": "code",
   "execution_count": 47,
   "metadata": {
    "id": "mhjlYT-faec7"
   },
   "outputs": [],
   "source": [
    "def evaluate(model, criterion) -> float:\n",
    "  model.eval()\n",
    "  perplexity = []\n",
    "  with torch.no_grad():\n",
    "    for batch in eval_dataloader:\n",
    "      logits = model(batch['input_ids']).flatten(start_dim=0, end_dim=1)\n",
    "      loss = criterion(\n",
    "          logits,\n",
    "          batch['target_ids'].flatten()\n",
    "      )\n",
    "      perplexity.append(torch.exp(loss).item())\n",
    "\n",
    "  perplexity = sum(perplexity) / len(perplexity)\n",
    "  return perplexity"
   ]
  },
  {
   "cell_type": "code",
   "execution_count": 48,
   "metadata": {
    "id": "YJ0tBx3mMIjx"
   },
   "outputs": [],
   "source": [
    "model = CharLM(hidden_dim=256, vocab_size=len(vocab)).to(device)\n",
    "criterion = nn.CrossEntropyLoss(ignore_index=char2ind['<pad>'])\n",
    "optimizer = torch.optim.Adam(model.parameters())"
   ]
  },
  {
   "cell_type": "code",
   "execution_count": 49,
   "metadata": {
    "colab": {
     "base_uri": "https://localhost:8080/",
     "height": 280,
     "referenced_widgets": [
      "48f47efab7bf4203b5f2a45ad1fdac26",
      "5396ecbce7514dd08e0a31248ecc2613",
      "a017b3d2d7a74eb083b101a72108049f",
      "4dbdc68f1d4a4358a2bc340b45e6aedb",
      "d36036a4bce04e798e987511dc732799",
      "55314160bfb245e88313e5e8b632c220",
      "d484c890629a4fc4af06b71d4206fbaa",
      "33c6f1833309465c801bf091d6611677",
      "3d44be14ca6847a295c093df01025d13",
      "4a089a34c6f2461487d8299ab97b3161",
      "ce497689f6b14ce38654e8ae4c0bb757",
      "3180b835d16a4f35b76a60a08ee81f7e",
      "a18006dc93f742a09b979aa2b0be8aa4",
      "5f3c300e960b4cf1bb6732b6fff73efe",
      "771462c9b62c40078c5209101590385c",
      "938576865fe54780a39897e8fe456ea2",
      "917f0eff1bed412db044d3d753b19067",
      "9e8acc37e89f43788eb6146008c3b66d",
      "e24c6b01c2e54ba18bd97886f95a3a1f",
      "472ad9fccfed44199a5c959bdc8cb89d",
      "2370bbf1dcf3472a87491dc699add858",
      "4d71b78ff1104b789180174c7d01ddc8"
     ]
    },
    "id": "cbg7hMvVSiLE",
    "outputId": "58557a87-b3a6-4128-d3dc-2580d51a00af"
   },
   "outputs": [
    {
     "data": {
      "application/vnd.jupyter.widget-view+json": {
       "model_id": "29f4e443739a4dfb9d06f0babf04b40b",
       "version_major": 2,
       "version_minor": 0
      },
      "text/plain": [
       "Training epoch 0::   0%|          | 0/448 [00:00<?, ?it/s]"
      ]
     },
     "metadata": {},
     "output_type": "display_data"
    },
    {
     "data": {
      "application/vnd.jupyter.widget-view+json": {
       "model_id": "5aa93ed61b5449c7a1d59aa1af32fae8",
       "version_major": 2,
       "version_minor": 0
      },
      "text/plain": [
       "Training epoch 1::   0%|          | 0/448 [00:00<?, ?it/s]"
      ]
     },
     "metadata": {},
     "output_type": "display_data"
    },
    {
     "data": {
      "application/vnd.jupyter.widget-view+json": {
       "model_id": "b57a89b5633944609f4f329a0380d45e",
       "version_major": 2,
       "version_minor": 0
      },
      "text/plain": [
       "Training epoch 2::   0%|          | 0/448 [00:00<?, ?it/s]"
      ]
     },
     "metadata": {},
     "output_type": "display_data"
    },
    {
     "data": {
      "application/vnd.jupyter.widget-view+json": {
       "model_id": "ddf54ed609c64ad098ab9a472201cf65",
       "version_major": 2,
       "version_minor": 0
      },
      "text/plain": [
       "Training epoch 3::   0%|          | 0/448 [00:00<?, ?it/s]"
      ]
     },
     "metadata": {},
     "output_type": "display_data"
    },
    {
     "data": {
      "application/vnd.jupyter.widget-view+json": {
       "model_id": "0d6c31a666b74c62a9d06606fd2b1f49",
       "version_major": 2,
       "version_minor": 0
      },
      "text/plain": [
       "Training epoch 4::   0%|          | 0/448 [00:00<?, ?it/s]"
      ]
     },
     "metadata": {},
     "output_type": "display_data"
    }
   ],
   "source": [
    "num_epoch = 5\n",
    "losses = []\n",
    "perplexities = []\n",
    "\n",
    "for epoch in range(num_epoch):\n",
    "    epoch_losses = []\n",
    "    model.train()\n",
    "    for batch in tqdm(train_dataloader, desc=f'Training epoch {epoch}:'):\n",
    "        optimizer.zero_grad()\n",
    "        logits = model(batch['input_ids']).flatten(start_dim=0, end_dim=1)\n",
    "        loss = criterion(\n",
    "            logits, batch['target_ids'].flatten())\n",
    "        loss.backward()\n",
    "        optimizer.step()\n",
    "\n",
    "        epoch_losses.append(loss.item())\n",
    "\n",
    "    losses.append(sum(epoch_losses) / len(epoch_losses))\n",
    "    perplexities.append(evaluate(model, criterion))"
   ]
  },
  {
   "cell_type": "code",
   "execution_count": 50,
   "metadata": {
    "colab": {
     "base_uri": "https://localhost:8080/",
     "height": 480
    },
    "id": "UxpMRov5Z-Se",
    "outputId": "012195c2-19aa-4309-b836-9f9534e41131"
   },
   "outputs": [
    {
     "data": {
      "image/png": "[encoded data removed]",
      "text/plain": [
       "<Figure size 640x480 with 1 Axes>"
      ]
     },
     "metadata": {},
     "output_type": "display_data"
    }
   ],
   "source": [
    "plt.plot(np.arange(len(losses)), losses)\n",
    "plt.title('Losses')\n",
    "plt.xlabel('epoch')\n",
    "plt.show()\n",
    "\n"
   ]
  },
  {
   "cell_type": "code",
   "execution_count": 51,
   "metadata": {
    "colab": {
     "base_uri": "https://localhost:8080/",
     "height": 480
    },
    "id": "DZJpHVC0wiZC",
    "outputId": "71b5ff7b-06a7-4c54-8c69-3f9f8ca33c3f"
   },
   "outputs": [
    {
     "data": {
      "image/png": "[encoded data removed]",
      "text/plain": [
       "<Figure size 640x480 with 1 Axes>"
      ]
     },
     "metadata": {},
     "output_type": "display_data"
    }
   ],
   "source": [
    "plt.plot(np.arange(len(perplexities)), perplexities)\n",
    "plt.title('Perplexity')\n",
    "plt.xlabel(\"epoch\")\n",
    "plt.show()"
   ]
  },
  {
   "cell_type": "code",
   "execution_count": 52,
   "metadata": {
    "id": "HpJtyLsywsAf"
   },
   "outputs": [],
   "source": [
    "def generate_sequence(model, starting_seq: str, max_seq_len: int = 128) -> str:\n",
    "\n",
    "    device = 'cpu'\n",
    "    model = model.to(device)\n",
    "    input_ids = [char2ind['<bos>']] + [\n",
    "        char2ind.get(char, char2ind['<unk>']) for char in starting_seq]\n",
    "    input_ids = torch.LongTensor(input_ids).to(device)\n",
    "\n",
    "    model.eval()\n",
    "    with torch.no_grad():\n",
    "        for i in range(max_seq_len):\n",
    "\n",
    "            next_char_distribution = model(input_ids)[-1]\n",
    "            next_char = next_char_distribution.squeeze().argmax()\n",
    "            input_ids = torch.cat([input_ids, next_char.unsqueeze(0)])\n",
    "            if next_char.item() == char2ind['<eos>']:\n",
    "              break\n",
    "\n",
    "    words = ''.join([ind2char[idx.item()] for idx in input_ids])\n",
    "\n",
    "    return words"
   ]
  },
  {
   "cell_type": "code",
   "execution_count": 53,
   "metadata": {
    "colab": {
     "base_uri": "https://localhost:8080/",
     "height": 53
    },
    "id": "izm6HQMYxHMm",
    "outputId": "10d4de45-3b1e-46d9-83ce-2fc2577da36f"
   },
   "outputs": [
    {
     "data": {
      "text/plain": [
       "'<bos>швабрин прогуливался по своем полу не подошел в своем собрании под полуденной стороны и получала в своем собрании под полуденной стороны и получала в св'"
      ]
     },
     "execution_count": 53,
     "metadata": {},
     "output_type": "execute_result"
    }
   ],
   "source": [
    "generate_sequence(model, starting_seq='швабрин прогуливался по ', max_seq_len=128)"
   ]
  },
  {
   "cell_type": "code",
   "execution_count": 54,
   "metadata": {
    "id": "acjGQITfxLXN"
   },
   "outputs": [],
   "source": [
    "def generate_big(model, starting_seq: str, max_seq_len: int = 256, vel=3):\n",
    "  res = ''\n",
    "  for i in range(vel):\n",
    "    res += generate_sequence(model, starting_seq=res, max_seq_len=max_seq_len)\n",
    "    print(res)\n",
    "  return res\n"
   ]
  },
  {
   "cell_type": "code",
   "execution_count": 55,
   "metadata": {
    "colab": {
     "base_uri": "https://localhost:8080/",
     "height": 163
    },
    "id": "9li9p02Qx4MB",
    "outputId": "230f4de1-d7d9-4f95-f0a7-243665e67f8e"
   },
   "outputs": [
    {
     "name": "stdout",
     "output_type": "stream",
     "text": [
      "<bos>он подал ему под полуденной стороны и получала в своем собрании под полуденной стороны и получала в своем собрании под полуденной стороны и получала в своем собрании под полуденной стороны и получала в своем собрании под полуденной стороны и получала в сво\n",
      "<bos>он подал ему под полуденной стороны и получала в своем собрании под полуденной стороны и получала в своем собрании под полуденной стороны и получала в своем собрании под полуденной стороны и получала в своем собрании под полуденной стороны и получала в сво<bos><unk><unk><unk>s<unk>он подал ему под полуденной стороны и получала в своем собрании под полуденной стороны и получала в своем собрании под полуденной стороны и получала в своем собрании под полуденной стороны и получала в своем собрании под полуденной стороны и получала в своем собрании под полуденной стороны и получала в своем собрании под полуденной стороны и получала в своем собрании под полуденной стороны и получала в своем собрании под полуденной стороны и получала в своем собрании под полуденной стороны и получала в свое\n",
      "<bos>он подал ему под полуденной стороны и получала в своем собрании под полуденной стороны и получала в своем собрании под полуденной стороны и получала в своем собрании под полуденной стороны и получала в своем собрании под полуденной стороны и получала в сво<bos><unk><unk><unk>s<unk>он подал ему под полуденной стороны и получала в своем собрании под полуденной стороны и получала в своем собрании под полуденной стороны и получала в своем собрании под полуденной стороны и получала в своем собрании под полуденной стороны и получала в своем собрании под полуденной стороны и получала в своем собрании под полуденной стороны и получала в своем собрании под полуденной стороны и получала в своем собрании под полуденной стороны и получала в своем собрании под полуденной стороны и получала в свое<bos><unk><unk><unk>s<unk>он подал ему под полуденной стороны и получала в своем собрании под полуденной стороны и получала в своем собрании под полуденной стороны и получала в своем собрании под полуденной стороны и получала в своем собрании под полуденной стороны и получала в сво<unk><unk><unk>s<unk><unk><unk><unk><unk><unk><unk><unk><unk><unk><unk><unk><unk><unk><unk><unk>s<unk><unk><unk><unk><unk>он подал ему под полуденной стороны и получала в своем собрании под полуденной стороны и получала в своем собрании под полуденной стороны и получала в своем собрании под полуденной стороны и получала в своем собрании под полуденной стороны и получала в своем собрании под полуденной стороны и получала в своем собрании под полуденной стороны и получала в своем собрании под полуденной стороны и получала в своем собрании под полуденной стороны и получала в своем собрании под полуденной стороны и получала в своем собрании под полуденной стороны и получала в своем собрании под полуденной стороны и получала в своем собрании под полуденной стороны и получала в своем собрании под полуденной стороны и получала в своем собрании под полуденной стороны и получала в своем\n"
     ]
    },
    {
     "data": {
      "text/plain": [
       "'<bos>он подал ему под полуденной стороны и получала в своем собрании под полуденной стороны и получала в своем собрании под полуденной стороны и получала в своем собрании под полуденной стороны и получала в своем собрании под полуденной стороны и получала в сво<bos><unk><unk><unk>s<unk>он подал ему под полуденной стороны и получала в своем собрании под полуденной стороны и получала в своем собрании под полуденной стороны и получала в своем собрании под полуденной стороны и получала в своем собрании под полуденной стороны и получала в своем собрании под полуденной стороны и получала в своем собрании под полуденной стороны и получала в своем собрании под полуденной стороны и получала в своем собрании под полуденной стороны и получала в своем собрании под полуденной стороны и получала в свое<bos><unk><unk><unk>s<unk>он подал ему под полуденной стороны и получала в своем собрании под полуденной стороны и получала в своем собрании под полуденной стороны и получала в своем собрании под полуденной стороны и получала в своем собрании под полуденной стороны и получала в сво<unk><unk><unk>s<unk><unk><unk><unk><unk><unk><unk><unk><unk><unk><unk><unk><unk><unk><unk><unk>s<unk><unk><unk><unk><unk>он подал ему под полуденной стороны и получала в своем собрании под полуденной стороны и получала в своем собрании под полуденной стороны и получала в своем собрании под полуденной стороны и получала в своем собрании под полуденной стороны и получала в своем собрании под полуденной стороны и получала в своем собрании под полуденной стороны и получала в своем собрании под полуденной стороны и получала в своем собрании под полуденной стороны и получала в своем собрании под полуденной стороны и получала в своем собрании под полуденной стороны и получала в своем собрании под полуденной стороны и получала в своем собрании под полуденной стороны и получала в своем собрании под полуденной стороны и получала в своем собрании под полуденной стороны и получала в своем'"
      ]
     },
     "execution_count": 55,
     "metadata": {},
     "output_type": "execute_result"
    }
   ],
   "source": [
    "generate_big(model, starting_seq='о, какой замечательный')"
   ]
  },
  {
   "cell_type": "code",
   "execution_count": null,
   "metadata": {
    "id": "nzAWXf8L-P_b"
   },
   "outputs": [],
   "source": []
  },
  {
   "cell_type": "code",
   "execution_count": null,
   "metadata": {},
   "outputs": [],
   "source": []
  },
  {
   "cell_type": "code",
   "execution_count": null,
   "metadata": {},
   "outputs": [],
   "source": []
  },
  {
   "cell_type": "code",
   "execution_count": null,
   "metadata": {},
   "outputs": [],
   "source": []
  },
  {
   "cell_type": "code",
   "execution_count": null,
   "metadata": {},
   "outputs": [],
   "source": []
  },
  {
   "cell_type": "code",
   "execution_count": null,
   "metadata": {},
   "outputs": [],
   "source": []
  },
  {
   "cell_type": "code",
   "execution_count": null,
   "metadata": {},
   "outputs": [],
   "source": []
  },
  {
   "cell_type": "code",
   "execution_count": null,
   "metadata": {},
   "outputs": [],
   "source": []
  },
  {
   "cell_type": "code",
   "execution_count": null,
   "metadata": {},
   "outputs": [],
   "source": []
  },
  {
   "cell_type": "code",
   "execution_count": null,
   "metadata": {},
   "outputs": [],
   "source": []
  },
  {
   "cell_type": "code",
   "execution_count": null,
   "metadata": {},
   "outputs": [],
   "source": []
  },
  {
   "cell_type": "code",
   "execution_count": null,
   "metadata": {},
   "outputs": [],
   "source": []
  }
 ],
 "metadata": {
  "accelerator": "GPU",
  "colab": {
   "gpuType": "T4",
   "provenance": []
  },
  "kernelspec": {
   "display_name": "Python 3 (ipykernel)",
   "language": "python",
   "name": "python3"
  },
  "language_info": {
   "codemirror_mode": {
    "name": "ipython",
    "version": 3
   },
   "file_extension": ".py",
   "mimetype": "text/x-python",
   "name": "python",
   "nbconvert_exporter": "python",
   "pygments_lexer": "ipython3",
   "version": "3.12.4"
  },
  "widgets": {
   "application/vnd.jupyter.widget-state+json": {
    "01c329865df44e979627c3acf87088b4": {
     "model_module": "@jupyter-widgets/controls",
     "model_module_version": "1.5.0",
     "model_name": "HTMLModel",
     "state": {
      "_dom_classes": [],
      "_model_module": "@jupyter-widgets/controls",
      "_model_module_version": "1.5.0",
      "_model_name": "HTMLModel",
      "_view_count": null,
      "_view_module": "@jupyter-widgets/controls",
      "_view_module_version": "1.5.0",
      "_view_name": "HTMLView",
      "description": "",
      "description_tooltip": null,
      "layout": "IPY_MODEL_18291c5e5eeb4cbd8547f29b21717d6e",
      "placeholder": "​",
      "style": "IPY_MODEL_436d5113ca7246f7b593e5000671d05c",
      "value": " 111/111 [00:00&lt;00:00, 7699.41it/s]"
     }
    },
    "18291c5e5eeb4cbd8547f29b21717d6e": {
     "model_module": "@jupyter-widgets/base",
     "model_module_version": "1.2.0",
     "model_name": "LayoutModel",
     "state": {
      "_model_module": "@jupyter-widgets/base",
      "_model_module_version": "1.2.0",
      "_model_name": "LayoutModel",
      "_view_count": null,
      "_view_module": "@jupyter-widgets/base",
      "_view_module_version": "1.2.0",
      "_view_name": "LayoutView",
      "align_content": null,
      "align_items": null,
      "align_self": null,
      "border": null,
      "bottom": null,
      "display": null,
      "flex": null,
      "flex_flow": null,
      "grid_area": null,
      "grid_auto_columns": null,
      "grid_auto_flow": null,
      "grid_auto_rows": null,
      "grid_column": null,
      "grid_gap": null,
      "grid_row": null,
      "grid_template_areas": null,
      "grid_template_columns": null,
      "grid_template_rows": null,
      "height": null,
      "justify_content": null,
      "justify_items": null,
      "left": null,
      "margin": null,
      "max_height": null,
      "max_width": null,
      "min_height": null,
      "min_width": null,
      "object_fit": null,
      "object_position": null,
      "order": null,
      "overflow": null,
      "overflow_x": null,
      "overflow_y": null,
      "padding": null,
      "right": null,
      "top": null,
      "visibility": null,
      "width": null
     }
    },
    "19bab6ab3a0a45d288aa03e687c7b475": {
     "model_module": "@jupyter-widgets/controls",
     "model_module_version": "1.5.0",
     "model_name": "DescriptionStyleModel",
     "state": {
      "_model_module": "@jupyter-widgets/controls",
      "_model_module_version": "1.5.0",
      "_model_name": "DescriptionStyleModel",
      "_view_count": null,
      "_view_module": "@jupyter-widgets/base",
      "_view_module_version": "1.2.0",
      "_view_name": "StyleView",
      "description_width": ""
     }
    },
    "2370bbf1dcf3472a87491dc699add858": {
     "model_module": "@jupyter-widgets/base",
     "model_module_version": "1.2.0",
     "model_name": "LayoutModel",
     "state": {
      "_model_module": "@jupyter-widgets/base",
      "_model_module_version": "1.2.0",
      "_model_name": "LayoutModel",
      "_view_count": null,
      "_view_module": "@jupyter-widgets/base",
      "_view_module_version": "1.2.0",
      "_view_name": "LayoutView",
      "align_content": null,
      "align_items": null,
      "align_self": null,
      "border": null,
      "bottom": null,
      "display": null,
      "flex": null,
      "flex_flow": null,
      "grid_area": null,
      "grid_auto_columns": null,
      "grid_auto_flow": null,
      "grid_auto_rows": null,
      "grid_column": null,
      "grid_gap": null,
      "grid_row": null,
      "grid_template_areas": null,
      "grid_template_columns": null,
      "grid_template_rows": null,
      "height": null,
      "justify_content": null,
      "justify_items": null,
      "left": null,
      "margin": null,
      "max_height": null,
      "max_width": null,
      "min_height": null,
      "min_width": null,
      "object_fit": null,
      "object_position": null,
      "order": null,
      "overflow": null,
      "overflow_x": null,
      "overflow_y": null,
      "padding": null,
      "right": null,
      "top": null,
      "visibility": null,
      "width": null
     }
    },
    "251dbdb60e5947428ee7167aa48fbc56": {
     "model_module": "@jupyter-widgets/base",
     "model_module_version": "1.2.0",
     "model_name": "LayoutModel",
     "state": {
      "_model_module": "@jupyter-widgets/base",
      "_model_module_version": "1.2.0",
      "_model_name": "LayoutModel",
      "_view_count": null,
      "_view_module": "@jupyter-widgets/base",
      "_view_module_version": "1.2.0",
      "_view_name": "LayoutView",
      "align_content": null,
      "align_items": null,
      "align_self": null,
      "border": null,
      "bottom": null,
      "display": null,
      "flex": null,
      "flex_flow": null,
      "grid_area": null,
      "grid_auto_columns": null,
      "grid_auto_flow": null,
      "grid_auto_rows": null,
      "grid_column": null,
      "grid_gap": null,
      "grid_row": null,
      "grid_template_areas": null,
      "grid_template_columns": null,
      "grid_template_rows": null,
      "height": null,
      "justify_content": null,
      "justify_items": null,
      "left": null,
      "margin": null,
      "max_height": null,
      "max_width": null,
      "min_height": null,
      "min_width": null,
      "object_fit": null,
      "object_position": null,
      "order": null,
      "overflow": null,
      "overflow_x": null,
      "overflow_y": null,
      "padding": null,
      "right": null,
      "top": null,
      "visibility": null,
      "width": null
     }
    },
    "2c3838813736459fb08f7f65a3c79e8e": {
     "model_module": "@jupyter-widgets/base",
     "model_module_version": "1.2.0",
     "model_name": "LayoutModel",
     "state": {
      "_model_module": "@jupyter-widgets/base",
      "_model_module_version": "1.2.0",
      "_model_name": "LayoutModel",
      "_view_count": null,
      "_view_module": "@jupyter-widgets/base",
      "_view_module_version": "1.2.0",
      "_view_name": "LayoutView",
      "align_content": null,
      "align_items": null,
      "align_self": null,
      "border": null,
      "bottom": null,
      "display": null,
      "flex": null,
      "flex_flow": null,
      "grid_area": null,
      "grid_auto_columns": null,
      "grid_auto_flow": null,
      "grid_auto_rows": null,
      "grid_column": null,
      "grid_gap": null,
      "grid_row": null,
      "grid_template_areas": null,
      "grid_template_columns": null,
      "grid_template_rows": null,
      "height": null,
      "justify_content": null,
      "justify_items": null,
      "left": null,
      "margin": null,
      "max_height": null,
      "max_width": null,
      "min_height": null,
      "min_width": null,
      "object_fit": null,
      "object_position": null,
      "order": null,
      "overflow": null,
      "overflow_x": null,
      "overflow_y": null,
      "padding": null,
      "right": null,
      "top": null,
      "visibility": null,
      "width": null
     }
    },
    "3180b835d16a4f35b76a60a08ee81f7e": {
     "model_module": "@jupyter-widgets/controls",
     "model_module_version": "1.5.0",
     "model_name": "HBoxModel",
     "state": {
      "_dom_classes": [],
      "_model_module": "@jupyter-widgets/controls",
      "_model_module_version": "1.5.0",
      "_model_name": "HBoxModel",
      "_view_count": null,
      "_view_module": "@jupyter-widgets/controls",
      "_view_module_version": "1.5.0",
      "_view_name": "HBoxView",
      "box_style": "",
      "children": [
       "IPY_MODEL_a18006dc93f742a09b979aa2b0be8aa4",
       "IPY_MODEL_5f3c300e960b4cf1bb6732b6fff73efe",
       "IPY_MODEL_771462c9b62c40078c5209101590385c"
      ],
      "layout": "IPY_MODEL_938576865fe54780a39897e8fe456ea2"
     }
    },
    "33c6f1833309465c801bf091d6611677": {
     "model_module": "@jupyter-widgets/base",
     "model_module_version": "1.2.0",
     "model_name": "LayoutModel",
     "state": {
      "_model_module": "@jupyter-widgets/base",
      "_model_module_version": "1.2.0",
      "_model_name": "LayoutModel",
      "_view_count": null,
      "_view_module": "@jupyter-widgets/base",
      "_view_module_version": "1.2.0",
      "_view_name": "LayoutView",
      "align_content": null,
      "align_items": null,
      "align_self": null,
      "border": null,
      "bottom": null,
      "display": null,
      "flex": null,
      "flex_flow": null,
      "grid_area": null,
      "grid_auto_columns": null,
      "grid_auto_flow": null,
      "grid_auto_rows": null,
      "grid_column": null,
      "grid_gap": null,
      "grid_row": null,
      "grid_template_areas": null,
      "grid_template_columns": null,
      "grid_template_rows": null,
      "height": null,
      "justify_content": null,
      "justify_items": null,
      "left": null,
      "margin": null,
      "max_height": null,
      "max_width": null,
      "min_height": null,
      "min_width": null,
      "object_fit": null,
      "object_position": null,
      "order": null,
      "overflow": null,
      "overflow_x": null,
      "overflow_y": null,
      "padding": null,
      "right": null,
      "top": null,
      "visibility": null,
      "width": null
     }
    },
    "3d20dfd6675547fcad5ed1be7b96c50a": {
     "model_module": "@jupyter-widgets/base",
     "model_module_version": "1.2.0",
     "model_name": "LayoutModel",
     "state": {
      "_model_module": "@jupyter-widgets/base",
      "_model_module_version": "1.2.0",
      "_model_name": "LayoutModel",
      "_view_count": null,
      "_view_module": "@jupyter-widgets/base",
      "_view_module_version": "1.2.0",
      "_view_name": "LayoutView",
      "align_content": null,
      "align_items": null,
      "align_self": null,
      "border": null,
      "bottom": null,
      "display": null,
      "flex": null,
      "flex_flow": null,
      "grid_area": null,
      "grid_auto_columns": null,
      "grid_auto_flow": null,
      "grid_auto_rows": null,
      "grid_column": null,
      "grid_gap": null,
      "grid_row": null,
      "grid_template_areas": null,
      "grid_template_columns": null,
      "grid_template_rows": null,
      "height": null,
      "justify_content": null,
      "justify_items": null,
      "left": null,
      "margin": null,
      "max_height": null,
      "max_width": null,
      "min_height": null,
      "min_width": null,
      "object_fit": null,
      "object_position": null,
      "order": null,
      "overflow": null,
      "overflow_x": null,
      "overflow_y": null,
      "padding": null,
      "right": null,
      "top": null,
      "visibility": null,
      "width": null
     }
    },
    "3d44be14ca6847a295c093df01025d13": {
     "model_module": "@jupyter-widgets/controls",
     "model_module_version": "1.5.0",
     "model_name": "ProgressStyleModel",
     "state": {
      "_model_module": "@jupyter-widgets/controls",
      "_model_module_version": "1.5.0",
      "_model_name": "ProgressStyleModel",
      "_view_count": null,
      "_view_module": "@jupyter-widgets/base",
      "_view_module_version": "1.2.0",
      "_view_name": "StyleView",
      "bar_color": null,
      "description_width": ""
     }
    },
    "3d9d43c33bae477386e4703e40bd0500": {
     "model_module": "@jupyter-widgets/controls",
     "model_module_version": "1.5.0",
     "model_name": "HTMLModel",
     "state": {
      "_dom_classes": [],
      "_model_module": "@jupyter-widgets/controls",
      "_model_module_version": "1.5.0",
      "_model_name": "HTMLModel",
      "_view_count": null,
      "_view_module": "@jupyter-widgets/controls",
      "_view_module_version": "1.5.0",
      "_view_name": "HTMLView",
      "description": "",
      "description_tooltip": null,
      "layout": "IPY_MODEL_95033b44fd3a481f955fa88f4af09b9a",
      "placeholder": "​",
      "style": "IPY_MODEL_19bab6ab3a0a45d288aa03e687c7b475",
      "value": " 56885/56885 [00:02&lt;00:00, 29815.34it/s]"
     }
    },
    "436d5113ca7246f7b593e5000671d05c": {
     "model_module": "@jupyter-widgets/controls",
     "model_module_version": "1.5.0",
     "model_name": "DescriptionStyleModel",
     "state": {
      "_model_module": "@jupyter-widgets/controls",
      "_model_module_version": "1.5.0",
      "_model_name": "DescriptionStyleModel",
      "_view_count": null,
      "_view_module": "@jupyter-widgets/base",
      "_view_module_version": "1.2.0",
      "_view_name": "StyleView",
      "description_width": ""
     }
    },
    "472ad9fccfed44199a5c959bdc8cb89d": {
     "model_module": "@jupyter-widgets/controls",
     "model_module_version": "1.5.0",
     "model_name": "ProgressStyleModel",
     "state": {
      "_model_module": "@jupyter-widgets/controls",
      "_model_module_version": "1.5.0",
      "_model_name": "ProgressStyleModel",
      "_view_count": null,
      "_view_module": "@jupyter-widgets/base",
      "_view_module_version": "1.2.0",
      "_view_name": "StyleView",
      "bar_color": null,
      "description_width": ""
     }
    },
    "473886c646a142dbafcf1a17dccd9742": {
     "model_module": "@jupyter-widgets/controls",
     "model_module_version": "1.5.0",
     "model_name": "HTMLModel",
     "state": {
      "_dom_classes": [],
      "_model_module": "@jupyter-widgets/controls",
      "_model_module_version": "1.5.0",
      "_model_name": "HTMLModel",
      "_view_count": null,
      "_view_module": "@jupyter-widgets/controls",
      "_view_module_version": "1.5.0",
      "_view_name": "HTMLView",
      "description": "",
      "description_tooltip": null,
      "layout": "IPY_MODEL_c97efdd395c04efc96d77a5ac894b21d",
      "placeholder": "​",
      "style": "IPY_MODEL_939dab3d75224677bb0f07b1ada2f38a",
      "value": "100%"
     }
    },
    "48f47efab7bf4203b5f2a45ad1fdac26": {
     "model_module": "@jupyter-widgets/controls",
     "model_module_version": "1.5.0",
     "model_name": "HBoxModel",
     "state": {
      "_dom_classes": [],
      "_model_module": "@jupyter-widgets/controls",
      "_model_module_version": "1.5.0",
      "_model_name": "HBoxModel",
      "_view_count": null,
      "_view_module": "@jupyter-widgets/controls",
      "_view_module_version": "1.5.0",
      "_view_name": "HBoxView",
      "box_style": "",
      "children": [
       "IPY_MODEL_5396ecbce7514dd08e0a31248ecc2613",
       "IPY_MODEL_a017b3d2d7a74eb083b101a72108049f",
       "IPY_MODEL_4dbdc68f1d4a4358a2bc340b45e6aedb"
      ],
      "layout": "IPY_MODEL_d36036a4bce04e798e987511dc732799"
     }
    },
    "4a089a34c6f2461487d8299ab97b3161": {
     "model_module": "@jupyter-widgets/base",
     "model_module_version": "1.2.0",
     "model_name": "LayoutModel",
     "state": {
      "_model_module": "@jupyter-widgets/base",
      "_model_module_version": "1.2.0",
      "_model_name": "LayoutModel",
      "_view_count": null,
      "_view_module": "@jupyter-widgets/base",
      "_view_module_version": "1.2.0",
      "_view_name": "LayoutView",
      "align_content": null,
      "align_items": null,
      "align_self": null,
      "border": null,
      "bottom": null,
      "display": null,
      "flex": null,
      "flex_flow": null,
      "grid_area": null,
      "grid_auto_columns": null,
      "grid_auto_flow": null,
      "grid_auto_rows": null,
      "grid_column": null,
      "grid_gap": null,
      "grid_row": null,
      "grid_template_areas": null,
      "grid_template_columns": null,
      "grid_template_rows": null,
      "height": null,
      "justify_content": null,
      "justify_items": null,
      "left": null,
      "margin": null,
      "max_height": null,
      "max_width": null,
      "min_height": null,
      "min_width": null,
      "object_fit": null,
      "object_position": null,
      "order": null,
      "overflow": null,
      "overflow_x": null,
      "overflow_y": null,
      "padding": null,
      "right": null,
      "top": null,
      "visibility": null,
      "width": null
     }
    },
    "4d71b78ff1104b789180174c7d01ddc8": {
     "model_module": "@jupyter-widgets/controls",
     "model_module_version": "1.5.0",
     "model_name": "DescriptionStyleModel",
     "state": {
      "_model_module": "@jupyter-widgets/controls",
      "_model_module_version": "1.5.0",
      "_model_name": "DescriptionStyleModel",
      "_view_count": null,
      "_view_module": "@jupyter-widgets/base",
      "_view_module_version": "1.2.0",
      "_view_name": "StyleView",
      "description_width": ""
     }
    },
    "4dbdc68f1d4a4358a2bc340b45e6aedb": {
     "model_module": "@jupyter-widgets/controls",
     "model_module_version": "1.5.0",
     "model_name": "HTMLModel",
     "state": {
      "_dom_classes": [],
      "_model_module": "@jupyter-widgets/controls",
      "_model_module_version": "1.5.0",
      "_model_name": "HTMLModel",
      "_view_count": null,
      "_view_module": "@jupyter-widgets/controls",
      "_view_module_version": "1.5.0",
      "_view_name": "HTMLView",
      "description": "",
      "description_tooltip": null,
      "layout": "IPY_MODEL_4a089a34c6f2461487d8299ab97b3161",
      "placeholder": "​",
      "style": "IPY_MODEL_ce497689f6b14ce38654e8ae4c0bb757",
      "value": " 356/356 [01:17&lt;00:00,  6.56it/s]"
     }
    },
    "5396ecbce7514dd08e0a31248ecc2613": {
     "model_module": "@jupyter-widgets/controls",
     "model_module_version": "1.5.0",
     "model_name": "HTMLModel",
     "state": {
      "_dom_classes": [],
      "_model_module": "@jupyter-widgets/controls",
      "_model_module_version": "1.5.0",
      "_model_name": "HTMLModel",
      "_view_count": null,
      "_view_module": "@jupyter-widgets/controls",
      "_view_module_version": "1.5.0",
      "_view_name": "HTMLView",
      "description": "",
      "description_tooltip": null,
      "layout": "IPY_MODEL_55314160bfb245e88313e5e8b632c220",
      "placeholder": "​",
      "style": "IPY_MODEL_d484c890629a4fc4af06b71d4206fbaa",
      "value": "Training epoch 0:: 100%"
     }
    },
    "53cfcf9baae64e38ad8e5e962ea3e1e2": {
     "model_module": "@jupyter-widgets/controls",
     "model_module_version": "1.5.0",
     "model_name": "FloatProgressModel",
     "state": {
      "_dom_classes": [],
      "_model_module": "@jupyter-widgets/controls",
      "_model_module_version": "1.5.0",
      "_model_name": "FloatProgressModel",
      "_view_count": null,
      "_view_module": "@jupyter-widgets/controls",
      "_view_module_version": "1.5.0",
      "_view_name": "ProgressView",
      "bar_style": "success",
      "description": "",
      "description_tooltip": null,
      "layout": "IPY_MODEL_9f2fcccda28a408882824801bb257e00",
      "max": 56885,
      "min": 0,
      "orientation": "horizontal",
      "style": "IPY_MODEL_c1ed1f5625a1472e98360d055dccd705",
      "value": 56885
     }
    },
    "55314160bfb245e88313e5e8b632c220": {
     "model_module": "@jupyter-widgets/base",
     "model_module_version": "1.2.0",
     "model_name": "LayoutModel",
     "state": {
      "_model_module": "@jupyter-widgets/base",
      "_model_module_version": "1.2.0",
      "_model_name": "LayoutModel",
      "_view_count": null,
      "_view_module": "@jupyter-widgets/base",
      "_view_module_version": "1.2.0",
      "_view_name": "LayoutView",
      "align_content": null,
      "align_items": null,
      "align_self": null,
      "border": null,
      "bottom": null,
      "display": null,
      "flex": null,
      "flex_flow": null,
      "grid_area": null,
      "grid_auto_columns": null,
      "grid_auto_flow": null,
      "grid_auto_rows": null,
      "grid_column": null,
      "grid_gap": null,
      "grid_row": null,
      "grid_template_areas": null,
      "grid_template_columns": null,
      "grid_template_rows": null,
      "height": null,
      "justify_content": null,
      "justify_items": null,
      "left": null,
      "margin": null,
      "max_height": null,
      "max_width": null,
      "min_height": null,
      "min_width": null,
      "object_fit": null,
      "object_position": null,
      "order": null,
      "overflow": null,
      "overflow_x": null,
      "overflow_y": null,
      "padding": null,
      "right": null,
      "top": null,
      "visibility": null,
      "width": null
     }
    },
    "5f3c300e960b4cf1bb6732b6fff73efe": {
     "model_module": "@jupyter-widgets/controls",
     "model_module_version": "1.5.0",
     "model_name": "FloatProgressModel",
     "state": {
      "_dom_classes": [],
      "_model_module": "@jupyter-widgets/controls",
      "_model_module_version": "1.5.0",
      "_model_name": "FloatProgressModel",
      "_view_count": null,
      "_view_module": "@jupyter-widgets/controls",
      "_view_module_version": "1.5.0",
      "_view_name": "ProgressView",
      "bar_style": "danger",
      "description": "",
      "description_tooltip": null,
      "layout": "IPY_MODEL_e24c6b01c2e54ba18bd97886f95a3a1f",
      "max": 356,
      "min": 0,
      "orientation": "horizontal",
      "style": "IPY_MODEL_472ad9fccfed44199a5c959bdc8cb89d",
      "value": 52
     }
    },
    "6633fda49f5a4e54b86799fb40a05e6a": {
     "model_module": "@jupyter-widgets/controls",
     "model_module_version": "1.5.0",
     "model_name": "FloatProgressModel",
     "state": {
      "_dom_classes": [],
      "_model_module": "@jupyter-widgets/controls",
      "_model_module_version": "1.5.0",
      "_model_name": "FloatProgressModel",
      "_view_count": null,
      "_view_module": "@jupyter-widgets/controls",
      "_view_module_version": "1.5.0",
      "_view_name": "ProgressView",
      "bar_style": "success",
      "description": "",
      "description_tooltip": null,
      "layout": "IPY_MODEL_bc896690322a4331a10cc5960c94272e",
      "max": 111,
      "min": 0,
      "orientation": "horizontal",
      "style": "IPY_MODEL_beb931151fde4bf8840ad6a00206f42b",
      "value": 111
     }
    },
    "73a0f1069b9143d0b9fc27805d587e1a": {
     "model_module": "@jupyter-widgets/controls",
     "model_module_version": "1.5.0",
     "model_name": "HBoxModel",
     "state": {
      "_dom_classes": [],
      "_model_module": "@jupyter-widgets/controls",
      "_model_module_version": "1.5.0",
      "_model_name": "HBoxModel",
      "_view_count": null,
      "_view_module": "@jupyter-widgets/controls",
      "_view_module_version": "1.5.0",
      "_view_name": "HBoxView",
      "box_style": "",
      "children": [
       "IPY_MODEL_473886c646a142dbafcf1a17dccd9742",
       "IPY_MODEL_6633fda49f5a4e54b86799fb40a05e6a",
       "IPY_MODEL_01c329865df44e979627c3acf87088b4"
      ],
      "layout": "IPY_MODEL_3d20dfd6675547fcad5ed1be7b96c50a"
     }
    },
    "771462c9b62c40078c5209101590385c": {
     "model_module": "@jupyter-widgets/controls",
     "model_module_version": "1.5.0",
     "model_name": "HTMLModel",
     "state": {
      "_dom_classes": [],
      "_model_module": "@jupyter-widgets/controls",
      "_model_module_version": "1.5.0",
      "_model_name": "HTMLModel",
      "_view_count": null,
      "_view_module": "@jupyter-widgets/controls",
      "_view_module_version": "1.5.0",
      "_view_name": "HTMLView",
      "description": "",
      "description_tooltip": null,
      "layout": "IPY_MODEL_2370bbf1dcf3472a87491dc699add858",
      "placeholder": "​",
      "style": "IPY_MODEL_4d71b78ff1104b789180174c7d01ddc8",
      "value": " 52/356 [00:11&lt;01:02,  4.83it/s]"
     }
    },
    "8d805b6618664f059d983f60c10f3af1": {
     "model_module": "@jupyter-widgets/controls",
     "model_module_version": "1.5.0",
     "model_name": "HTMLModel",
     "state": {
      "_dom_classes": [],
      "_model_module": "@jupyter-widgets/controls",
      "_model_module_version": "1.5.0",
      "_model_name": "HTMLModel",
      "_view_count": null,
      "_view_module": "@jupyter-widgets/controls",
      "_view_module_version": "1.5.0",
      "_view_name": "HTMLView",
      "description": "",
      "description_tooltip": null,
      "layout": "IPY_MODEL_2c3838813736459fb08f7f65a3c79e8e",
      "placeholder": "​",
      "style": "IPY_MODEL_a14b9e2e31bf4090ba06c512c2a24212",
      "value": "100%"
     }
    },
    "917f0eff1bed412db044d3d753b19067": {
     "model_module": "@jupyter-widgets/base",
     "model_module_version": "1.2.0",
     "model_name": "LayoutModel",
     "state": {
      "_model_module": "@jupyter-widgets/base",
      "_model_module_version": "1.2.0",
      "_model_name": "LayoutModel",
      "_view_count": null,
      "_view_module": "@jupyter-widgets/base",
      "_view_module_version": "1.2.0",
      "_view_name": "LayoutView",
      "align_content": null,
      "align_items": null,
      "align_self": null,
      "border": null,
      "bottom": null,
      "display": null,
      "flex": null,
      "flex_flow": null,
      "grid_area": null,
      "grid_auto_columns": null,
      "grid_auto_flow": null,
      "grid_auto_rows": null,
      "grid_column": null,
      "grid_gap": null,
      "grid_row": null,
      "grid_template_areas": null,
      "grid_template_columns": null,
      "grid_template_rows": null,
      "height": null,
      "justify_content": null,
      "justify_items": null,
      "left": null,
      "margin": null,
      "max_height": null,
      "max_width": null,
      "min_height": null,
      "min_width": null,
      "object_fit": null,
      "object_position": null,
      "order": null,
      "overflow": null,
      "overflow_x": null,
      "overflow_y": null,
      "padding": null,
      "right": null,
      "top": null,
      "visibility": null,
      "width": null
     }
    },
    "938576865fe54780a39897e8fe456ea2": {
     "model_module": "@jupyter-widgets/base",
     "model_module_version": "1.2.0",
     "model_name": "LayoutModel",
     "state": {
      "_model_module": "@jupyter-widgets/base",
      "_model_module_version": "1.2.0",
      "_model_name": "LayoutModel",
      "_view_count": null,
      "_view_module": "@jupyter-widgets/base",
      "_view_module_version": "1.2.0",
      "_view_name": "LayoutView",
      "align_content": null,
      "align_items": null,
      "align_self": null,
      "border": null,
      "bottom": null,
      "display": null,
      "flex": null,
      "flex_flow": null,
      "grid_area": null,
      "grid_auto_columns": null,
      "grid_auto_flow": null,
      "grid_auto_rows": null,
      "grid_column": null,
      "grid_gap": null,
      "grid_row": null,
      "grid_template_areas": null,
      "grid_template_columns": null,
      "grid_template_rows": null,
      "height": null,
      "justify_content": null,
      "justify_items": null,
      "left": null,
      "margin": null,
      "max_height": null,
      "max_width": null,
      "min_height": null,
      "min_width": null,
      "object_fit": null,
      "object_position": null,
      "order": null,
      "overflow": null,
      "overflow_x": null,
      "overflow_y": null,
      "padding": null,
      "right": null,
      "top": null,
      "visibility": null,
      "width": null
     }
    },
    "939dab3d75224677bb0f07b1ada2f38a": {
     "model_module": "@jupyter-widgets/controls",
     "model_module_version": "1.5.0",
     "model_name": "DescriptionStyleModel",
     "state": {
      "_model_module": "@jupyter-widgets/controls",
      "_model_module_version": "1.5.0",
      "_model_name": "DescriptionStyleModel",
      "_view_count": null,
      "_view_module": "@jupyter-widgets/base",
      "_view_module_version": "1.2.0",
      "_view_name": "StyleView",
      "description_width": ""
     }
    },
    "95033b44fd3a481f955fa88f4af09b9a": {
     "model_module": "@jupyter-widgets/base",
     "model_module_version": "1.2.0",
     "model_name": "LayoutModel",
     "state": {
      "_model_module": "@jupyter-widgets/base",
      "_model_module_version": "1.2.0",
      "_model_name": "LayoutModel",
      "_view_count": null,
      "_view_module": "@jupyter-widgets/base",
      "_view_module_version": "1.2.0",
      "_view_name": "LayoutView",
      "align_content": null,
      "align_items": null,
      "align_self": null,
      "border": null,
      "bottom": null,
      "display": null,
      "flex": null,
      "flex_flow": null,
      "grid_area": null,
      "grid_auto_columns": null,
      "grid_auto_flow": null,
      "grid_auto_rows": null,
      "grid_column": null,
      "grid_gap": null,
      "grid_row": null,
      "grid_template_areas": null,
      "grid_template_columns": null,
      "grid_template_rows": null,
      "height": null,
      "justify_content": null,
      "justify_items": null,
      "left": null,
      "margin": null,
      "max_height": null,
      "max_width": null,
      "min_height": null,
      "min_width": null,
      "object_fit": null,
      "object_position": null,
      "order": null,
      "overflow": null,
      "overflow_x": null,
      "overflow_y": null,
      "padding": null,
      "right": null,
      "top": null,
      "visibility": null,
      "width": null
     }
    },
    "9e8acc37e89f43788eb6146008c3b66d": {
     "model_module": "@jupyter-widgets/controls",
     "model_module_version": "1.5.0",
     "model_name": "DescriptionStyleModel",
     "state": {
      "_model_module": "@jupyter-widgets/controls",
      "_model_module_version": "1.5.0",
      "_model_name": "DescriptionStyleModel",
      "_view_count": null,
      "_view_module": "@jupyter-widgets/base",
      "_view_module_version": "1.2.0",
      "_view_name": "StyleView",
      "description_width": ""
     }
    },
    "9f2fcccda28a408882824801bb257e00": {
     "model_module": "@jupyter-widgets/base",
     "model_module_version": "1.2.0",
     "model_name": "LayoutModel",
     "state": {
      "_model_module": "@jupyter-widgets/base",
      "_model_module_version": "1.2.0",
      "_model_name": "LayoutModel",
      "_view_count": null,
      "_view_module": "@jupyter-widgets/base",
      "_view_module_version": "1.2.0",
      "_view_name": "LayoutView",
      "align_content": null,
      "align_items": null,
      "align_self": null,
      "border": null,
      "bottom": null,
      "display": null,
      "flex": null,
      "flex_flow": null,
      "grid_area": null,
      "grid_auto_columns": null,
      "grid_auto_flow": null,
      "grid_auto_rows": null,
      "grid_column": null,
      "grid_gap": null,
      "grid_row": null,
      "grid_template_areas": null,
      "grid_template_columns": null,
      "grid_template_rows": null,
      "height": null,
      "justify_content": null,
      "justify_items": null,
      "left": null,
      "margin": null,
      "max_height": null,
      "max_width": null,
      "min_height": null,
      "min_width": null,
      "object_fit": null,
      "object_position": null,
      "order": null,
      "overflow": null,
      "overflow_x": null,
      "overflow_y": null,
      "padding": null,
      "right": null,
      "top": null,
      "visibility": null,
      "width": null
     }
    },
    "a017b3d2d7a74eb083b101a72108049f": {
     "model_module": "@jupyter-widgets/controls",
     "model_module_version": "1.5.0",
     "model_name": "FloatProgressModel",
     "state": {
      "_dom_classes": [],
      "_model_module": "@jupyter-widgets/controls",
      "_model_module_version": "1.5.0",
      "_model_name": "FloatProgressModel",
      "_view_count": null,
      "_view_module": "@jupyter-widgets/controls",
      "_view_module_version": "1.5.0",
      "_view_name": "ProgressView",
      "bar_style": "success",
      "description": "",
      "description_tooltip": null,
      "layout": "IPY_MODEL_33c6f1833309465c801bf091d6611677",
      "max": 356,
      "min": 0,
      "orientation": "horizontal",
      "style": "IPY_MODEL_3d44be14ca6847a295c093df01025d13",
      "value": 356
     }
    },
    "a14b9e2e31bf4090ba06c512c2a24212": {
     "model_module": "@jupyter-widgets/controls",
     "model_module_version": "1.5.0",
     "model_name": "DescriptionStyleModel",
     "state": {
      "_model_module": "@jupyter-widgets/controls",
      "_model_module_version": "1.5.0",
      "_model_name": "DescriptionStyleModel",
      "_view_count": null,
      "_view_module": "@jupyter-widgets/base",
      "_view_module_version": "1.2.0",
      "_view_name": "StyleView",
      "description_width": ""
     }
    },
    "a18006dc93f742a09b979aa2b0be8aa4": {
     "model_module": "@jupyter-widgets/controls",
     "model_module_version": "1.5.0",
     "model_name": "HTMLModel",
     "state": {
      "_dom_classes": [],
      "_model_module": "@jupyter-widgets/controls",
      "_model_module_version": "1.5.0",
      "_model_name": "HTMLModel",
      "_view_count": null,
      "_view_module": "@jupyter-widgets/controls",
      "_view_module_version": "1.5.0",
      "_view_name": "HTMLView",
      "description": "",
      "description_tooltip": null,
      "layout": "IPY_MODEL_917f0eff1bed412db044d3d753b19067",
      "placeholder": "​",
      "style": "IPY_MODEL_9e8acc37e89f43788eb6146008c3b66d",
      "value": "Training epoch 1::  15%"
     }
    },
    "bc896690322a4331a10cc5960c94272e": {
     "model_module": "@jupyter-widgets/base",
     "model_module_version": "1.2.0",
     "model_name": "LayoutModel",
     "state": {
      "_model_module": "@jupyter-widgets/base",
      "_model_module_version": "1.2.0",
      "_model_name": "LayoutModel",
      "_view_count": null,
      "_view_module": "@jupyter-widgets/base",
      "_view_module_version": "1.2.0",
      "_view_name": "LayoutView",
      "align_content": null,
      "align_items": null,
      "align_self": null,
      "border": null,
      "bottom": null,
      "display": null,
      "flex": null,
      "flex_flow": null,
      "grid_area": null,
      "grid_auto_columns": null,
      "grid_auto_flow": null,
      "grid_auto_rows": null,
      "grid_column": null,
      "grid_gap": null,
      "grid_row": null,
      "grid_template_areas": null,
      "grid_template_columns": null,
      "grid_template_rows": null,
      "height": null,
      "justify_content": null,
      "justify_items": null,
      "left": null,
      "margin": null,
      "max_height": null,
      "max_width": null,
      "min_height": null,
      "min_width": null,
      "object_fit": null,
      "object_position": null,
      "order": null,
      "overflow": null,
      "overflow_x": null,
      "overflow_y": null,
      "padding": null,
      "right": null,
      "top": null,
      "visibility": null,
      "width": null
     }
    },
    "beb931151fde4bf8840ad6a00206f42b": {
     "model_module": "@jupyter-widgets/controls",
     "model_module_version": "1.5.0",
     "model_name": "ProgressStyleModel",
     "state": {
      "_model_module": "@jupyter-widgets/controls",
      "_model_module_version": "1.5.0",
      "_model_name": "ProgressStyleModel",
      "_view_count": null,
      "_view_module": "@jupyter-widgets/base",
      "_view_module_version": "1.2.0",
      "_view_name": "StyleView",
      "bar_color": null,
      "description_width": ""
     }
    },
    "c1ed1f5625a1472e98360d055dccd705": {
     "model_module": "@jupyter-widgets/controls",
     "model_module_version": "1.5.0",
     "model_name": "ProgressStyleModel",
     "state": {
      "_model_module": "@jupyter-widgets/controls",
      "_model_module_version": "1.5.0",
      "_model_name": "ProgressStyleModel",
      "_view_count": null,
      "_view_module": "@jupyter-widgets/base",
      "_view_module_version": "1.2.0",
      "_view_name": "StyleView",
      "bar_color": null,
      "description_width": ""
     }
    },
    "c97efdd395c04efc96d77a5ac894b21d": {
     "model_module": "@jupyter-widgets/base",
     "model_module_version": "1.2.0",
     "model_name": "LayoutModel",
     "state": {
      "_model_module": "@jupyter-widgets/base",
      "_model_module_version": "1.2.0",
      "_model_name": "LayoutModel",
      "_view_count": null,
      "_view_module": "@jupyter-widgets/base",
      "_view_module_version": "1.2.0",
      "_view_name": "LayoutView",
      "align_content": null,
      "align_items": null,
      "align_self": null,
      "border": null,
      "bottom": null,
      "display": null,
      "flex": null,
      "flex_flow": null,
      "grid_area": null,
      "grid_auto_columns": null,
      "grid_auto_flow": null,
      "grid_auto_rows": null,
      "grid_column": null,
      "grid_gap": null,
      "grid_row": null,
      "grid_template_areas": null,
      "grid_template_columns": null,
      "grid_template_rows": null,
      "height": null,
      "justify_content": null,
      "justify_items": null,
      "left": null,
      "margin": null,
      "max_height": null,
      "max_width": null,
      "min_height": null,
      "min_width": null,
      "object_fit": null,
      "object_position": null,
      "order": null,
      "overflow": null,
      "overflow_x": null,
      "overflow_y": null,
      "padding": null,
      "right": null,
      "top": null,
      "visibility": null,
      "width": null
     }
    },
    "ce497689f6b14ce38654e8ae4c0bb757": {
     "model_module": "@jupyter-widgets/controls",
     "model_module_version": "1.5.0",
     "model_name": "DescriptionStyleModel",
     "state": {
      "_model_module": "@jupyter-widgets/controls",
      "_model_module_version": "1.5.0",
      "_model_name": "DescriptionStyleModel",
      "_view_count": null,
      "_view_module": "@jupyter-widgets/base",
      "_view_module_version": "1.2.0",
      "_view_name": "StyleView",
      "description_width": ""
     }
    },
    "ce848a3ca6b946b6811c8d069d37ebd8": {
     "model_module": "@jupyter-widgets/controls",
     "model_module_version": "1.5.0",
     "model_name": "HBoxModel",
     "state": {
      "_dom_classes": [],
      "_model_module": "@jupyter-widgets/controls",
      "_model_module_version": "1.5.0",
      "_model_name": "HBoxModel",
      "_view_count": null,
      "_view_module": "@jupyter-widgets/controls",
      "_view_module_version": "1.5.0",
      "_view_name": "HBoxView",
      "box_style": "",
      "children": [
       "IPY_MODEL_8d805b6618664f059d983f60c10f3af1",
       "IPY_MODEL_53cfcf9baae64e38ad8e5e962ea3e1e2",
       "IPY_MODEL_3d9d43c33bae477386e4703e40bd0500"
      ],
      "layout": "IPY_MODEL_251dbdb60e5947428ee7167aa48fbc56"
     }
    },
    "d36036a4bce04e798e987511dc732799": {
     "model_module": "@jupyter-widgets/base",
     "model_module_version": "1.2.0",
     "model_name": "LayoutModel",
     "state": {
      "_model_module": "@jupyter-widgets/base",
      "_model_module_version": "1.2.0",
      "_model_name": "LayoutModel",
      "_view_count": null,
      "_view_module": "@jupyter-widgets/base",
      "_view_module_version": "1.2.0",
      "_view_name": "LayoutView",
      "align_content": null,
      "align_items": null,
      "align_self": null,
      "border": null,
      "bottom": null,
      "display": null,
      "flex": null,
      "flex_flow": null,
      "grid_area": null,
      "grid_auto_columns": null,
      "grid_auto_flow": null,
      "grid_auto_rows": null,
      "grid_column": null,
      "grid_gap": null,
      "grid_row": null,
      "grid_template_areas": null,
      "grid_template_columns": null,
      "grid_template_rows": null,
      "height": null,
      "justify_content": null,
      "justify_items": null,
      "left": null,
      "margin": null,
      "max_height": null,
      "max_width": null,
      "min_height": null,
      "min_width": null,
      "object_fit": null,
      "object_position": null,
      "order": null,
      "overflow": null,
      "overflow_x": null,
      "overflow_y": null,
      "padding": null,
      "right": null,
      "top": null,
      "visibility": null,
      "width": null
     }
    },
    "d484c890629a4fc4af06b71d4206fbaa": {
     "model_module": "@jupyter-widgets/controls",
     "model_module_version": "1.5.0",
     "model_name": "DescriptionStyleModel",
     "state": {
      "_model_module": "@jupyter-widgets/controls",
      "_model_module_version": "1.5.0",
      "_model_name": "DescriptionStyleModel",
      "_view_count": null,
      "_view_module": "@jupyter-widgets/base",
      "_view_module_version": "1.2.0",
      "_view_name": "StyleView",
      "description_width": ""
     }
    },
    "e24c6b01c2e54ba18bd97886f95a3a1f": {
     "model_module": "@jupyter-widgets/base",
     "model_module_version": "1.2.0",
     "model_name": "LayoutModel",
     "state": {
      "_model_module": "@jupyter-widgets/base",
      "_model_module_version": "1.2.0",
      "_model_name": "LayoutModel",
      "_view_count": null,
      "_view_module": "@jupyter-widgets/base",
      "_view_module_version": "1.2.0",
      "_view_name": "LayoutView",
      "align_content": null,
      "align_items": null,
      "align_self": null,
      "border": null,
      "bottom": null,
      "display": null,
      "flex": null,
      "flex_flow": null,
      "grid_area": null,
      "grid_auto_columns": null,
      "grid_auto_flow": null,
      "grid_auto_rows": null,
      "grid_column": null,
      "grid_gap": null,
      "grid_row": null,
      "grid_template_areas": null,
      "grid_template_columns": null,
      "grid_template_rows": null,
      "height": null,
      "justify_content": null,
      "justify_items": null,
      "left": null,
      "margin": null,
      "max_height": null,
      "max_width": null,
      "min_height": null,
      "min_width": null,
      "object_fit": null,
      "object_position": null,
      "order": null,
      "overflow": null,
      "overflow_x": null,
      "overflow_y": null,
      "padding": null,
      "right": null,
      "top": null,
      "visibility": null,
      "width": null
     }
    }
   }
  }
 },
 "nbformat": 4,
 "nbformat_minor": 4
}
