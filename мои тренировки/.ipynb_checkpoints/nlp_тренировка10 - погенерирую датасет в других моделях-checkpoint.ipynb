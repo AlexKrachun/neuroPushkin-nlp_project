{
 "cells": [
  {
   "cell_type": "code",
   "execution_count": 1,
   "id": "bac23059-97cb-4d20-b021-44dbc5898968",
   "metadata": {},
   "outputs": [],
   "source": [
    "from transformers import GPT2Tokenizer, GPTJForCausalLM\n"
   ]
  },
  {
   "cell_type": "code",
   "execution_count": null,
   "id": "6efc4afe-84f3-4620-8538-b01555d18f94",
   "metadata": {},
   "outputs": [],
   "source": [
    "model_name = \"EleutherAI/gpt-j-6B\"\n",
    "model = GPTJForCausalLM.from_pretrained(model_name)\n",
    "tokenizer = GPT2Tokenizer.from_pretrained(model_name)"
   ]
  },
  {
   "cell_type": "code",
   "execution_count": null,
   "id": "aa5efaf7-a0a1-4525-b4a5-2e24921ef028",
   "metadata": {},
   "outputs": [],
   "source": [
    "input_text = \"В одном старом замке на берегу реки жил мудрец, прославившийся на всю округу.\"\n",
    "input_ids = tokenizer.encode(input_text, return_tensors=\"pt\")\n",
    "\n",
    "# Генерация текста\n",
    "output = model.generate(input_ids, \n",
    "                        max_length=300,  # Максимальная длина сгенерированного текста\n",
    "                        num_return_sequences=1,  # Количество сгенерированных вариантов\n",
    "                        temperature=0.8,  # Контроль креативности\n",
    "                        top_p=0.95,  # Контроль вероятности\n",
    "                        do_sample=True,  # Использовать семплинг для генерации\n",
    "                        no_repeat_ngram_size=3)  # Избегать повторения n-грамм\n",
    "\n",
    "# Преобразование сгенерированных токенов обратно в текст\n",
    "generated_text = tokenizer.decode(output[0], skip_special_tokens=True)\n",
    "\n",
    "print(generated_text)"
   ]
  },
  {
   "cell_type": "code",
   "execution_count": null,
   "id": "aa5be8ae-bfd0-4c6c-8408-fae09de9f549",
   "metadata": {},
   "outputs": [],
   "source": []
  },
  {
   "cell_type": "code",
   "execution_count": null,
   "id": "2d01be6e-d374-4cba-8941-883a641590f9",
   "metadata": {},
   "outputs": [],
   "source": []
  }
 ],
 "metadata": {
  "kernelspec": {
   "display_name": "Python 3 (ipykernel)",
   "language": "python",
   "name": "python3"
  },
  "language_info": {
   "codemirror_mode": {
    "name": "ipython",
    "version": 3
   },
   "file_extension": ".py",
   "mimetype": "text/x-python",
   "name": "python",
   "nbconvert_exporter": "python",
   "pygments_lexer": "ipython3",
   "version": "3.12.2"
  }
 },
 "nbformat": 4,
 "nbformat_minor": 5
}
