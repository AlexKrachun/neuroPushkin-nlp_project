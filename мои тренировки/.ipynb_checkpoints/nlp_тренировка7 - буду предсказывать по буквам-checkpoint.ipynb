{
 "cells": [
  {
   "cell_type": "code",
   "execution_count": 42,
   "id": "79abfb00-3e4d-4752-8772-999804aaa54f",
   "metadata": {},
   "outputs": [],
   "source": [
    "import torch\n",
    "import torch.nn as nn\n",
    "from torch.utils.data import Dataset, DataLoader\n",
    "\n",
    "import numpy as np\n",
    "import matplotlib.pyplot as plt\n",
    "\n",
    "from tqdm.auto import tqdm\n",
    "from nltk.tokenize import sent_tokenize\n",
    "\n",
    "from sklearn.model_selection import train_test_split\n",
    "import nltk\n",
    "\n",
    "from collections import Counter\n",
    "from typing import List\n",
    "\n",
    "import seaborn\n",
    "seaborn.set(palette='winter')"
   ]
  },
  {
   "cell_type": "code",
   "execution_count": 43,
   "id": "7bc7ea3a-74d7-4d5f-a542-513cdda2d7bc",
   "metadata": {},
   "outputs": [
    {
     "name": "stderr",
     "output_type": "stream",
     "text": [
      "[nltk_data] Downloading package punkt to\n",
      "[nltk_data]     C:\\Users\\pavel\\AppData\\Roaming\\nltk_data...\n",
      "[nltk_data]   Package punkt is already up-to-date!\n"
     ]
    },
    {
     "data": {
      "text/plain": [
       "True"
      ]
     },
     "execution_count": 43,
     "metadata": {},
     "output_type": "execute_result"
    }
   ],
   "source": [
    "nltk.download('punkt')"
   ]
  },
  {
   "cell_type": "code",
   "execution_count": 44,
   "id": "86b92084-0095-4c34-b2a7-cf096afc847d",
   "metadata": {},
   "outputs": [
    {
     "data": {
      "text/plain": [
       "True"
      ]
     },
     "execution_count": 44,
     "metadata": {},
     "output_type": "execute_result"
    }
   ],
   "source": [
    "device = 'cuda'\n",
    "torch.cuda.is_available()"
   ]
  },
  {
   "cell_type": "code",
   "execution_count": 45,
   "id": "2498f285-45dd-4e4b-98c4-fe6bc56172d4",
   "metadata": {},
   "outputs": [],
   "source": [
    "with open('../dataset/cleaned_text.txt', encoding='utf-8') as f:\n",
    "    dataset = f.read()"
   ]
  },
  {
   "cell_type": "code",
   "execution_count": 46,
   "id": "04b85c92-dafa-4b04-8706-a777ecdd4e2f",
   "metadata": {},
   "outputs": [
    {
     "data": {
      "text/plain": [
       "'птичка в чужбине свято наблюдаю родной обычай старины: на волю птичку выпускаю при светлом празднике'"
      ]
     },
     "execution_count": 46,
     "metadata": {},
     "output_type": "execute_result"
    }
   ],
   "source": [
    "data[:100]"
   ]
  },
  {
   "cell_type": "code",
   "execution_count": 63,
   "id": "b03d052a-3c78-43f1-af13-d7c40dde8b40",
   "metadata": {},
   "outputs": [
    {
     "data": {
      "application/vnd.jupyter.widget-view+json": {
       "model_id": "cc7075f4d2c24f129e596f6fe9f7e231",
       "version_major": 2,
       "version_minor": 0
      },
      "text/plain": [
       "loading:   0%|          | 0/84536 [00:00<?, ?it/s]"
      ]
     },
     "metadata": {},
     "output_type": "display_data"
    }
   ],
   "source": [
    "sents = []\n",
    "for sent in tqdm(sent_tokenize(data, language='russian'), desc='loading'):\n",
    "    if 16 < len(sent) < 128:\n",
    "        sents.append(sent.lower())"
   ]
  },
  {
   "cell_type": "code",
   "execution_count": 64,
   "id": "ec27e4bc-1ab3-4879-b189-d229840205fe",
   "metadata": {},
   "outputs": [
    {
     "data": {
      "text/plain": [
       "59288"
      ]
     },
     "execution_count": 64,
     "metadata": {},
     "output_type": "execute_result"
    }
   ],
   "source": [
    "len(sents)"
   ]
  },
  {
   "cell_type": "code",
   "execution_count": 89,
   "id": "b3d9908f-02b8-4f32-9849-861796f1f2cc",
   "metadata": {},
   "outputs": [
    {
     "data": {
      "text/plain": [
       "['душа моя хранит ли образ незабвенный?',\n",
       " 'любви блаженство знал ли я?',\n",
       " 'тоскою ль долгой изнуренный, таил я слезы в тишине?',\n",
       " 'где та была, которой очи, как небо, улыбались мне?']"
      ]
     },
     "execution_count": 89,
     "metadata": {},
     "output_type": "execute_result"
    }
   ],
   "source": [
    "sents[100:104]"
   ]
  },
  {
   "cell_type": "code",
   "execution_count": 66,
   "id": "bc46cd8c-00f1-485a-83bf-cd0d918339bf",
   "metadata": {},
   "outputs": [],
   "source": [
    "chars = Counter()\n"
   ]
  },
  {
   "cell_type": "code",
   "execution_count": 67,
   "id": "a69f72ea-b061-43a6-a8fd-03eaba78e56d",
   "metadata": {},
   "outputs": [
    {
     "data": {
      "application/vnd.jupyter.widget-view+json": {
       "model_id": "5ec80e0a19ad4ef196cbfc244251e3ad",
       "version_major": 2,
       "version_minor": 0
      },
      "text/plain": [
       "  0%|          | 0/59288 [00:00<?, ?it/s]"
      ]
     },
     "metadata": {},
     "output_type": "display_data"
    }
   ],
   "source": [
    "for sent in tqdm(sents):\n",
    "    for c in sent:\n",
    "        chars[c] += 1"
   ]
  },
  {
   "cell_type": "code",
   "execution_count": 68,
   "id": "c566e50f-3a75-4cf8-9e02-3cca48aa4173",
   "metadata": {},
   "outputs": [
    {
     "data": {
      "text/plain": [
       "108"
      ]
     },
     "execution_count": 68,
     "metadata": {},
     "output_type": "execute_result"
    }
   ],
   "source": [
    "len(chars)"
   ]
  },
  {
   "cell_type": "code",
   "execution_count": 77,
   "id": "a2403c35-46b0-4083-ba8f-57ac4183c11f",
   "metadata": {},
   "outputs": [
    {
     "data": {
      "text/plain": [
       "Counter({' ': 511795,\n",
       "         'о': 286323,\n",
       "         'е': 238281,\n",
       "         'а': 233654,\n",
       "         'и': 195539,\n",
       "         'н': 181790,\n",
       "         'т': 152681,\n",
       "         'с': 150046,\n",
       "         'л': 135185,\n",
       "         'в': 132437,\n",
       "         'р': 129913,\n",
       "         'к': 92419,\n",
       "         'м': 91324,\n",
       "         'д': 87396,\n",
       "         'у': 82584,\n",
       "         'п': 78544,\n",
       "         'я': 61938,\n",
       "         '.': 56378,\n",
       "         ',': 55169,\n",
       "         'г': 54743,\n",
       "         'ь': 52814,\n",
       "         'ы': 51690,\n",
       "         'б': 50999,\n",
       "         'з': 47115,\n",
       "         'ч': 39714,\n",
       "         'й': 35592,\n",
       "         'ж': 27526,\n",
       "         'ш': 25452,\n",
       "         'х': 23511,\n",
       "         'ю': 19019,\n",
       "         '-': 18294,\n",
       "         '\"': 13592,\n",
       "         'ц': 13306,\n",
       "         'e': 7716,\n",
       "         'щ': 7242,\n",
       "         'i': 5676,\n",
       "         '?': 5618,\n",
       "         'ф': 4744,\n",
       "         ';': 4718,\n",
       "         'э': 4597,\n",
       "         '!': 4522,\n",
       "         ':': 4397,\n",
       "         '1': 4193,\n",
       "         ')': 4055,\n",
       "         'a': 3866,\n",
       "         's': 3548,\n",
       "         'n': 3310,\n",
       "         't': 3280,\n",
       "         '(': 3272,\n",
       "         'r': 3068,\n",
       "         'l': 2754,\n",
       "         'u': 2686,\n",
       "         'o': 2670,\n",
       "         '8': 2044,\n",
       "         '2': 1878,\n",
       "         'd': 1842,\n",
       "         '*': 1820,\n",
       "         'm': 1640,\n",
       "         'c': 1470,\n",
       "         'v': 1412,\n",
       "         '3': 1410,\n",
       "         'x': 1354,\n",
       "         '0': 1305,\n",
       "         '7': 1241,\n",
       "         'p': 1210,\n",
       "         'ъ': 1054,\n",
       "         '5': 860,\n",
       "         '4': 847,\n",
       "         '6': 843,\n",
       "         '9': 731,\n",
       "         \"'\": 660,\n",
       "         'f': 582,\n",
       "         'h': 580,\n",
       "         'b': 528,\n",
       "         'g': 482,\n",
       "         'q': 444,\n",
       "         '{': 362,\n",
       "         '}': 362,\n",
       "         'j': 290,\n",
       "         'y': 224,\n",
       "         'z': 174,\n",
       "         '/': 166,\n",
       "         'k': 130,\n",
       "         'ё': 122,\n",
       "         '>': 98,\n",
       "         '<': 90,\n",
       "         'w': 72,\n",
       "         'é': 60,\n",
       "         'è': 24,\n",
       "         'ê': 16,\n",
       "         '[': 14,\n",
       "         ']': 14,\n",
       "         'ë': 12,\n",
       "         'à': 12,\n",
       "         '@': 6,\n",
       "         'â': 4,\n",
       "         'ô': 4,\n",
       "         '=': 4,\n",
       "         'œ': 4,\n",
       "         '_': 2,\n",
       "         '½': 2,\n",
       "         'û': 2,\n",
       "         'î': 2,\n",
       "         'ù': 2,\n",
       "         '|': 2,\n",
       "         '+': 2,\n",
       "         'ç': 2,\n",
       "         'ï': 2})"
      ]
     },
     "execution_count": 77,
     "metadata": {},
     "output_type": "execute_result"
    }
   ],
   "source": [
    "chars"
   ]
  },
  {
   "cell_type": "code",
   "execution_count": 79,
   "id": "9e5c163a-43bc-49ec-bd7e-58818de5bf52",
   "metadata": {},
   "outputs": [],
   "source": [
    "vocab = set(['<unk>', '<bos>', '<eos>', '<pad>'])\n",
    "cnt_threshold = 4550\n",
    "\n",
    "for c, cnt in chars.items():\n",
    "    if cnt > cnt_threshold:\n",
    "        vocab.add(c)\n",
    "    "
   ]
  },
  {
   "cell_type": "code",
   "execution_count": 80,
   "id": "6bd59303-aa3e-4ef8-a08a-b344979a39ec",
   "metadata": {},
   "outputs": [
    {
     "data": {
      "text/plain": [
       "44"
      ]
     },
     "execution_count": 80,
     "metadata": {},
     "output_type": "execute_result"
    }
   ],
   "source": [
    "len(vocab)"
   ]
  },
  {
   "cell_type": "code",
   "execution_count": 85,
   "id": "4605b867-02f5-4604-a237-c63f7d0455e6",
   "metadata": {},
   "outputs": [],
   "source": [
    "c2id = {c: i for i, c in enumerate(vocab)}\n",
    "id2c = {i: c for c, i in c2id.items()}\n"
   ]
  },
  {
   "cell_type": "code",
   "execution_count": 86,
   "id": "1620238b-19b7-45f3-a290-746710a9d7f8",
   "metadata": {},
   "outputs": [
    {
     "data": {
      "text/plain": [
       "{'т': 0,\n",
       " 'щ': 1,\n",
       " 'б': 2,\n",
       " 'з': 3,\n",
       " 'о': 4,\n",
       " ',': 5,\n",
       " 'м': 6,\n",
       " 'ч': 7,\n",
       " '<bos>': 8,\n",
       " 'ц': 9,\n",
       " '-': 10,\n",
       " 'й': 11,\n",
       " 'е': 12,\n",
       " 'у': 13,\n",
       " 'ю': 14,\n",
       " 'я': 15,\n",
       " '<unk>': 16,\n",
       " 'ь': 17,\n",
       " 'н': 18,\n",
       " 'ф': 19,\n",
       " 'д': 20,\n",
       " 'р': 21,\n",
       " 'с': 22,\n",
       " '.': 23,\n",
       " 'и': 24,\n",
       " '?': 25,\n",
       " 'э': 26,\n",
       " 'л': 27,\n",
       " ';': 28,\n",
       " 'а': 29,\n",
       " 'e': 30,\n",
       " 'г': 31,\n",
       " 'х': 32,\n",
       " ' ': 33,\n",
       " '\"': 34,\n",
       " 'i': 35,\n",
       " 'в': 36,\n",
       " 'к': 37,\n",
       " '<pad>': 38,\n",
       " 'ш': 39,\n",
       " 'ж': 40,\n",
       " 'п': 41,\n",
       " 'ы': 42,\n",
       " '<eos>': 43}"
      ]
     },
     "execution_count": 86,
     "metadata": {},
     "output_type": "execute_result"
    }
   ],
   "source": [
    "c2id"
   ]
  },
  {
   "cell_type": "code",
   "execution_count": 87,
   "id": "1e5b7d0d-26f2-4fc5-88af-d89f6e0d5579",
   "metadata": {},
   "outputs": [],
   "source": [
    "class CharDataset:\n",
    "    def __init__(self, sents):\n",
    "        self.data = sents\n",
    "        self.unk_id = c2id['<unk>']\n",
    "        self.bos_id = c2id['<bos>']\n",
    "        self.eos_id = c2id['<eos>']\n",
    "        self.pad_id = c2id['<pad>']\n",
    "    \n",
    "    def __getitem__(self, idx):\n",
    "        token_s = [self.bos_id]\n",
    "        token_s += [c2id.get(c, self.unk_id) for c in self.data[idx]]\n",
    "        token_s += [self.eos_id]\n",
    "        return token_s\n",
    "\n",
    "    def __len__(self):\n",
    "        return len(self.data)"
   ]
  },
  {
   "cell_type": "code",
   "execution_count": 104,
   "id": "e122f7a1-57ec-4e45-82b3-178a4251faf0",
   "metadata": {},
   "outputs": [],
   "source": [
    "def trans_func(input_batch, pad_id=c2id['<pad>']):\n",
    "    s_lens = [len(x) for x in input_batch]\n",
    "    max_s_len = max(s_lens)\n",
    "    new_batch = []\n",
    "    for s in input_batch:\n",
    "        for _ in range(max_s_len - len(s)):\n",
    "            s.append(pad_id)\n",
    "        new_batch.append(s)\n",
    "    sq = torch.LongTensor(new_batch).to(device)\n",
    "    new_batch = {\n",
    "        'in_ids': sq[:, :-1], \n",
    "        'target_ids': sq[:, 1:],\n",
    "    }\n",
    "    return new_batch\n",
    "        \n",
    "    \n",
    "    "
   ]
  },
  {
   "cell_type": "code",
   "execution_count": 107,
   "id": "e1d53947-c134-4d44-95ee-0cc3befa6de9",
   "metadata": {},
   "outputs": [
    {
     "data": {
      "text/plain": [
       "{'in_ids': tensor([[  1,   2,   3,   4,   5,   6],\n",
       "         [  3,   4,   5,   6,  38,  38],\n",
       "         [345,   3,   5,  38,  38,  38]], device='cuda:0'),\n",
       " 'target_ids': tensor([[ 2,  3,  4,  5,  6,  7],\n",
       "         [ 4,  5,  6, 38, 38, 38],\n",
       "         [ 3,  5, 38, 38, 38, 38]], device='cuda:0')}"
      ]
     },
     "execution_count": 107,
     "metadata": {},
     "output_type": "execute_result"
    }
   ],
   "source": [
    "batch = [[1, 2, 3, 4, 5, 6, 7], [3, 4, 5, 6], [345, 3, 5]]\n",
    "\n",
    "trans_func(batch)"
   ]
  },
  {
   "cell_type": "code",
   "execution_count": 108,
   "id": "3b54862a-3958-4b2c-82a8-897686b062a5",
   "metadata": {},
   "outputs": [],
   "source": [
    "train_s, eval_s = train_test_split(sents, test_size=0.2)"
   ]
  },
  {
   "cell_type": "code",
   "execution_count": 111,
   "id": "e4f3aace-60b3-4d54-a7f0-7ba88b73c436",
   "metadata": {},
   "outputs": [
    {
     "data": {
      "text/plain": [
       "(47430, 11858)"
      ]
     },
     "execution_count": 111,
     "metadata": {},
     "output_type": "execute_result"
    }
   ],
   "source": [
    "len(train_s), len(eval_s)"
   ]
  },
  {
   "cell_type": "code",
   "execution_count": 112,
   "id": "94b42755-8be3-4637-b3aa-3fb556e412c5",
   "metadata": {},
   "outputs": [],
   "source": [
    "train_dataset = CharDataset(train_s)\n",
    "eval_dataset = CharDataset(eval_s)"
   ]
  },
  {
   "cell_type": "code",
   "execution_count": 115,
   "id": "73b0a161-0899-416e-bc7a-9c1e9370b2ec",
   "metadata": {},
   "outputs": [],
   "source": [
    "train_dataloader = DataLoader(\n",
    "    train_dataset, collate_fn=trans_func, batch_size=512,\n",
    ")\n",
    "\n",
    "eval_dataloader = DataLoader(\n",
    "    eval_dataset, collate_fn=trans_func, batch_size=512,\n",
    ")"
   ]
  },
  {
   "cell_type": "code",
   "execution_count": 143,
   "id": "16bc8e0e-9c96-4112-83ca-6cf0caa0797f",
   "metadata": {},
   "outputs": [],
   "source": [
    "class CharLM(nn.Module):\n",
    "    def __init__(self, hidden_dim, vocab_size):\n",
    "        super().__init__()\n",
    "        self.embedding = nn.Embedding(vocab_size, hidden_dim)\n",
    "        self.rnn = nn.LSTM(hidden_dim, hidden_dim, batch_first=True)\n",
    "        self.linear = nn.Linear(hidden_dim, hidden_dim)\n",
    "        self.linear2 = nn.Linear(hidden_dim, vocab_size)\n",
    "\n",
    "        self.non_lin = nn.Tanh()\n",
    "        self.dropout = nn.Dropout(p=0.1)\n",
    "    def forward(self, input_batch):\n",
    "        embeddings = self.embedding(input_batch)  # batch_sz, sq_len, hidden_dim\n",
    "        out, _ = self.rnn(embeddings) # batch_sz, sq_len, hidden_dim\n",
    "        out = self.dropout(self.linear(self.non_lin(out)))  # batch_sz, sq_len, hidden_dim\n",
    "        res = self.linear2(self.non_lin(out))\n",
    "\n",
    "        return res\n",
    "        "
   ]
  },
  {
   "cell_type": "code",
   "execution_count": 144,
   "id": "0c74acf5-da91-43c4-ab4d-de69b74dfd02",
   "metadata": {},
   "outputs": [],
   "source": [
    "def evaluate(mode, crit):\n",
    "    model.eval()\n",
    "    perplexity = []\n",
    "    with torch.no_grad():\n",
    "        for batch in eval_dataloader:\n",
    "            logs = model(batch['in_ids']).flatten(start_dim=0, end_dim=1)\n",
    "            loss = crit(\n",
    "                logs, \n",
    "                batch['target_ids'].flatten(),\n",
    "            )\n",
    "            perplexity.append(torch.exp(loss).item())\n",
    "        perplexity = sum(perplexity) / len(perplexity)\n",
    "        return perplexity"
   ]
  },
  {
   "cell_type": "code",
   "execution_count": 145,
   "id": "f371d556-1381-45f0-af25-cf5ff685bcf9",
   "metadata": {},
   "outputs": [],
   "source": [
    "model = CharLM(hidden_dim=512, vocab_size=len(vocab)).to(device)"
   ]
  },
  {
   "cell_type": "code",
   "execution_count": 146,
   "id": "ab4a6c46-ec4c-42e2-bce6-3b4e6035936c",
   "metadata": {},
   "outputs": [],
   "source": [
    "crit = nn.CrossEntropyLoss(ignore_index=c2id['<pad>'])\n",
    "optimizer = torch.optim.Adam(model.parameters())"
   ]
  },
  {
   "cell_type": "code",
   "execution_count": 148,
   "id": "a86a35b3-fa3f-40ef-9166-a18c7e0a70de",
   "metadata": {},
   "outputs": [
    {
     "data": {
      "application/vnd.jupyter.widget-view+json": {
       "model_id": "38c69b8e3a054e64937941ef81cbbc98",
       "version_major": 2,
       "version_minor": 0
      },
      "text/plain": [
       "epoch 0::   0%|          | 0/93 [00:00<?, ?it/s]"
      ]
     },
     "metadata": {},
     "output_type": "display_data"
    },
    {
     "data": {
      "application/vnd.jupyter.widget-view+json": {
       "model_id": "d3722411d4ec4021bdd75de7bdb0c898",
       "version_major": 2,
       "version_minor": 0
      },
      "text/plain": [
       "epoch 1::   0%|          | 0/93 [00:00<?, ?it/s]"
      ]
     },
     "metadata": {},
     "output_type": "display_data"
    },
    {
     "data": {
      "application/vnd.jupyter.widget-view+json": {
       "model_id": "6115568491234621943e5e6214ca305b",
       "version_major": 2,
       "version_minor": 0
      },
      "text/plain": [
       "epoch 2::   0%|          | 0/93 [00:00<?, ?it/s]"
      ]
     },
     "metadata": {},
     "output_type": "display_data"
    },
    {
     "data": {
      "application/vnd.jupyter.widget-view+json": {
       "model_id": "d40316cf896546e381c5d1c62ff5be2c",
       "version_major": 2,
       "version_minor": 0
      },
      "text/plain": [
       "epoch 3::   0%|          | 0/93 [00:00<?, ?it/s]"
      ]
     },
     "metadata": {},
     "output_type": "display_data"
    },
    {
     "data": {
      "application/vnd.jupyter.widget-view+json": {
       "model_id": "6140c066282d49e1bd1918eb74006af5",
       "version_major": 2,
       "version_minor": 0
      },
      "text/plain": [
       "epoch 4::   0%|          | 0/93 [00:00<?, ?it/s]"
      ]
     },
     "metadata": {},
     "output_type": "display_data"
    },
    {
     "data": {
      "application/vnd.jupyter.widget-view+json": {
       "model_id": "38e114752fce44e3b2d4c91be95da3f7",
       "version_major": 2,
       "version_minor": 0
      },
      "text/plain": [
       "epoch 5::   0%|          | 0/93 [00:00<?, ?it/s]"
      ]
     },
     "metadata": {},
     "output_type": "display_data"
    },
    {
     "data": {
      "application/vnd.jupyter.widget-view+json": {
       "model_id": "093f98c18d444c8a8b40fee78ec3fe95",
       "version_major": 2,
       "version_minor": 0
      },
      "text/plain": [
       "epoch 6::   0%|          | 0/93 [00:00<?, ?it/s]"
      ]
     },
     "metadata": {},
     "output_type": "display_data"
    },
    {
     "data": {
      "application/vnd.jupyter.widget-view+json": {
       "model_id": "707945e063a84831b3c0312c93af74c4",
       "version_major": 2,
       "version_minor": 0
      },
      "text/plain": [
       "epoch 7::   0%|          | 0/93 [00:00<?, ?it/s]"
      ]
     },
     "metadata": {},
     "output_type": "display_data"
    },
    {
     "data": {
      "application/vnd.jupyter.widget-view+json": {
       "model_id": "c63c14991cb44465bf409b6addb18111",
       "version_major": 2,
       "version_minor": 0
      },
      "text/plain": [
       "epoch 8::   0%|          | 0/93 [00:00<?, ?it/s]"
      ]
     },
     "metadata": {},
     "output_type": "display_data"
    },
    {
     "data": {
      "application/vnd.jupyter.widget-view+json": {
       "model_id": "4662da6a4ec245449777c684bac70f9f",
       "version_major": 2,
       "version_minor": 0
      },
      "text/plain": [
       "epoch 9::   0%|          | 0/93 [00:00<?, ?it/s]"
      ]
     },
     "metadata": {},
     "output_type": "display_data"
    },
    {
     "data": {
      "application/vnd.jupyter.widget-view+json": {
       "model_id": "174a42f4e324479fa968ce298950cd07",
       "version_major": 2,
       "version_minor": 0
      },
      "text/plain": [
       "epoch 10::   0%|          | 0/93 [00:00<?, ?it/s]"
      ]
     },
     "metadata": {},
     "output_type": "display_data"
    },
    {
     "data": {
      "application/vnd.jupyter.widget-view+json": {
       "model_id": "1ecc93d245644063b116a1acd84a54be",
       "version_major": 2,
       "version_minor": 0
      },
      "text/plain": [
       "epoch 11::   0%|          | 0/93 [00:00<?, ?it/s]"
      ]
     },
     "metadata": {},
     "output_type": "display_data"
    },
    {
     "data": {
      "application/vnd.jupyter.widget-view+json": {
       "model_id": "2ae1849e7b9c41498e07ac7a113f19b2",
       "version_major": 2,
       "version_minor": 0
      },
      "text/plain": [
       "epoch 12::   0%|          | 0/93 [00:00<?, ?it/s]"
      ]
     },
     "metadata": {},
     "output_type": "display_data"
    },
    {
     "data": {
      "application/vnd.jupyter.widget-view+json": {
       "model_id": "9c45849a324842d48a7570c30959eb5f",
       "version_major": 2,
       "version_minor": 0
      },
      "text/plain": [
       "epoch 13::   0%|          | 0/93 [00:00<?, ?it/s]"
      ]
     },
     "metadata": {},
     "output_type": "display_data"
    },
    {
     "data": {
      "application/vnd.jupyter.widget-view+json": {
       "model_id": "12c8e9fa522f4a6bb4f776e8e431584d",
       "version_major": 2,
       "version_minor": 0
      },
      "text/plain": [
       "epoch 14::   0%|          | 0/93 [00:00<?, ?it/s]"
      ]
     },
     "metadata": {},
     "output_type": "display_data"
    },
    {
     "data": {
      "application/vnd.jupyter.widget-view+json": {
       "model_id": "198effc822774d0e9e2bd2b0f84ac617",
       "version_major": 2,
       "version_minor": 0
      },
      "text/plain": [
       "epoch 15::   0%|          | 0/93 [00:00<?, ?it/s]"
      ]
     },
     "metadata": {},
     "output_type": "display_data"
    },
    {
     "data": {
      "application/vnd.jupyter.widget-view+json": {
       "model_id": "b2594ebf0d924f379b73f439f1805b3a",
       "version_major": 2,
       "version_minor": 0
      },
      "text/plain": [
       "epoch 16::   0%|          | 0/93 [00:00<?, ?it/s]"
      ]
     },
     "metadata": {},
     "output_type": "display_data"
    },
    {
     "data": {
      "application/vnd.jupyter.widget-view+json": {
       "model_id": "0fec3ef9bafd4e05945cd6ee5b82ee19",
       "version_major": 2,
       "version_minor": 0
      },
      "text/plain": [
       "epoch 17::   0%|          | 0/93 [00:00<?, ?it/s]"
      ]
     },
     "metadata": {},
     "output_type": "display_data"
    },
    {
     "data": {
      "application/vnd.jupyter.widget-view+json": {
       "model_id": "9966110f805f4d119e7ce6f5ca3dd6bb",
       "version_major": 2,
       "version_minor": 0
      },
      "text/plain": [
       "epoch 18::   0%|          | 0/93 [00:00<?, ?it/s]"
      ]
     },
     "metadata": {},
     "output_type": "display_data"
    },
    {
     "data": {
      "application/vnd.jupyter.widget-view+json": {
       "model_id": "900bf083de7240579dbd5d6a074e9c70",
       "version_major": 2,
       "version_minor": 0
      },
      "text/plain": [
       "epoch 19::   0%|          | 0/93 [00:00<?, ?it/s]"
      ]
     },
     "metadata": {},
     "output_type": "display_data"
    },
    {
     "data": {
      "application/vnd.jupyter.widget-view+json": {
       "model_id": "3ee51341e35441d5a9f9dc883e544020",
       "version_major": 2,
       "version_minor": 0
      },
      "text/plain": [
       "epoch 20::   0%|          | 0/93 [00:00<?, ?it/s]"
      ]
     },
     "metadata": {},
     "output_type": "display_data"
    },
    {
     "data": {
      "application/vnd.jupyter.widget-view+json": {
       "model_id": "234912eda1754647bd1b08dbd1dfe45d",
       "version_major": 2,
       "version_minor": 0
      },
      "text/plain": [
       "epoch 21::   0%|          | 0/93 [00:00<?, ?it/s]"
      ]
     },
     "metadata": {},
     "output_type": "display_data"
    },
    {
     "data": {
      "application/vnd.jupyter.widget-view+json": {
       "model_id": "107248af24c74c87b1bd2769217e3c0e",
       "version_major": 2,
       "version_minor": 0
      },
      "text/plain": [
       "epoch 22::   0%|          | 0/93 [00:00<?, ?it/s]"
      ]
     },
     "metadata": {},
     "output_type": "display_data"
    },
    {
     "data": {
      "application/vnd.jupyter.widget-view+json": {
       "model_id": "562aa4c0784c454c80e5b35756f6a0a9",
       "version_major": 2,
       "version_minor": 0
      },
      "text/plain": [
       "epoch 23::   0%|          | 0/93 [00:00<?, ?it/s]"
      ]
     },
     "metadata": {},
     "output_type": "display_data"
    },
    {
     "data": {
      "application/vnd.jupyter.widget-view+json": {
       "model_id": "223b1baf359c409dbd8bfcb194891124",
       "version_major": 2,
       "version_minor": 0
      },
      "text/plain": [
       "epoch 24::   0%|          | 0/93 [00:00<?, ?it/s]"
      ]
     },
     "metadata": {},
     "output_type": "display_data"
    },
    {
     "data": {
      "application/vnd.jupyter.widget-view+json": {
       "model_id": "7d4fdd36b66943dfa0f4866d2a1603fa",
       "version_major": 2,
       "version_minor": 0
      },
      "text/plain": [
       "epoch 25::   0%|          | 0/93 [00:00<?, ?it/s]"
      ]
     },
     "metadata": {},
     "output_type": "display_data"
    },
    {
     "data": {
      "application/vnd.jupyter.widget-view+json": {
       "model_id": "e89aa469f9e64328aa4cb779c535b6af",
       "version_major": 2,
       "version_minor": 0
      },
      "text/plain": [
       "epoch 26::   0%|          | 0/93 [00:00<?, ?it/s]"
      ]
     },
     "metadata": {},
     "output_type": "display_data"
    },
    {
     "data": {
      "application/vnd.jupyter.widget-view+json": {
       "model_id": "7024ab896dc847aeb9e1e3dd842bfecf",
       "version_major": 2,
       "version_minor": 0
      },
      "text/plain": [
       "epoch 27::   0%|          | 0/93 [00:00<?, ?it/s]"
      ]
     },
     "metadata": {},
     "output_type": "display_data"
    },
    {
     "data": {
      "application/vnd.jupyter.widget-view+json": {
       "model_id": "552747f1494141cfbab953972d79a167",
       "version_major": 2,
       "version_minor": 0
      },
      "text/plain": [
       "epoch 28::   0%|          | 0/93 [00:00<?, ?it/s]"
      ]
     },
     "metadata": {},
     "output_type": "display_data"
    },
    {
     "data": {
      "application/vnd.jupyter.widget-view+json": {
       "model_id": "811d421f37ce469d818437ec9198112e",
       "version_major": 2,
       "version_minor": 0
      },
      "text/plain": [
       "epoch 29::   0%|          | 0/93 [00:00<?, ?it/s]"
      ]
     },
     "metadata": {},
     "output_type": "display_data"
    },
    {
     "data": {
      "application/vnd.jupyter.widget-view+json": {
       "model_id": "ac0f23d32a104705a142573f93daa41c",
       "version_major": 2,
       "version_minor": 0
      },
      "text/plain": [
       "epoch 30::   0%|          | 0/93 [00:00<?, ?it/s]"
      ]
     },
     "metadata": {},
     "output_type": "display_data"
    },
    {
     "data": {
      "application/vnd.jupyter.widget-view+json": {
       "model_id": "4064890d3c0846979565f6d91c0cf7bf",
       "version_major": 2,
       "version_minor": 0
      },
      "text/plain": [
       "epoch 31::   0%|          | 0/93 [00:00<?, ?it/s]"
      ]
     },
     "metadata": {},
     "output_type": "display_data"
    },
    {
     "data": {
      "application/vnd.jupyter.widget-view+json": {
       "model_id": "1c5143eec4ab43a1b6cacc6bd8419828",
       "version_major": 2,
       "version_minor": 0
      },
      "text/plain": [
       "epoch 32::   0%|          | 0/93 [00:00<?, ?it/s]"
      ]
     },
     "metadata": {},
     "output_type": "display_data"
    },
    {
     "data": {
      "application/vnd.jupyter.widget-view+json": {
       "model_id": "1370d4e27a60451687ede9846fd4e968",
       "version_major": 2,
       "version_minor": 0
      },
      "text/plain": [
       "epoch 33::   0%|          | 0/93 [00:00<?, ?it/s]"
      ]
     },
     "metadata": {},
     "output_type": "display_data"
    },
    {
     "data": {
      "application/vnd.jupyter.widget-view+json": {
       "model_id": "6e3dc564fe744cb8ae4a94a7a134e2ba",
       "version_major": 2,
       "version_minor": 0
      },
      "text/plain": [
       "epoch 34::   0%|          | 0/93 [00:00<?, ?it/s]"
      ]
     },
     "metadata": {},
     "output_type": "display_data"
    },
    {
     "data": {
      "application/vnd.jupyter.widget-view+json": {
       "model_id": "0f1848f14cdc407c9daf39d123df7eb8",
       "version_major": 2,
       "version_minor": 0
      },
      "text/plain": [
       "epoch 35::   0%|          | 0/93 [00:00<?, ?it/s]"
      ]
     },
     "metadata": {},
     "output_type": "display_data"
    },
    {
     "data": {
      "application/vnd.jupyter.widget-view+json": {
       "model_id": "a86b63e46c4a4c3ea75bf2e8cc682a18",
       "version_major": 2,
       "version_minor": 0
      },
      "text/plain": [
       "epoch 36::   0%|          | 0/93 [00:00<?, ?it/s]"
      ]
     },
     "metadata": {},
     "output_type": "display_data"
    },
    {
     "data": {
      "application/vnd.jupyter.widget-view+json": {
       "model_id": "bc738ed29de84469a1cfb8a52ab34291",
       "version_major": 2,
       "version_minor": 0
      },
      "text/plain": [
       "epoch 37::   0%|          | 0/93 [00:00<?, ?it/s]"
      ]
     },
     "metadata": {},
     "output_type": "display_data"
    },
    {
     "data": {
      "application/vnd.jupyter.widget-view+json": {
       "model_id": "449123927a0d414bb019e4b188201a34",
       "version_major": 2,
       "version_minor": 0
      },
      "text/plain": [
       "epoch 38::   0%|          | 0/93 [00:00<?, ?it/s]"
      ]
     },
     "metadata": {},
     "output_type": "display_data"
    },
    {
     "data": {
      "application/vnd.jupyter.widget-view+json": {
       "model_id": "a1cf8711d2ad46b5b8c748da4513e279",
       "version_major": 2,
       "version_minor": 0
      },
      "text/plain": [
       "epoch 39::   0%|          | 0/93 [00:00<?, ?it/s]"
      ]
     },
     "metadata": {},
     "output_type": "display_data"
    },
    {
     "data": {
      "application/vnd.jupyter.widget-view+json": {
       "model_id": "dceb85b572304b26893dd58fd8d617b4",
       "version_major": 2,
       "version_minor": 0
      },
      "text/plain": [
       "epoch 40::   0%|          | 0/93 [00:00<?, ?it/s]"
      ]
     },
     "metadata": {},
     "output_type": "display_data"
    },
    {
     "data": {
      "application/vnd.jupyter.widget-view+json": {
       "model_id": "5cea6972279f4f09935119c1b2bacdad",
       "version_major": 2,
       "version_minor": 0
      },
      "text/plain": [
       "epoch 41::   0%|          | 0/93 [00:00<?, ?it/s]"
      ]
     },
     "metadata": {},
     "output_type": "display_data"
    },
    {
     "data": {
      "application/vnd.jupyter.widget-view+json": {
       "model_id": "5551cdeb22174d6d85330e8f9b950fbf",
       "version_major": 2,
       "version_minor": 0
      },
      "text/plain": [
       "epoch 42::   0%|          | 0/93 [00:00<?, ?it/s]"
      ]
     },
     "metadata": {},
     "output_type": "display_data"
    },
    {
     "data": {
      "application/vnd.jupyter.widget-view+json": {
       "model_id": "463853ffcf324fe69389d2e8731a48e4",
       "version_major": 2,
       "version_minor": 0
      },
      "text/plain": [
       "epoch 43::   0%|          | 0/93 [00:00<?, ?it/s]"
      ]
     },
     "metadata": {},
     "output_type": "display_data"
    },
    {
     "data": {
      "application/vnd.jupyter.widget-view+json": {
       "model_id": "3e7f29418258493f8edb37f367ba1f4b",
       "version_major": 2,
       "version_minor": 0
      },
      "text/plain": [
       "epoch 44::   0%|          | 0/93 [00:00<?, ?it/s]"
      ]
     },
     "metadata": {},
     "output_type": "display_data"
    },
    {
     "data": {
      "application/vnd.jupyter.widget-view+json": {
       "model_id": "8c6ecd1e748f4e178b12fb151f6f157f",
       "version_major": 2,
       "version_minor": 0
      },
      "text/plain": [
       "epoch 45::   0%|          | 0/93 [00:00<?, ?it/s]"
      ]
     },
     "metadata": {},
     "output_type": "display_data"
    },
    {
     "data": {
      "application/vnd.jupyter.widget-view+json": {
       "model_id": "7721a4b77e664eab9a8d84558097f2d3",
       "version_major": 2,
       "version_minor": 0
      },
      "text/plain": [
       "epoch 46::   0%|          | 0/93 [00:00<?, ?it/s]"
      ]
     },
     "metadata": {},
     "output_type": "display_data"
    },
    {
     "data": {
      "application/vnd.jupyter.widget-view+json": {
       "model_id": "ba334e4393cc444a97940b4b1306b22d",
       "version_major": 2,
       "version_minor": 0
      },
      "text/plain": [
       "epoch 47::   0%|          | 0/93 [00:00<?, ?it/s]"
      ]
     },
     "metadata": {},
     "output_type": "display_data"
    },
    {
     "data": {
      "application/vnd.jupyter.widget-view+json": {
       "model_id": "9f406404d93b4498a759f65f2618ecf1",
       "version_major": 2,
       "version_minor": 0
      },
      "text/plain": [
       "epoch 48::   0%|          | 0/93 [00:00<?, ?it/s]"
      ]
     },
     "metadata": {},
     "output_type": "display_data"
    },
    {
     "data": {
      "application/vnd.jupyter.widget-view+json": {
       "model_id": "dab279cb8e004c999095d30d0d009c68",
       "version_major": 2,
       "version_minor": 0
      },
      "text/plain": [
       "epoch 49::   0%|          | 0/93 [00:00<?, ?it/s]"
      ]
     },
     "metadata": {},
     "output_type": "display_data"
    }
   ],
   "source": [
    "num_eps = 50\n",
    "losses = []\n",
    "perplexities = []\n",
    "\n",
    "for ep in range(num_eps):\n",
    "    ep_losses = []\n",
    "    model.train()\n",
    "    for batch in tqdm(train_dataloader, desc=f'epoch {ep}:'):\n",
    "        optimizer.zero_grad()\n",
    "        logs = model(batch['in_ids']).flatten(start_dim=0, end_dim=1)\n",
    "        loss = crit(\n",
    "            logs, batch['target_ids'].flatten()\n",
    "        )\n",
    "        loss.backward()\n",
    "        optimizer.step()\n",
    "\n",
    "        ep_losses.append(loss.item())\n",
    "    losses.append(sum(ep_losses) / len(ep_losses))\n",
    "    perplexities.append(evaluate(model, crit))\n",
    "    "
   ]
  },
  {
   "cell_type": "code",
   "execution_count": 142,
   "id": "3109ab21-4d56-40fe-acf2-760c34e58ce2",
   "metadata": {},
   "outputs": [
    {
     "data": {
      "text/plain": [
       "47616"
      ]
     },
     "execution_count": 142,
     "metadata": {},
     "output_type": "execute_result"
    }
   ],
   "source": []
  },
  {
   "cell_type": "code",
   "execution_count": null,
   "id": "d838948b-6a6c-49e0-ae15-e908cf7e073a",
   "metadata": {},
   "outputs": [],
   "source": []
  },
  {
   "cell_type": "code",
   "execution_count": null,
   "id": "e73a2955-0e68-4e8a-b8ae-887cd2bc8854",
   "metadata": {},
   "outputs": [],
   "source": []
  },
  {
   "cell_type": "code",
   "execution_count": null,
   "id": "8df3337b-59b2-46d4-b9ca-4d8bbe04651b",
   "metadata": {},
   "outputs": [],
   "source": []
  },
  {
   "cell_type": "code",
   "execution_count": null,
   "id": "9e61b7e6-96a3-48c6-b635-ad4e88e97af9",
   "metadata": {},
   "outputs": [],
   "source": []
  },
  {
   "cell_type": "code",
   "execution_count": null,
   "id": "7012c60b-6b49-4ffc-a10d-da865fae7d83",
   "metadata": {},
   "outputs": [],
   "source": []
  },
  {
   "cell_type": "code",
   "execution_count": null,
   "id": "45eace2e-8249-43f6-93be-e65c5466eceb",
   "metadata": {},
   "outputs": [],
   "source": []
  },
  {
   "cell_type": "code",
   "execution_count": null,
   "id": "5cd30b19-8279-400b-b9cd-0045ebdf8988",
   "metadata": {},
   "outputs": [],
   "source": []
  },
  {
   "cell_type": "code",
   "execution_count": null,
   "id": "c5bd42ef-9e1d-4d6f-85f7-6c92908b9557",
   "metadata": {},
   "outputs": [],
   "source": []
  },
  {
   "cell_type": "code",
   "execution_count": null,
   "id": "2e183fbc-cea9-435f-8e6c-3478550fbf17",
   "metadata": {},
   "outputs": [],
   "source": []
  },
  {
   "cell_type": "code",
   "execution_count": null,
   "id": "7aba39ba-b9b6-42a8-b37a-6e78073d6bf8",
   "metadata": {},
   "outputs": [],
   "source": []
  },
  {
   "cell_type": "code",
   "execution_count": null,
   "id": "a180c18c-48fd-4ec0-8aff-962c2d322d18",
   "metadata": {},
   "outputs": [],
   "source": []
  },
  {
   "cell_type": "code",
   "execution_count": null,
   "id": "176d6eb1-0420-46a1-b052-8d433fa3ecb1",
   "metadata": {},
   "outputs": [],
   "source": []
  },
  {
   "cell_type": "code",
   "execution_count": null,
   "id": "898de005-6ed4-4281-bd82-928b1722f7bb",
   "metadata": {},
   "outputs": [],
   "source": []
  },
  {
   "cell_type": "code",
   "execution_count": null,
   "id": "7f2edbd5-2685-46eb-83ed-ad8c3a675cfc",
   "metadata": {},
   "outputs": [],
   "source": []
  },
  {
   "cell_type": "code",
   "execution_count": null,
   "id": "88614766-fa8a-4e3e-b8f7-da665b6f66c1",
   "metadata": {},
   "outputs": [],
   "source": []
  },
  {
   "cell_type": "code",
   "execution_count": null,
   "id": "ea3c992a-d81a-4d54-98ac-72ef6a152655",
   "metadata": {},
   "outputs": [],
   "source": []
  },
  {
   "cell_type": "code",
   "execution_count": null,
   "id": "e70ab248-26e6-49fa-9b86-f5206e92a85f",
   "metadata": {},
   "outputs": [],
   "source": []
  },
  {
   "cell_type": "code",
   "execution_count": null,
   "id": "7d9cfc25-cc5a-41ff-95c6-bd660a878075",
   "metadata": {},
   "outputs": [],
   "source": []
  },
  {
   "cell_type": "code",
   "execution_count": null,
   "id": "84b291e8-b959-4515-a557-27d37a61761f",
   "metadata": {},
   "outputs": [],
   "source": []
  },
  {
   "cell_type": "code",
   "execution_count": null,
   "id": "489bd31f-9648-47b1-a203-6821271b1a35",
   "metadata": {},
   "outputs": [],
   "source": []
  },
  {
   "cell_type": "code",
   "execution_count": null,
   "id": "6e71441d-88d7-4c93-aca7-3076ca8aa9a9",
   "metadata": {},
   "outputs": [],
   "source": []
  },
  {
   "cell_type": "code",
   "execution_count": null,
   "id": "30cb826d-21de-403a-94d5-b729b2469e16",
   "metadata": {},
   "outputs": [],
   "source": []
  },
  {
   "cell_type": "code",
   "execution_count": null,
   "id": "9618e929-40aa-49d4-924b-bd0fd6416523",
   "metadata": {},
   "outputs": [],
   "source": []
  },
  {
   "cell_type": "code",
   "execution_count": null,
   "id": "64569199-d30d-4624-8490-24d0edb0edd8",
   "metadata": {},
   "outputs": [],
   "source": []
  },
  {
   "cell_type": "code",
   "execution_count": null,
   "id": "1ccae7af-3d48-4795-8b73-c23931d013a2",
   "metadata": {},
   "outputs": [],
   "source": []
  },
  {
   "cell_type": "code",
   "execution_count": null,
   "id": "d36eebf5-485c-4702-bffd-16547411bbdb",
   "metadata": {},
   "outputs": [],
   "source": []
  },
  {
   "cell_type": "code",
   "execution_count": null,
   "id": "4fc0a68b-2ce2-4af0-b8ab-199bd5c07b1d",
   "metadata": {},
   "outputs": [],
   "source": []
  },
  {
   "cell_type": "code",
   "execution_count": null,
   "id": "05175410-f093-4b32-813c-f4206543a6a6",
   "metadata": {},
   "outputs": [],
   "source": []
  },
  {
   "cell_type": "code",
   "execution_count": null,
   "id": "82866dc7-4dbe-4565-b290-89252e7dfbab",
   "metadata": {},
   "outputs": [],
   "source": []
  },
  {
   "cell_type": "code",
   "execution_count": null,
   "id": "62533e4d-a421-4ddd-be81-a80ab1e4ad5b",
   "metadata": {},
   "outputs": [],
   "source": []
  },
  {
   "cell_type": "code",
   "execution_count": null,
   "id": "4c0efedb-29f7-4858-9226-4859ec760c6e",
   "metadata": {},
   "outputs": [],
   "source": []
  },
  {
   "cell_type": "code",
   "execution_count": null,
   "id": "7ff6caa9-471b-42b0-ba53-63a36006975e",
   "metadata": {},
   "outputs": [],
   "source": []
  },
  {
   "cell_type": "code",
   "execution_count": 149,
   "id": "6b50dd67-14c7-4a5b-9454-2f36b143629d",
   "metadata": {},
   "outputs": [
    {
     "data": {
      "image/png": "[encoded data removed]",
      "text/plain": [
       "<Figure size 640x480 with 1 Axes>"
      ]
     },
     "metadata": {},
     "output_type": "display_data"
    }
   ],
   "source": [
    "plt.plot(losses)\n",
    "plt.title('Losses')\n",
    "plt.xlabel('ep')\n",
    "plt.show()"
   ]
  },
  {
   "cell_type": "code",
   "execution_count": 150,
   "id": "cbc5fd8a-b7c2-429a-b4d2-01e9a7c11884",
   "metadata": {},
   "outputs": [
    {
     "data": {
      "image/png": "[encoded data removed]",
      "text/plain": [
       "<Figure size 640x480 with 1 Axes>"
      ]
     },
     "metadata": {},
     "output_type": "display_data"
    }
   ],
   "source": [
    "plt.plot(perplexities)\n",
    "plt.title('Losses')\n",
    "plt.xlabel('ep')\n",
    "plt.show()"
   ]
  },
  {
   "cell_type": "code",
   "execution_count": null,
   "id": "25263624-7497-467c-8b83-3583cee2a8b3",
   "metadata": {},
   "outputs": [],
   "source": [
    "def generate(model, start_s, max_s_len):\n",
    "    device = 'cpu'\n",
    "    model.to(device)\n",
    "    input_ids = [c2ids['<bos>']] + [c2id.get(c, c2id['<unk>']) for c in start_s]\n",
    "    input_ids = torch.LongTensor(input_ids).to(device)\n",
    "    model.eval()\n",
    "    with torch.no_grad():\n",
    "        for i in range(max_s_len):\n",
    "            next_c_dist = model(input_ids)[-1]\n",
    "            next_c = next_c_dist.s"
   ]
  },
  {
   "cell_type": "code",
   "execution_count": null,
   "id": "63cc60af-f037-4982-87ce-120fbdcc2397",
   "metadata": {},
   "outputs": [],
   "source": []
  },
  {
   "cell_type": "code",
   "execution_count": null,
   "id": "b47ab5c4-6fd1-4526-92e3-3c8ad4f8781b",
   "metadata": {},
   "outputs": [],
   "source": []
  },
  {
   "cell_type": "code",
   "execution_count": null,
   "id": "27b6cb77-6e98-4d3f-b3be-4dae92f71a7f",
   "metadata": {},
   "outputs": [],
   "source": []
  },
  {
   "cell_type": "code",
   "execution_count": null,
   "id": "a53924be-8757-4738-94f9-d46fa2ec8988",
   "metadata": {},
   "outputs": [],
   "source": []
  },
  {
   "cell_type": "code",
   "execution_count": null,
   "id": "e88fd85b-96d7-472b-9790-e4e9affd9235",
   "metadata": {},
   "outputs": [],
   "source": []
  },
  {
   "cell_type": "code",
   "execution_count": null,
   "id": "5636587d-bdc1-43b2-bf2f-3e48272193dc",
   "metadata": {},
   "outputs": [],
   "source": []
  }
 ],
 "metadata": {
  "kernelspec": {
   "display_name": "Python 3 (ipykernel)",
   "language": "python",
   "name": "python3"
  },
  "language_info": {
   "codemirror_mode": {
    "name": "ipython",
    "version": 3
   },
   "file_extension": ".py",
   "mimetype": "text/x-python",
   "name": "python",
   "nbconvert_exporter": "python",
   "pygments_lexer": "ipython3",
   "version": "3.12.4"
  }
 },
 "nbformat": 4,
 "nbformat_minor": 5
}
