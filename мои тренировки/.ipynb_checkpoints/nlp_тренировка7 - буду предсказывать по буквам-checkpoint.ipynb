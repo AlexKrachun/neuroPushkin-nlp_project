{
 "cells": [
  {
   "cell_type": "code",
   "execution_count": 1,
   "id": "79abfb00-3e4d-4752-8772-999804aaa54f",
   "metadata": {},
   "outputs": [],
   "source": [
    "import torch\n",
    "import torch.nn as nn\n",
    "from torch.utils.data import Dataset, DataLoader\n",
    "\n",
    "import numpy as np\n",
    "import matplotlib.pyplot as plt\n",
    "\n",
    "from tqdm.auto import tqdm\n",
    "from nltk.tokenize import sent_tokenize\n",
    "\n",
    "from sklearn.model_selection import train_test_split\n",
    "import nltk\n",
    "\n",
    "from collections import Counter\n",
    "from typing import List\n",
    "\n",
    "import seaborn\n",
    "seaborn.set(palette='winter')"
   ]
  },
  {
   "cell_type": "code",
   "execution_count": 2,
   "id": "7bc7ea3a-74d7-4d5f-a542-513cdda2d7bc",
   "metadata": {},
   "outputs": [
    {
     "name": "stderr",
     "output_type": "stream",
     "text": [
      "[nltk_data] Downloading package punkt to\n",
      "[nltk_data]     C:\\Users\\pavel\\AppData\\Roaming\\nltk_data...\n",
      "[nltk_data]   Package punkt is already up-to-date!\n"
     ]
    },
    {
     "data": {
      "text/plain": [
       "True"
      ]
     },
     "execution_count": 2,
     "metadata": {},
     "output_type": "execute_result"
    }
   ],
   "source": [
    "nltk.download('punkt')"
   ]
  },
  {
   "cell_type": "code",
   "execution_count": 3,
   "id": "86b92084-0095-4c34-b2a7-cf096afc847d",
   "metadata": {},
   "outputs": [
    {
     "data": {
      "text/plain": [
       "True"
      ]
     },
     "execution_count": 3,
     "metadata": {},
     "output_type": "execute_result"
    }
   ],
   "source": [
    "device = 'cuda'\n",
    "torch.cuda.is_available()"
   ]
  },
  {
   "cell_type": "code",
   "execution_count": 4,
   "id": "2498f285-45dd-4e4b-98c4-fe6bc56172d4",
   "metadata": {},
   "outputs": [],
   "source": [
    "with open('../dataset/cleaned_text.txt', encoding='utf-8') as f:\n",
    "    data = f.read()"
   ]
  },
  {
   "cell_type": "code",
   "execution_count": 5,
   "id": "04b85c92-dafa-4b04-8706-a777ecdd4e2f",
   "metadata": {},
   "outputs": [
    {
     "data": {
      "text/plain": [
       "'птичка в чужбине свято наблюдаю родной обычай старины: на волю птичку выпускаю при светлом празднике'"
      ]
     },
     "execution_count": 5,
     "metadata": {},
     "output_type": "execute_result"
    }
   ],
   "source": [
    "data[:100]"
   ]
  },
  {
   "cell_type": "code",
   "execution_count": 6,
   "id": "b03d052a-3c78-43f1-af13-d7c40dde8b40",
   "metadata": {},
   "outputs": [
    {
     "data": {
      "application/vnd.jupyter.widget-view+json": {
       "model_id": "482b36f1f2f448dbb1bcc6a2c520e7b8",
       "version_major": 2,
       "version_minor": 0
      },
      "text/plain": [
       "loading:   0%|          | 0/84536 [00:00<?, ?it/s]"
      ]
     },
     "metadata": {},
     "output_type": "display_data"
    }
   ],
   "source": [
    "sents = []\n",
    "for sent in tqdm(sent_tokenize(data, language='russian'), desc='loading'):\n",
    "    if 16 < len(sent) < 128:\n",
    "        sents.append(sent.lower())"
   ]
  },
  {
   "cell_type": "code",
   "execution_count": 7,
   "id": "ec27e4bc-1ab3-4879-b189-d229840205fe",
   "metadata": {},
   "outputs": [
    {
     "data": {
      "text/plain": [
       "59288"
      ]
     },
     "execution_count": 7,
     "metadata": {},
     "output_type": "execute_result"
    }
   ],
   "source": [
    "len(sents)"
   ]
  },
  {
   "cell_type": "code",
   "execution_count": 8,
   "id": "b3d9908f-02b8-4f32-9849-861796f1f2cc",
   "metadata": {},
   "outputs": [
    {
     "data": {
      "text/plain": [
       "['душа моя хранит ли образ незабвенный?',\n",
       " 'любви блаженство знал ли я?',\n",
       " 'тоскою ль долгой изнуренный, таил я слезы в тишине?',\n",
       " 'где та была, которой очи, как небо, улыбались мне?']"
      ]
     },
     "execution_count": 8,
     "metadata": {},
     "output_type": "execute_result"
    }
   ],
   "source": [
    "sents[100:104]"
   ]
  },
  {
   "cell_type": "code",
   "execution_count": 9,
   "id": "bc46cd8c-00f1-485a-83bf-cd0d918339bf",
   "metadata": {},
   "outputs": [],
   "source": [
    "chars = Counter()\n"
   ]
  },
  {
   "cell_type": "code",
   "execution_count": 10,
   "id": "a69f72ea-b061-43a6-a8fd-03eaba78e56d",
   "metadata": {},
   "outputs": [
    {
     "data": {
      "application/vnd.jupyter.widget-view+json": {
       "model_id": "aebc08ef407e47adb7bd08ff458c15b9",
       "version_major": 2,
       "version_minor": 0
      },
      "text/plain": [
       "  0%|          | 0/59288 [00:00<?, ?it/s]"
      ]
     },
     "metadata": {},
     "output_type": "display_data"
    }
   ],
   "source": [
    "for sent in tqdm(sents):\n",
    "    for c in sent:\n",
    "        chars[c] += 1"
   ]
  },
  {
   "cell_type": "code",
   "execution_count": 11,
   "id": "c566e50f-3a75-4cf8-9e02-3cca48aa4173",
   "metadata": {},
   "outputs": [
    {
     "data": {
      "text/plain": [
       "108"
      ]
     },
     "execution_count": 11,
     "metadata": {},
     "output_type": "execute_result"
    }
   ],
   "source": [
    "len(chars)"
   ]
  },
  {
   "cell_type": "code",
   "execution_count": 12,
   "id": "a2403c35-46b0-4083-ba8f-57ac4183c11f",
   "metadata": {},
   "outputs": [
    {
     "data": {
      "text/plain": [
       "Counter({' ': 511795,\n",
       "         'о': 286323,\n",
       "         'е': 238281,\n",
       "         'а': 233654,\n",
       "         'и': 195539,\n",
       "         'н': 181790,\n",
       "         'т': 152681,\n",
       "         'с': 150046,\n",
       "         'л': 135185,\n",
       "         'в': 132437,\n",
       "         'р': 129913,\n",
       "         'к': 92419,\n",
       "         'м': 91324,\n",
       "         'д': 87396,\n",
       "         'у': 82584,\n",
       "         'п': 78544,\n",
       "         'я': 61938,\n",
       "         '.': 56378,\n",
       "         ',': 55169,\n",
       "         'г': 54743,\n",
       "         'ь': 52814,\n",
       "         'ы': 51690,\n",
       "         'б': 50999,\n",
       "         'з': 47115,\n",
       "         'ч': 39714,\n",
       "         'й': 35592,\n",
       "         'ж': 27526,\n",
       "         'ш': 25452,\n",
       "         'х': 23511,\n",
       "         'ю': 19019,\n",
       "         '-': 18294,\n",
       "         '\"': 13592,\n",
       "         'ц': 13306,\n",
       "         'e': 7716,\n",
       "         'щ': 7242,\n",
       "         'i': 5676,\n",
       "         '?': 5618,\n",
       "         'ф': 4744,\n",
       "         ';': 4718,\n",
       "         'э': 4597,\n",
       "         '!': 4522,\n",
       "         ':': 4397,\n",
       "         '1': 4193,\n",
       "         ')': 4055,\n",
       "         'a': 3866,\n",
       "         's': 3548,\n",
       "         'n': 3310,\n",
       "         't': 3280,\n",
       "         '(': 3272,\n",
       "         'r': 3068,\n",
       "         'l': 2754,\n",
       "         'u': 2686,\n",
       "         'o': 2670,\n",
       "         '8': 2044,\n",
       "         '2': 1878,\n",
       "         'd': 1842,\n",
       "         '*': 1820,\n",
       "         'm': 1640,\n",
       "         'c': 1470,\n",
       "         'v': 1412,\n",
       "         '3': 1410,\n",
       "         'x': 1354,\n",
       "         '0': 1305,\n",
       "         '7': 1241,\n",
       "         'p': 1210,\n",
       "         'ъ': 1054,\n",
       "         '5': 860,\n",
       "         '4': 847,\n",
       "         '6': 843,\n",
       "         '9': 731,\n",
       "         \"'\": 660,\n",
       "         'f': 582,\n",
       "         'h': 580,\n",
       "         'b': 528,\n",
       "         'g': 482,\n",
       "         'q': 444,\n",
       "         '{': 362,\n",
       "         '}': 362,\n",
       "         'j': 290,\n",
       "         'y': 224,\n",
       "         'z': 174,\n",
       "         '/': 166,\n",
       "         'k': 130,\n",
       "         'ё': 122,\n",
       "         '>': 98,\n",
       "         '<': 90,\n",
       "         'w': 72,\n",
       "         'é': 60,\n",
       "         'è': 24,\n",
       "         'ê': 16,\n",
       "         '[': 14,\n",
       "         ']': 14,\n",
       "         'ë': 12,\n",
       "         'à': 12,\n",
       "         '@': 6,\n",
       "         'â': 4,\n",
       "         'ô': 4,\n",
       "         '=': 4,\n",
       "         'œ': 4,\n",
       "         '_': 2,\n",
       "         '½': 2,\n",
       "         'û': 2,\n",
       "         'î': 2,\n",
       "         'ù': 2,\n",
       "         '|': 2,\n",
       "         '+': 2,\n",
       "         'ç': 2,\n",
       "         'ï': 2})"
      ]
     },
     "execution_count": 12,
     "metadata": {},
     "output_type": "execute_result"
    }
   ],
   "source": [
    "chars"
   ]
  },
  {
   "cell_type": "code",
   "execution_count": 13,
   "id": "9e5c163a-43bc-49ec-bd7e-58818de5bf52",
   "metadata": {},
   "outputs": [],
   "source": [
    "vocab = set(['<unk>', '<bos>', '<eos>', '<pad>'])\n",
    "cnt_threshold = 4550\n",
    "\n",
    "for c, cnt in chars.items():\n",
    "    if cnt > cnt_threshold:\n",
    "        vocab.add(c)\n",
    "    "
   ]
  },
  {
   "cell_type": "code",
   "execution_count": 14,
   "id": "6bd59303-aa3e-4ef8-a08a-b344979a39ec",
   "metadata": {},
   "outputs": [
    {
     "data": {
      "text/plain": [
       "44"
      ]
     },
     "execution_count": 14,
     "metadata": {},
     "output_type": "execute_result"
    }
   ],
   "source": [
    "len(vocab)"
   ]
  },
  {
   "cell_type": "code",
   "execution_count": 15,
   "id": "4605b867-02f5-4604-a237-c63f7d0455e6",
   "metadata": {},
   "outputs": [],
   "source": [
    "c2id = {c: i for i, c in enumerate(vocab)}\n",
    "id2c = {i: c for c, i in c2id.items()}\n"
   ]
  },
  {
   "cell_type": "code",
   "execution_count": 16,
   "id": "1620238b-19b7-45f3-a290-746710a9d7f8",
   "metadata": {},
   "outputs": [
    {
     "data": {
      "text/plain": [
       "{'х': 0,\n",
       " ' ': 1,\n",
       " 'о': 2,\n",
       " 'ю': 3,\n",
       " 'ц': 4,\n",
       " 'б': 5,\n",
       " ',': 6,\n",
       " '\"': 7,\n",
       " 'т': 8,\n",
       " 'э': 9,\n",
       " 'e': 10,\n",
       " '<unk>': 11,\n",
       " 'ш': 12,\n",
       " 'д': 13,\n",
       " '<bos>': 14,\n",
       " 'й': 15,\n",
       " 'п': 16,\n",
       " 'ь': 17,\n",
       " '?': 18,\n",
       " ';': 19,\n",
       " 'с': 20,\n",
       " 'ч': 21,\n",
       " '.': 22,\n",
       " 'щ': 23,\n",
       " 'ж': 24,\n",
       " 'и': 25,\n",
       " '-': 26,\n",
       " 'з': 27,\n",
       " 'к': 28,\n",
       " 'а': 29,\n",
       " 'м': 30,\n",
       " 'i': 31,\n",
       " 'р': 32,\n",
       " 'г': 33,\n",
       " '<pad>': 34,\n",
       " '<eos>': 35,\n",
       " 'в': 36,\n",
       " 'л': 37,\n",
       " 'я': 38,\n",
       " 'у': 39,\n",
       " 'н': 40,\n",
       " 'ы': 41,\n",
       " 'е': 42,\n",
       " 'ф': 43}"
      ]
     },
     "execution_count": 16,
     "metadata": {},
     "output_type": "execute_result"
    }
   ],
   "source": [
    "c2id"
   ]
  },
  {
   "cell_type": "code",
   "execution_count": 17,
   "id": "1e5b7d0d-26f2-4fc5-88af-d89f6e0d5579",
   "metadata": {},
   "outputs": [],
   "source": [
    "class CharDataset:\n",
    "    def __init__(self, sents):\n",
    "        self.data = sents\n",
    "        self.unk_id = c2id['<unk>']\n",
    "        self.bos_id = c2id['<bos>']\n",
    "        self.eos_id = c2id['<eos>']\n",
    "        self.pad_id = c2id['<pad>']\n",
    "    \n",
    "    def __getitem__(self, idx):\n",
    "        token_s = [self.bos_id]\n",
    "        token_s += [c2id.get(c, self.unk_id) for c in self.data[idx]]\n",
    "        token_s += [self.eos_id]\n",
    "        return token_s\n",
    "\n",
    "    def __len__(self):\n",
    "        return len(self.data)"
   ]
  },
  {
   "cell_type": "code",
   "execution_count": 18,
   "id": "e122f7a1-57ec-4e45-82b3-178a4251faf0",
   "metadata": {},
   "outputs": [],
   "source": [
    "def trans_func(input_batch, pad_id=c2id['<pad>']):\n",
    "    s_lens = [len(x) for x in input_batch]\n",
    "    max_s_len = max(s_lens)\n",
    "    new_batch = []\n",
    "    for s in input_batch:\n",
    "        for _ in range(max_s_len - len(s)):\n",
    "            s.append(pad_id)\n",
    "        new_batch.append(s)\n",
    "    sq = torch.LongTensor(new_batch).to(device)\n",
    "    new_batch = {\n",
    "        'in_ids': sq[:, :-1], \n",
    "        'target_ids': sq[:, 1:],\n",
    "    }\n",
    "    return new_batch\n",
    "        \n",
    "    \n",
    "    "
   ]
  },
  {
   "cell_type": "code",
   "execution_count": 19,
   "id": "e1d53947-c134-4d44-95ee-0cc3befa6de9",
   "metadata": {},
   "outputs": [
    {
     "data": {
      "text/plain": [
       "{'in_ids': tensor([[  1,   2,   3,   4,   5,   6],\n",
       "         [  3,   4,   5,   6,  34,  34],\n",
       "         [345,   3,   5,  34,  34,  34]], device='cuda:0'),\n",
       " 'target_ids': tensor([[ 2,  3,  4,  5,  6,  7],\n",
       "         [ 4,  5,  6, 34, 34, 34],\n",
       "         [ 3,  5, 34, 34, 34, 34]], device='cuda:0')}"
      ]
     },
     "execution_count": 19,
     "metadata": {},
     "output_type": "execute_result"
    }
   ],
   "source": [
    "batch = [[1, 2, 3, 4, 5, 6, 7], [3, 4, 5, 6], [345, 3, 5]]\n",
    "\n",
    "trans_func(batch)"
   ]
  },
  {
   "cell_type": "code",
   "execution_count": 20,
   "id": "3b54862a-3958-4b2c-82a8-897686b062a5",
   "metadata": {},
   "outputs": [],
   "source": [
    "train_s, eval_s = train_test_split(sents, test_size=0.2)"
   ]
  },
  {
   "cell_type": "code",
   "execution_count": 21,
   "id": "e4f3aace-60b3-4d54-a7f0-7ba88b73c436",
   "metadata": {},
   "outputs": [
    {
     "data": {
      "text/plain": [
       "(47430, 11858)"
      ]
     },
     "execution_count": 21,
     "metadata": {},
     "output_type": "execute_result"
    }
   ],
   "source": [
    "len(train_s), len(eval_s)"
   ]
  },
  {
   "cell_type": "code",
   "execution_count": 22,
   "id": "94b42755-8be3-4637-b3aa-3fb556e412c5",
   "metadata": {},
   "outputs": [],
   "source": [
    "train_dataset = CharDataset(train_s)\n",
    "eval_dataset = CharDataset(eval_s)"
   ]
  },
  {
   "cell_type": "code",
   "execution_count": 23,
   "id": "73b0a161-0899-416e-bc7a-9c1e9370b2ec",
   "metadata": {},
   "outputs": [],
   "source": [
    "train_dataloader = DataLoader(\n",
    "    train_dataset, collate_fn=trans_func, batch_size=128,\n",
    ")\n",
    "\n",
    "eval_dataloader = DataLoader(\n",
    "    eval_dataset, collate_fn=trans_func, batch_size=128,\n",
    ")"
   ]
  },
  {
   "cell_type": "code",
   "execution_count": 24,
   "id": "16bc8e0e-9c96-4112-83ca-6cf0caa0797f",
   "metadata": {},
   "outputs": [],
   "source": [
    "class CharLM(nn.Module):\n",
    "    def __init__(self, hidden_dim, vocab_size, num_layers):\n",
    "        super().__init__()\n",
    "        self.embedding = nn.Embedding(vocab_size, hidden_dim)\n",
    "        self.rnn = nn.LSTM(hidden_dim, hidden_dim, batch_first=True, num_layers=num_layers)\n",
    "        self.linear = nn.Linear(hidden_dim, hidden_dim)\n",
    "        self.linear2 = nn.Linear(hidden_dim, vocab_size)\n",
    "\n",
    "        self.non_lin = nn.Tanh()\n",
    "        self.dropout = nn.Dropout(p=0)\n",
    "    def forward(self, input_batch):\n",
    "        embeddings = self.embedding(input_batch)  # batch_sz, sq_len, hidden_dim\n",
    "        out, _ = self.rnn(embeddings) # batch_sz, sq_len, hidden_dim\n",
    "        out = self.dropout(self.linear(self.non_lin(out)))  # batch_sz, sq_len, hidden_dim\n",
    "        res = self.linear2(self.non_lin(out))  # batch_sz, sq_len, vocab_size\n",
    "\n",
    "        return res\n",
    "        "
   ]
  },
  {
   "cell_type": "code",
   "execution_count": 25,
   "id": "0c74acf5-da91-43c4-ab4d-de69b74dfd02",
   "metadata": {},
   "outputs": [],
   "source": [
    "def evaluate(mode, crit):\n",
    "    model.eval()\n",
    "    perplexity = []\n",
    "    with torch.no_grad():\n",
    "        for batch in eval_dataloader:\n",
    "            logs = model(batch['in_ids']).flatten(start_dim=0, end_dim=1)\n",
    "            loss = crit(\n",
    "                logs, \n",
    "                batch['target_ids'].flatten(),\n",
    "            )\n",
    "            perplexity.append(torch.exp(loss).item())\n",
    "        perplexity = sum(perplexity) / len(perplexity)\n",
    "        return perplexity"
   ]
  },
  {
   "cell_type": "code",
   "execution_count": 26,
   "id": "f371d556-1381-45f0-af25-cf5ff685bcf9",
   "metadata": {},
   "outputs": [],
   "source": [
    "model = CharLM(hidden_dim=300, vocab_size=len(vocab), num_layers=2).to(device)"
   ]
  },
  {
   "cell_type": "code",
   "execution_count": 27,
   "id": "ab4a6c46-ec4c-42e2-bce6-3b4e6035936c",
   "metadata": {},
   "outputs": [],
   "source": [
    "crit = nn.CrossEntropyLoss(ignore_index=c2id['<pad>'])\n",
    "optimizer = torch.optim.Adam(model.parameters())"
   ]
  },
  {
   "cell_type": "code",
   "execution_count": 28,
   "id": "a86a35b3-fa3f-40ef-9166-a18c7e0a70de",
   "metadata": {},
   "outputs": [
    {
     "data": {
      "application/vnd.jupyter.widget-view+json": {
       "model_id": "ec8d3d5e34184efeb1b5345a467f2d8e",
       "version_major": 2,
       "version_minor": 0
      },
      "text/plain": [
       "epoch 1:   0%|          | 0/371 [00:00<?, ?it/s]"
      ]
     },
     "metadata": {},
     "output_type": "display_data"
    },
    {
     "data": {
      "application/vnd.jupyter.widget-view+json": {
       "model_id": "348a365301c0403484c767c1e223a5d6",
       "version_major": 2,
       "version_minor": 0
      },
      "text/plain": [
       "epoch 2:   0%|          | 0/371 [00:00<?, ?it/s]"
      ]
     },
     "metadata": {},
     "output_type": "display_data"
    },
    {
     "data": {
      "application/vnd.jupyter.widget-view+json": {
       "model_id": "e684fd079a214a3284710ec88f943423",
       "version_major": 2,
       "version_minor": 0
      },
      "text/plain": [
       "epoch 3:   0%|          | 0/371 [00:00<?, ?it/s]"
      ]
     },
     "metadata": {},
     "output_type": "display_data"
    },
    {
     "data": {
      "application/vnd.jupyter.widget-view+json": {
       "model_id": "d5227b14cd23497fb538d3eb96591037",
       "version_major": 2,
       "version_minor": 0
      },
      "text/plain": [
       "epoch 4:   0%|          | 0/371 [00:00<?, ?it/s]"
      ]
     },
     "metadata": {},
     "output_type": "display_data"
    },
    {
     "data": {
      "application/vnd.jupyter.widget-view+json": {
       "model_id": "333ac642cbdc495a9d582c7b64b3fc7c",
       "version_major": 2,
       "version_minor": 0
      },
      "text/plain": [
       "epoch 5:   0%|          | 0/371 [00:00<?, ?it/s]"
      ]
     },
     "metadata": {},
     "output_type": "display_data"
    },
    {
     "data": {
      "application/vnd.jupyter.widget-view+json": {
       "model_id": "f38df90f92ac498a9deb4713c2da20be",
       "version_major": 2,
       "version_minor": 0
      },
      "text/plain": [
       "epoch 6:   0%|          | 0/371 [00:00<?, ?it/s]"
      ]
     },
     "metadata": {},
     "output_type": "display_data"
    },
    {
     "data": {
      "application/vnd.jupyter.widget-view+json": {
       "model_id": "98fe775ddc554940beae7b5cb1c590a1",
       "version_major": 2,
       "version_minor": 0
      },
      "text/plain": [
       "epoch 7:   0%|          | 0/371 [00:00<?, ?it/s]"
      ]
     },
     "metadata": {},
     "output_type": "display_data"
    },
    {
     "data": {
      "application/vnd.jupyter.widget-view+json": {
       "model_id": "98675af0854f4a0c9a747a3660192d27",
       "version_major": 2,
       "version_minor": 0
      },
      "text/plain": [
       "epoch 8:   0%|          | 0/371 [00:00<?, ?it/s]"
      ]
     },
     "metadata": {},
     "output_type": "display_data"
    },
    {
     "data": {
      "application/vnd.jupyter.widget-view+json": {
       "model_id": "5d5ce3077df842e7a66ff5ce51527a51",
       "version_major": 2,
       "version_minor": 0
      },
      "text/plain": [
       "epoch 9:   0%|          | 0/371 [00:00<?, ?it/s]"
      ]
     },
     "metadata": {},
     "output_type": "display_data"
    },
    {
     "data": {
      "application/vnd.jupyter.widget-view+json": {
       "model_id": "cdbe3962acfd449a9b7b070cda6ca9a8",
       "version_major": 2,
       "version_minor": 0
      },
      "text/plain": [
       "epoch 10:   0%|          | 0/371 [00:00<?, ?it/s]"
      ]
     },
     "metadata": {},
     "output_type": "display_data"
    },
    {
     "data": {
      "application/vnd.jupyter.widget-view+json": {
       "model_id": "815a5d2817f24a19b53c845bdabb93db",
       "version_major": 2,
       "version_minor": 0
      },
      "text/plain": [
       "epoch 11:   0%|          | 0/371 [00:00<?, ?it/s]"
      ]
     },
     "metadata": {},
     "output_type": "display_data"
    },
    {
     "data": {
      "application/vnd.jupyter.widget-view+json": {
       "model_id": "d61fc977076d4b8d911ce2e62272bb69",
       "version_major": 2,
       "version_minor": 0
      },
      "text/plain": [
       "epoch 12:   0%|          | 0/371 [00:00<?, ?it/s]"
      ]
     },
     "metadata": {},
     "output_type": "display_data"
    },
    {
     "data": {
      "application/vnd.jupyter.widget-view+json": {
       "model_id": "26f1f76c720942a18ea32b42ecac3d1d",
       "version_major": 2,
       "version_minor": 0
      },
      "text/plain": [
       "epoch 13:   0%|          | 0/371 [00:00<?, ?it/s]"
      ]
     },
     "metadata": {},
     "output_type": "display_data"
    },
    {
     "data": {
      "application/vnd.jupyter.widget-view+json": {
       "model_id": "32e87577afd2414f8fe5b3b34276c9cb",
       "version_major": 2,
       "version_minor": 0
      },
      "text/plain": [
       "epoch 14:   0%|          | 0/371 [00:00<?, ?it/s]"
      ]
     },
     "metadata": {},
     "output_type": "display_data"
    },
    {
     "data": {
      "application/vnd.jupyter.widget-view+json": {
       "model_id": "70b7a2905bb9471e98dbf7d4b04c70bc",
       "version_major": 2,
       "version_minor": 0
      },
      "text/plain": [
       "epoch 15:   0%|          | 0/371 [00:00<?, ?it/s]"
      ]
     },
     "metadata": {},
     "output_type": "display_data"
    },
    {
     "data": {
      "application/vnd.jupyter.widget-view+json": {
       "model_id": "38989b36f6214294834933103b9a67ef",
       "version_major": 2,
       "version_minor": 0
      },
      "text/plain": [
       "epoch 16:   0%|          | 0/371 [00:00<?, ?it/s]"
      ]
     },
     "metadata": {},
     "output_type": "display_data"
    },
    {
     "data": {
      "application/vnd.jupyter.widget-view+json": {
       "model_id": "ef7dc1a28bf64df4a5e03481a8c63b62",
       "version_major": 2,
       "version_minor": 0
      },
      "text/plain": [
       "epoch 17:   0%|          | 0/371 [00:00<?, ?it/s]"
      ]
     },
     "metadata": {},
     "output_type": "display_data"
    },
    {
     "data": {
      "application/vnd.jupyter.widget-view+json": {
       "model_id": "a52c97fb3ac44e83a3bfef992de411d5",
       "version_major": 2,
       "version_minor": 0
      },
      "text/plain": [
       "epoch 18:   0%|          | 0/371 [00:00<?, ?it/s]"
      ]
     },
     "metadata": {},
     "output_type": "display_data"
    },
    {
     "data": {
      "application/vnd.jupyter.widget-view+json": {
       "model_id": "1f64d6ccb5a643f3b286a4ab1937075e",
       "version_major": 2,
       "version_minor": 0
      },
      "text/plain": [
       "epoch 19:   0%|          | 0/371 [00:00<?, ?it/s]"
      ]
     },
     "metadata": {},
     "output_type": "display_data"
    },
    {
     "data": {
      "application/vnd.jupyter.widget-view+json": {
       "model_id": "a4d61f54498e4c52842805f76fc1775a",
       "version_major": 2,
       "version_minor": 0
      },
      "text/plain": [
       "epoch 20:   0%|          | 0/371 [00:00<?, ?it/s]"
      ]
     },
     "metadata": {},
     "output_type": "display_data"
    },
    {
     "data": {
      "application/vnd.jupyter.widget-view+json": {
       "model_id": "8c8f0f9f007c4bceb1856fc0a8f0220f",
       "version_major": 2,
       "version_minor": 0
      },
      "text/plain": [
       "epoch 21:   0%|          | 0/371 [00:00<?, ?it/s]"
      ]
     },
     "metadata": {},
     "output_type": "display_data"
    },
    {
     "data": {
      "application/vnd.jupyter.widget-view+json": {
       "model_id": "ce658745f3644fc2ba2316d90ebc08b0",
       "version_major": 2,
       "version_minor": 0
      },
      "text/plain": [
       "epoch 22:   0%|          | 0/371 [00:00<?, ?it/s]"
      ]
     },
     "metadata": {},
     "output_type": "display_data"
    },
    {
     "data": {
      "application/vnd.jupyter.widget-view+json": {
       "model_id": "371c2b940a514ce7afcc7a23c0bbb9ba",
       "version_major": 2,
       "version_minor": 0
      },
      "text/plain": [
       "epoch 23:   0%|          | 0/371 [00:00<?, ?it/s]"
      ]
     },
     "metadata": {},
     "output_type": "display_data"
    },
    {
     "data": {
      "application/vnd.jupyter.widget-view+json": {
       "model_id": "5ee202b5fd28453883e44c32ce0b3f0c",
       "version_major": 2,
       "version_minor": 0
      },
      "text/plain": [
       "epoch 24:   0%|          | 0/371 [00:00<?, ?it/s]"
      ]
     },
     "metadata": {},
     "output_type": "display_data"
    },
    {
     "data": {
      "application/vnd.jupyter.widget-view+json": {
       "model_id": "64fb9758e073464eaf286311b2911024",
       "version_major": 2,
       "version_minor": 0
      },
      "text/plain": [
       "epoch 25:   0%|          | 0/371 [00:00<?, ?it/s]"
      ]
     },
     "metadata": {},
     "output_type": "display_data"
    },
    {
     "data": {
      "application/vnd.jupyter.widget-view+json": {
       "model_id": "d4ccf73305e54ca68999a198b95257a8",
       "version_major": 2,
       "version_minor": 0
      },
      "text/plain": [
       "epoch 26:   0%|          | 0/371 [00:00<?, ?it/s]"
      ]
     },
     "metadata": {},
     "output_type": "display_data"
    },
    {
     "data": {
      "application/vnd.jupyter.widget-view+json": {
       "model_id": "7facf989bf5745a89498bef052a691c6",
       "version_major": 2,
       "version_minor": 0
      },
      "text/plain": [
       "epoch 27:   0%|          | 0/371 [00:00<?, ?it/s]"
      ]
     },
     "metadata": {},
     "output_type": "display_data"
    },
    {
     "data": {
      "application/vnd.jupyter.widget-view+json": {
       "model_id": "e45b7d46bfd74c5fa1d78a1dcfd4bd34",
       "version_major": 2,
       "version_minor": 0
      },
      "text/plain": [
       "epoch 28:   0%|          | 0/371 [00:00<?, ?it/s]"
      ]
     },
     "metadata": {},
     "output_type": "display_data"
    },
    {
     "data": {
      "application/vnd.jupyter.widget-view+json": {
       "model_id": "72149fdd25c544b9b1bbf64e5383cd01",
       "version_major": 2,
       "version_minor": 0
      },
      "text/plain": [
       "epoch 29:   0%|          | 0/371 [00:00<?, ?it/s]"
      ]
     },
     "metadata": {},
     "output_type": "display_data"
    },
    {
     "data": {
      "application/vnd.jupyter.widget-view+json": {
       "model_id": "394c63bb168948ffb63d5b4e2cfa263c",
       "version_major": 2,
       "version_minor": 0
      },
      "text/plain": [
       "epoch 30:   0%|          | 0/371 [00:00<?, ?it/s]"
      ]
     },
     "metadata": {},
     "output_type": "display_data"
    },
    {
     "data": {
      "application/vnd.jupyter.widget-view+json": {
       "model_id": "bc8d1377bbfa4d53a0136207630572af",
       "version_major": 2,
       "version_minor": 0
      },
      "text/plain": [
       "epoch 31:   0%|          | 0/371 [00:00<?, ?it/s]"
      ]
     },
     "metadata": {},
     "output_type": "display_data"
    },
    {
     "data": {
      "application/vnd.jupyter.widget-view+json": {
       "model_id": "2e4d511bfb3b4f069cb8e45b461f3349",
       "version_major": 2,
       "version_minor": 0
      },
      "text/plain": [
       "epoch 32:   0%|          | 0/371 [00:00<?, ?it/s]"
      ]
     },
     "metadata": {},
     "output_type": "display_data"
    },
    {
     "data": {
      "application/vnd.jupyter.widget-view+json": {
       "model_id": "d4f9c3207b8b4ee6b39c3d119f1b8a54",
       "version_major": 2,
       "version_minor": 0
      },
      "text/plain": [
       "epoch 33:   0%|          | 0/371 [00:00<?, ?it/s]"
      ]
     },
     "metadata": {},
     "output_type": "display_data"
    },
    {
     "data": {
      "application/vnd.jupyter.widget-view+json": {
       "model_id": "5ae33c3c781d45ad805c6be3e775f631",
       "version_major": 2,
       "version_minor": 0
      },
      "text/plain": [
       "epoch 34:   0%|          | 0/371 [00:00<?, ?it/s]"
      ]
     },
     "metadata": {},
     "output_type": "display_data"
    },
    {
     "data": {
      "application/vnd.jupyter.widget-view+json": {
       "model_id": "d4797af6b00344b18c235dc137f3773c",
       "version_major": 2,
       "version_minor": 0
      },
      "text/plain": [
       "epoch 35:   0%|          | 0/371 [00:00<?, ?it/s]"
      ]
     },
     "metadata": {},
     "output_type": "display_data"
    },
    {
     "data": {
      "application/vnd.jupyter.widget-view+json": {
       "model_id": "9a626c5c26144f3f9f508da7083ff32e",
       "version_major": 2,
       "version_minor": 0
      },
      "text/plain": [
       "epoch 36:   0%|          | 0/371 [00:00<?, ?it/s]"
      ]
     },
     "metadata": {},
     "output_type": "display_data"
    },
    {
     "data": {
      "application/vnd.jupyter.widget-view+json": {
       "model_id": "f1eead17554f46b3ad7f6117cca60850",
       "version_major": 2,
       "version_minor": 0
      },
      "text/plain": [
       "epoch 37:   0%|          | 0/371 [00:00<?, ?it/s]"
      ]
     },
     "metadata": {},
     "output_type": "display_data"
    },
    {
     "data": {
      "application/vnd.jupyter.widget-view+json": {
       "model_id": "a7af9e87851147c79e92f85594e6bea7",
       "version_major": 2,
       "version_minor": 0
      },
      "text/plain": [
       "epoch 38:   0%|          | 0/371 [00:00<?, ?it/s]"
      ]
     },
     "metadata": {},
     "output_type": "display_data"
    },
    {
     "data": {
      "application/vnd.jupyter.widget-view+json": {
       "model_id": "33d2e6f336b54619a877f7087edbd47f",
       "version_major": 2,
       "version_minor": 0
      },
      "text/plain": [
       "epoch 39:   0%|          | 0/371 [00:00<?, ?it/s]"
      ]
     },
     "metadata": {},
     "output_type": "display_data"
    },
    {
     "data": {
      "application/vnd.jupyter.widget-view+json": {
       "model_id": "63fa2dc4d62d4931b83518de43bd0902",
       "version_major": 2,
       "version_minor": 0
      },
      "text/plain": [
       "epoch 40:   0%|          | 0/371 [00:00<?, ?it/s]"
      ]
     },
     "metadata": {},
     "output_type": "display_data"
    },
    {
     "data": {
      "application/vnd.jupyter.widget-view+json": {
       "model_id": "ece74986ffd74440a262b6ced8e19098",
       "version_major": 2,
       "version_minor": 0
      },
      "text/plain": [
       "epoch 41:   0%|          | 0/371 [00:00<?, ?it/s]"
      ]
     },
     "metadata": {},
     "output_type": "display_data"
    },
    {
     "data": {
      "application/vnd.jupyter.widget-view+json": {
       "model_id": "58eb1238625545f39ac1e32f7bc6e51a",
       "version_major": 2,
       "version_minor": 0
      },
      "text/plain": [
       "epoch 42:   0%|          | 0/371 [00:00<?, ?it/s]"
      ]
     },
     "metadata": {},
     "output_type": "display_data"
    },
    {
     "data": {
      "application/vnd.jupyter.widget-view+json": {
       "model_id": "d00ba08e7a48407e99ec2486ba081e47",
       "version_major": 2,
       "version_minor": 0
      },
      "text/plain": [
       "epoch 43:   0%|          | 0/371 [00:00<?, ?it/s]"
      ]
     },
     "metadata": {},
     "output_type": "display_data"
    },
    {
     "data": {
      "application/vnd.jupyter.widget-view+json": {
       "model_id": "6a9f33a8a5eb4db996d42a7b4fac375c",
       "version_major": 2,
       "version_minor": 0
      },
      "text/plain": [
       "epoch 44:   0%|          | 0/371 [00:00<?, ?it/s]"
      ]
     },
     "metadata": {},
     "output_type": "display_data"
    },
    {
     "data": {
      "application/vnd.jupyter.widget-view+json": {
       "model_id": "068ede7b2d904b51b19ef795f125423b",
       "version_major": 2,
       "version_minor": 0
      },
      "text/plain": [
       "epoch 45:   0%|          | 0/371 [00:00<?, ?it/s]"
      ]
     },
     "metadata": {},
     "output_type": "display_data"
    },
    {
     "data": {
      "application/vnd.jupyter.widget-view+json": {
       "model_id": "10f6c080c6a44b589ad0e4f3551c9a21",
       "version_major": 2,
       "version_minor": 0
      },
      "text/plain": [
       "epoch 46:   0%|          | 0/371 [00:00<?, ?it/s]"
      ]
     },
     "metadata": {},
     "output_type": "display_data"
    },
    {
     "data": {
      "application/vnd.jupyter.widget-view+json": {
       "model_id": "6ef25d465b1745da928969521e883cbd",
       "version_major": 2,
       "version_minor": 0
      },
      "text/plain": [
       "epoch 47:   0%|          | 0/371 [00:00<?, ?it/s]"
      ]
     },
     "metadata": {},
     "output_type": "display_data"
    },
    {
     "data": {
      "application/vnd.jupyter.widget-view+json": {
       "model_id": "58cd11f73c6b47f3a684d19964d7aefd",
       "version_major": 2,
       "version_minor": 0
      },
      "text/plain": [
       "epoch 48:   0%|          | 0/371 [00:00<?, ?it/s]"
      ]
     },
     "metadata": {},
     "output_type": "display_data"
    },
    {
     "data": {
      "application/vnd.jupyter.widget-view+json": {
       "model_id": "ca2c233306644def90d6cbd5c0883c15",
       "version_major": 2,
       "version_minor": 0
      },
      "text/plain": [
       "epoch 49:   0%|          | 0/371 [00:00<?, ?it/s]"
      ]
     },
     "metadata": {},
     "output_type": "display_data"
    },
    {
     "data": {
      "application/vnd.jupyter.widget-view+json": {
       "model_id": "cb09d156890342fcbc285e276da577db",
       "version_major": 2,
       "version_minor": 0
      },
      "text/plain": [
       "epoch 50:   0%|          | 0/371 [00:00<?, ?it/s]"
      ]
     },
     "metadata": {},
     "output_type": "display_data"
    }
   ],
   "source": [
    "num_eps = 50\n",
    "losses = []\n",
    "perplexities = []\n",
    "\n",
    "for ep in range(num_eps):\n",
    "    ep_losses = []\n",
    "    model.train()\n",
    "    for batch in tqdm(train_dataloader, desc=f'epoch {ep + 1}'):\n",
    "        optimizer.zero_grad()\n",
    "        logs = model(batch['in_ids']).flatten(start_dim=0, end_dim=1)\n",
    "        loss = crit(\n",
    "            logs, batch['target_ids'].flatten()\n",
    "        )\n",
    "        loss.backward()\n",
    "        optimizer.step()\n",
    "\n",
    "        ep_losses.append(loss.item())\n",
    "    losses.append(sum(ep_losses) / len(ep_losses))\n",
    "    perplexities.append(evaluate(model, crit))\n",
    "    "
   ]
  },
  {
   "cell_type": "code",
   "execution_count": 29,
   "id": "6b50dd67-14c7-4a5b-9454-2f36b143629d",
   "metadata": {},
   "outputs": [
    {
     "data": {
      "image/png": "[encoded data removed]",
      "text/plain": [
       "<Figure size 640x480 with 1 Axes>"
      ]
     },
     "metadata": {},
     "output_type": "display_data"
    }
   ],
   "source": [
    "plt.plot(losses)\n",
    "plt.title('Losses')\n",
    "plt.xlabel('ep')\n",
    "plt.show()"
   ]
  },
  {
   "cell_type": "code",
   "execution_count": 30,
   "id": "cbc5fd8a-b7c2-429a-b4d2-01e9a7c11884",
   "metadata": {},
   "outputs": [
    {
     "data": {
      "image/png": "[encoded data removed]",
      "text/plain": [
       "<Figure size 640x480 with 1 Axes>"
      ]
     },
     "metadata": {},
     "output_type": "display_data"
    }
   ],
   "source": [
    "plt.plot(perplexities)\n",
    "plt.title('Losses')\n",
    "plt.xlabel('ep')\n",
    "plt.show()"
   ]
  },
  {
   "cell_type": "code",
   "execution_count": 31,
   "id": "25263624-7497-467c-8b83-3583cee2a8b3",
   "metadata": {},
   "outputs": [],
   "source": [
    "def generate(model, start_s, max_s_len):\n",
    "    device = 'cpu'\n",
    "    model.to(device)\n",
    "    input_ids = [c2id['<bos>']] + [c2id.get(c, c2id['<unk>']) for c in start_s]\n",
    "    input_ids = torch.LongTensor(input_ids).to(device)\n",
    "    model.eval()\n",
    "    with torch.no_grad():\n",
    "        for i in range(max_s_len):\n",
    "            next_c_dist = model(input_ids)[-1]\n",
    "            next_c = next_c_dist.squeeze().argmax()\n",
    "            input_ids = torch.cat([input_ids, next_c.unsqueeze(0)])\n",
    "\n",
    "            if next_c.item() == c2id['<eos>']:\n",
    "                break\n",
    "    words = ''.join([id2c[id_.item()] for id_ in  input_ids])\n",
    "    return words\n",
    "    "
   ]
  },
  {
   "cell_type": "code",
   "execution_count": 32,
   "id": "63cc60af-f037-4982-87ce-120fbdcc2397",
   "metadata": {},
   "outputs": [
    {
     "data": {
      "text/plain": [
       "'<bos>гулял он как-то над ними привесть особой, от которого туда ж выводе - не прикажет.<eos>'"
      ]
     },
     "execution_count": 32,
     "metadata": {},
     "output_type": "execute_result"
    }
   ],
   "source": [
    "generate(model, start_s='гулял он как-то над ', max_s_len=128)"
   ]
  },
  {
   "cell_type": "code",
   "execution_count": 33,
   "id": "b47ab5c4-6fd1-4526-92e3-3c8ad4f8781b",
   "metadata": {},
   "outputs": [],
   "source": [
    "def text_generation(model, start_s, max_s_len, sent_num):\n",
    "    crop_len = len(start_s)\n",
    "    res = start_s\n",
    "    start = start_s\n",
    "    for i in range(sent_num):\n",
    "        new = generate(model, start_s=start[-crop_len:], max_s_len=max_s_len)\n",
    "        new = new.replace('<unk>', '').replace('<eos>', '').replace('<bos>', '')\n",
    "        start = new[crop_len:]\n",
    "        res += new[crop_len:]\n",
    "    return res"
   ]
  },
  {
   "cell_type": "code",
   "execution_count": 34,
   "id": "9c883036-7784-4d85-9bb1-595323418538",
   "metadata": {},
   "outputs": [
    {
     "data": {
      "text/plain": [
       "'мороз и солнце от мертвная жизни нет и не слышала \"а как же бы ни было, не смею спросить?.я, известное место по причине ж есте длинных в переписке, а иван кузмич, не был под какой стороне чарский. полк наш от магометанства, совершенно унивления. полк наш от магометанства, совершенно унивления. полк наш от магометанства, совершенно унивления.'"
      ]
     },
     "execution_count": 34,
     "metadata": {},
     "output_type": "execute_result"
    }
   ],
   "source": [
    "text_generation(model, start_s='мороз и солнце', max_s_len=1024, sent_num=10)"
   ]
  },
  {
   "cell_type": "code",
   "execution_count": 37,
   "id": "c25ce73b-7c14-4e6a-9fff-f701ddfe185f",
   "metadata": {},
   "outputs": [],
   "source": [
    "import pickle\n",
    "torch.save(model.state_dict(), 'char_predicting 2 lstm 50 epochs')\n",
    "with open('tokeniser.pkl', 'wb') as f:\n",
    "    pickle.dump(c2id, f)"
   ]
  },
  {
   "cell_type": "code",
   "execution_count": null,
   "id": "686d89f1-6d72-4d93-b827-7860899c8991",
   "metadata": {},
   "outputs": [],
   "source": []
  },
  {
   "cell_type": "code",
   "execution_count": null,
   "id": "3d7cc23e-fca0-4e34-b8ab-1f66613d9deb",
   "metadata": {},
   "outputs": [],
   "source": []
  },
  {
   "cell_type": "code",
   "execution_count": null,
   "id": "39fc6878-befe-4ae7-b34e-4494203eaefc",
   "metadata": {},
   "outputs": [],
   "source": []
  },
  {
   "cell_type": "code",
   "execution_count": null,
   "id": "a98ee96f-faed-417f-bed5-38e7884a82a1",
   "metadata": {},
   "outputs": [],
   "source": []
  }
 ],
 "metadata": {
  "kernelspec": {
   "display_name": "Python 3 (ipykernel)",
   "language": "python",
   "name": "python3"
  },
  "language_info": {
   "codemirror_mode": {
    "name": "ipython",
    "version": 3
   },
   "file_extension": ".py",
   "mimetype": "text/x-python",
   "name": "python",
   "nbconvert_exporter": "python",
   "pygments_lexer": "ipython3",
   "version": "3.12.4"
  }
 },
 "nbformat": 4,
 "nbformat_minor": 5
}
