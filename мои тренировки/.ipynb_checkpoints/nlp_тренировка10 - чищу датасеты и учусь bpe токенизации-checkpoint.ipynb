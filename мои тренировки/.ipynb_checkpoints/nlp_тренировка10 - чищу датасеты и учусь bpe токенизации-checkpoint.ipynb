{
 "cells": [
  {
   "cell_type": "markdown",
   "id": "8a52232d-4e1e-4ab3-8c57-476999899da6",
   "metadata": {},
   "source": [
    "# этот код генерировал при помощи gpt для обучения создания bpe токенизатора"
   ]
  },
  {
   "cell_type": "code",
   "execution_count": 107,
   "id": "a169d836-1c73-4172-8e1b-8bc484ad2bf6",
   "metadata": {},
   "outputs": [],
   "source": [
    "from tokenizers import Tokenizer\n",
    "from tokenizers.models import BPE\n",
    "from tokenizers.trainers import BpeTrainer\n",
    "from tokenizers.pre_tokenizers import Whitespace\n",
    "\n",
    "import re\n",
    "\n"
   ]
  },
  {
   "cell_type": "code",
   "execution_count": 76,
   "id": "5676f7a0-b971-420c-8102-234d7f744a34",
   "metadata": {},
   "outputs": [],
   "source": [
    "tokenizer = Tokenizer(BPE(unk_token='<unk>'))"
   ]
  },
  {
   "cell_type": "code",
   "execution_count": 77,
   "id": "ad816808-1809-415d-9615-d2b1eb1659e9",
   "metadata": {},
   "outputs": [],
   "source": [
    "trainer = BpeTrainer(vocab_size=1000, min_frequency=2, special_tokens=['<unk>', '<bos>', '<eos>', '<pad>'])"
   ]
  },
  {
   "cell_type": "code",
   "execution_count": 78,
   "id": "2e41933f-3259-4283-8044-7e9ea414da41",
   "metadata": {},
   "outputs": [],
   "source": [
    "tokenizer.pre_tokenizer = Whitespace()"
   ]
  },
  {
   "cell_type": "markdown",
   "id": "1f1ed6ab-0646-43fd-b9ff-ca491129db52",
   "metadata": {},
   "source": [
    "#### отчищу файлы от иностранных символов"
   ]
  },
  {
   "cell_type": "code",
   "execution_count": 79,
   "id": "2dce369c-1be9-493d-87f2-027d3ed21f4d",
   "metadata": {},
   "outputs": [],
   "source": [
    "paths = ['../generated_pushkin.txt', '../generated_curious_pushkin.txt']\n",
    "for path in paths:\n",
    "    with open(path, 'r', encoding='utf-8') as f:\n",
    "        text = f.read().lower()\n",
    "        cleaned_text = re.sub(r'[^а-яА-Я\\s#.,!?;:\\-—\\'\"«»()…]', '', text)\n",
    "        f_paste = open(f'../dataset/generated/{path[3:]}', 'w', encoding='utf-8')\n",
    "        print(cleaned_text, file=f_paste)"
   ]
  },
  {
   "cell_type": "markdown",
   "id": "d3a5e627-9a70-4c28-8525-b3681e0aa960",
   "metadata": {},
   "source": [
    "### делаю токенайзер"
   ]
  },
  {
   "cell_type": "code",
   "execution_count": 80,
   "id": "899f7587-1780-464b-b8cd-fcf7f57dd2d4",
   "metadata": {},
   "outputs": [],
   "source": [
    "files = ['../dataset/generated/generated_pushkin.txt', '../dataset/generated/generated_curious_pushkin.txt']\n",
    "tokenizer.train(files, trainer)"
   ]
  },
  {
   "cell_type": "code",
   "execution_count": 81,
   "id": "aad41ebe-a754-4982-932b-ef7e4b9d2dac",
   "metadata": {},
   "outputs": [],
   "source": [
    "tokenizer.save('my_first_bpe_tokenizer')"
   ]
  },
  {
   "cell_type": "markdown",
   "id": "c2c65176-774b-47dd-bb24-aaafef7e25f9",
   "metadata": {},
   "source": [
    "### загружаю из сохранения и исследую"
   ]
  },
  {
   "cell_type": "code",
   "execution_count": 82,
   "id": "9fce62c1-d977-4ac1-b350-31b1bc4935d1",
   "metadata": {},
   "outputs": [],
   "source": [
    "tokenizer = Tokenizer.from_file('my_first_bpe_tokenizer')"
   ]
  },
  {
   "cell_type": "code",
   "execution_count": 98,
   "id": "a50c239b-b59d-41bf-ba73-f6d92a9d89aa",
   "metadata": {},
   "outputs": [],
   "source": [
    "text = 'жили были'"
   ]
  },
  {
   "cell_type": "code",
   "execution_count": 100,
   "id": "dcf75d5e-ad4a-4085-a068-3709dea782e7",
   "metadata": {},
   "outputs": [
    {
     "data": {
      "text/plain": [
       "Encoding(num_tokens=3, attributes=[ids, type_ids, tokens, offsets, attention_mask, special_tokens_mask, overflowing])"
      ]
     },
     "execution_count": 100,
     "metadata": {},
     "output_type": "execute_result"
    }
   ],
   "source": [
    "output = tokenizer.encode(text)\n",
    "output"
   ]
  },
  {
   "cell_type": "code",
   "execution_count": 101,
   "id": "a63194f9-913c-4f71-bd44-b71c4dd75fcb",
   "metadata": {},
   "outputs": [
    {
     "data": {
      "text/plain": [
       "['жи', 'ли', 'были']"
      ]
     },
     "execution_count": 101,
     "metadata": {},
     "output_type": "execute_result"
    }
   ],
   "source": [
    "output.tokens"
   ]
  },
  {
   "cell_type": "code",
   "execution_count": 103,
   "id": "d592b9f9-2a2f-40a0-92e9-9e25ca55f5be",
   "metadata": {},
   "outputs": [
    {
     "data": {
      "text/plain": [
       "[Encoding(num_tokens=14, attributes=[ids, type_ids, tokens, offsets, attention_mask, special_tokens_mask, overflowing]),\n",
       " Encoding(num_tokens=7, attributes=[ids, type_ids, tokens, offsets, attention_mask, special_tokens_mask, overflowing])]"
      ]
     },
     "execution_count": 103,
     "metadata": {},
     "output_type": "execute_result"
    }
   ],
   "source": [
    "output = tokenizer.encode_batch(['жили были what is this?', 'ели кашу с молоком'])\n",
    "output"
   ]
  },
  {
   "cell_type": "code",
   "execution_count": 105,
   "id": "ff85e943-6de4-4641-bbf0-d84a0ec7a6d2",
   "metadata": {},
   "outputs": [
    {
     "data": {
      "text/plain": [
       "['е', 'ли', 'ка', 'шу', 'с', 'моло', 'ком']"
      ]
     },
     "execution_count": 105,
     "metadata": {},
     "output_type": "execute_result"
    }
   ],
   "source": [
    "output[1].tokens"
   ]
  },
  {
   "cell_type": "code",
   "execution_count": null,
   "id": "9f64ac06-3789-490d-bbcd-5d70e687a309",
   "metadata": {},
   "outputs": [],
   "source": []
  }
 ],
 "metadata": {
  "kernelspec": {
   "display_name": "Python 3 (ipykernel)",
   "language": "python",
   "name": "python3"
  },
  "language_info": {
   "codemirror_mode": {
    "name": "ipython",
    "version": 3
   },
   "file_extension": ".py",
   "mimetype": "text/x-python",
   "name": "python",
   "nbconvert_exporter": "python",
   "pygments_lexer": "ipython3",
   "version": "3.12.2"
  }
 },
 "nbformat": 4,
 "nbformat_minor": 5
}
