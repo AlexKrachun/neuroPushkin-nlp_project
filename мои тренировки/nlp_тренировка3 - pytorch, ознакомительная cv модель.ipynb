{
 "cells": [
  {
   "cell_type": "markdown",
   "metadata": {},
   "source": [
    "# данный код был сгенерирован в gpt4 с целью ознакомления с основами ml и подробно разобран мною"
   ]
  },
  {
   "cell_type": "code",
   "execution_count": 2,
   "metadata": {
    "id": "kSy3d9St1Czi"
   },
   "outputs": [],
   "source": [
    "import torch"
   ]
  },
  {
   "cell_type": "code",
   "execution_count": 26,
   "metadata": {
    "colab": {
     "base_uri": "https://localhost:8080/"
    },
    "id": "O6GQUTRs1PPt",
    "outputId": "dc5c45fb-594a-466c-dd58-306a7df78e77"
   },
   "outputs": [
    {
     "data": {
      "text/plain": [
       "tensor([[ 2.1707e-18,  1.9284e+31,  3.2314e-18],\n",
       "        [ 5.8981e-10,  2.6100e+20,  1.0129e-11],\n",
       "        [ 1.8077e-43,  0.0000e+00, -5.8812e+32],\n",
       "        [ 3.2313e-41, -5.6304e+32,  3.2313e-41],\n",
       "        [ 3.1222e-18,  3.1360e+27,  7.0800e+31]])"
      ]
     },
     "execution_count": 26,
     "metadata": {},
     "output_type": "execute_result"
    }
   ],
   "source": [
    "a = torch.empty(5, 3)\n",
    "a"
   ]
  },
  {
   "cell_type": "code",
   "execution_count": 28,
   "metadata": {
    "colab": {
     "base_uri": "https://localhost:8080/"
    },
    "id": "xRHB-3Iu162H",
    "outputId": "1174a573-1fab-4169-f643-3e8dea28c4a8"
   },
   "outputs": [
    {
     "data": {
      "text/plain": [
       "19.283840503427445"
      ]
     },
     "execution_count": 28,
     "metadata": {},
     "output_type": "execute_result"
    }
   ],
   "source": [
    "a[0][1].item() / 10 ** 30"
   ]
  },
  {
   "cell_type": "code",
   "execution_count": 8,
   "metadata": {
    "colab": {
     "base_uri": "https://localhost:8080/"
    },
    "id": "hg86jN971YdZ",
    "outputId": "6b9c8440-c629-420b-ac68-4aadad3a982a"
   },
   "outputs": [
    {
     "data": {
      "text/plain": [
       "tensor([[0.9085, 0.4405, 0.1146],\n",
       "        [0.1830, 0.2108, 0.2985],\n",
       "        [0.7162, 0.7199, 0.9995],\n",
       "        [0.5673, 0.8569, 0.2593],\n",
       "        [0.8058, 0.0618, 0.6726]])"
      ]
     },
     "execution_count": 8,
     "metadata": {},
     "output_type": "execute_result"
    }
   ],
   "source": [
    "torch.rand(5, 3)"
   ]
  },
  {
   "cell_type": "code",
   "execution_count": 30,
   "metadata": {
    "colab": {
     "base_uri": "https://localhost:8080/"
    },
    "id": "fXtPeQ7M1Z7p",
    "outputId": "1cca3bbd-5aa0-47cf-86c1-9d3602c76fec"
   },
   "outputs": [
    {
     "data": {
      "text/plain": [
       "tensor([[0, 0, 0],\n",
       "        [0, 0, 0],\n",
       "        [0, 0, 0],\n",
       "        [0, 0, 0],\n",
       "        [0, 0, 0]])"
      ]
     },
     "execution_count": 30,
     "metadata": {},
     "output_type": "execute_result"
    }
   ],
   "source": [
    "torch.zeros(5, 3, dtype=torch.long)"
   ]
  },
  {
   "cell_type": "code",
   "execution_count": 33,
   "metadata": {
    "colab": {
     "base_uri": "https://localhost:8080/"
    },
    "id": "p5ZGrRW02NTn",
    "outputId": "cb7571e5-d88d-4e28-9c67-00182f4dfc20"
   },
   "outputs": [
    {
     "data": {
      "text/plain": [
       "tensor([[[[[5, 3]]]]])"
      ]
     },
     "execution_count": 33,
     "metadata": {},
     "output_type": "execute_result"
    }
   ],
   "source": [
    "torch.tensor([[[[[5, 3]]]]])"
   ]
  },
  {
   "cell_type": "code",
   "execution_count": 37,
   "metadata": {
    "colab": {
     "base_uri": "https://localhost:8080/"
    },
    "id": "A17wExgH2Rqu",
    "outputId": "cbed3d93-457c-47f6-b100-709759f2ecbc"
   },
   "outputs": [
    {
     "name": "stdout",
     "output_type": "stream",
     "text": [
      "tensor([[1.6605, 1.6451, 1.2642],\n",
      "        [0.2735, 0.4168, 1.4831],\n",
      "        [0.8715, 1.7648, 0.8120],\n",
      "        [0.8176, 0.8212, 1.3310],\n",
      "        [0.7941, 1.0707, 0.8676]])\n",
      "tensor([[1.6605, 1.6451, 1.2642],\n",
      "        [0.2735, 0.4168, 1.4831],\n",
      "        [0.8715, 1.7648, 0.8120],\n",
      "        [0.8176, 0.8212, 1.3310],\n",
      "        [0.7941, 1.0707, 0.8676]])\n",
      "tensor([[1.6605, 1.6451, 1.2642],\n",
      "        [0.2735, 0.4168, 1.4831],\n",
      "        [0.8715, 1.7648, 0.8120],\n",
      "        [0.8176, 0.8212, 1.3310],\n",
      "        [0.7941, 1.0707, 0.8676]])\n",
      "tensor([[1.6605, 1.6451, 1.2642],\n",
      "        [0.2735, 0.4168, 1.4831],\n",
      "        [0.8715, 1.7648, 0.8120],\n",
      "        [0.8176, 0.8212, 1.3310],\n",
      "        [0.7941, 1.0707, 0.8676]])\n",
      "tensor([[2.4661, 2.3940, 1.7602],\n",
      "        [0.5019, 0.7824, 2.3318],\n",
      "        [1.4226, 2.7042, 1.1820],\n",
      "        [1.4156, 1.3748, 1.9222],\n",
      "        [1.5055, 1.3441, 1.0924]])\n"
     ]
    }
   ],
   "source": [
    "a = torch.rand(5, 3)\n",
    "b = torch.rand(5, 3)\n",
    "print(a + b)\n",
    "print(torch.add(a, b))\n",
    "print(a.add(b))\n",
    "print(a.add_(b))\n",
    "print(a.add(b))"
   ]
  },
  {
   "cell_type": "code",
   "execution_count": 48,
   "metadata": {
    "colab": {
     "base_uri": "https://localhost:8080/"
    },
    "id": "TYYmAhcC2gDB",
    "outputId": "f5078a98-5f95-4c8d-ed75-bcda810ad31d"
   },
   "outputs": [
    {
     "data": {
      "text/plain": [
       "tensor([[0.8045, 0.1107, 0.7396],\n",
       "        [0.4994, 0.3832, 0.6146],\n",
       "        [0.0511, 0.5835, 0.7998],\n",
       "        [0.5625, 0.6167, 0.3094]], requires_grad=True)"
      ]
     },
     "execution_count": 48,
     "metadata": {},
     "output_type": "execute_result"
    }
   ],
   "source": [
    "x = torch.rand(4, 3, requires_grad=True)\n",
    "x"
   ]
  },
  {
   "cell_type": "code",
   "execution_count": 49,
   "metadata": {
    "colab": {
     "base_uri": "https://localhost:8080/"
    },
    "id": "7gONTEEx26zp",
    "outputId": "b2fc5b4f-1ac0-4b75-ce7e-986a48d7f7aa"
   },
   "outputs": [
    {
     "data": {
      "text/plain": [
       "tensor([[4.6472, 4.0123, 4.5470],\n",
       "        [4.2494, 4.1469, 4.3778],\n",
       "        [4.0026, 4.3405, 4.6396],\n",
       "        [4.3164, 4.3803, 4.0957]], grad_fn=<AddBackward0>)"
      ]
     },
     "execution_count": 49,
     "metadata": {},
     "output_type": "execute_result"
    }
   ],
   "source": [
    "y = x * x + 4\n",
    "y"
   ]
  },
  {
   "cell_type": "code",
   "execution_count": 50,
   "metadata": {
    "colab": {
     "base_uri": "https://localhost:8080/"
    },
    "id": "OoaBOBPO2_KK",
    "outputId": "25402103-3484-4169-966c-9eb015ce2a0c"
   },
   "outputs": [
    {
     "data": {
      "text/plain": [
       "<AddBackward0 at 0x7bdaba02b490>"
      ]
     },
     "execution_count": 50,
     "metadata": {},
     "output_type": "execute_result"
    }
   ],
   "source": [
    "y.grad_fn"
   ]
  },
  {
   "cell_type": "code",
   "execution_count": 64,
   "metadata": {
    "colab": {
     "base_uri": "https://localhost:8080/"
    },
    "id": "lMlYczV03CHD",
    "outputId": "bf68751e-0111-4b50-f101-602ecaad9bd7"
   },
   "outputs": [
    {
     "data": {
      "text/plain": [
       "tensor([[301.0972, 193.7712, 282.0227],\n",
       "        [230.1974, 213.9331, 251.7007],\n",
       "        [192.3770, 245.3260, 299.6241],\n",
       "        [241.2561, 252.1316, 206.1189]], grad_fn=<MulBackward0>)"
      ]
     },
     "execution_count": 64,
     "metadata": {},
     "output_type": "execute_result"
    }
   ],
   "source": [
    "z = y * y * y * 3\n",
    "z"
   ]
  },
  {
   "cell_type": "code",
   "execution_count": 54,
   "metadata": {
    "colab": {
     "base_uri": "https://localhost:8080/"
    },
    "id": "oWG8bC9J3LFF",
    "outputId": "7be17c7a-2782-4f19-d404-1b4cd1eed63f"
   },
   "outputs": [
    {
     "data": {
      "text/plain": [
       "tensor(242.4630, grad_fn=<MeanBackward0>)"
      ]
     },
     "execution_count": 54,
     "metadata": {},
     "output_type": "execute_result"
    }
   ],
   "source": [
    "out = z.mean()\n",
    "out"
   ]
  },
  {
   "cell_type": "code",
   "execution_count": 58,
   "metadata": {
    "id": "1lPh1ppM3Vm9"
   },
   "outputs": [],
   "source": [
    "out.backward()"
   ]
  },
  {
   "cell_type": "code",
   "execution_count": 57,
   "metadata": {
    "colab": {
     "base_uri": "https://localhost:8080/"
    },
    "id": "tY6iODYH3c3N",
    "outputId": "9a75dfef-b10a-4d66-a321-1f5580d553bc"
   },
   "outputs": [
    {
     "name": "stdout",
     "output_type": "stream",
     "text": [
      "242.463\n"
     ]
    }
   ],
   "source": [
    "a = [[301.0972, 193.7712, 282.0227],\n",
    "        [230.1974, 213.9331, 251.7007],\n",
    "        [192.3770, 245.3260, 299.6241],\n",
    "        [241.2561, 252.1316, 206.1189]]\n",
    "su = sum(a[i][j] for i in range(len(a)) for j in range(len(a[0])))\n",
    "print(su / 12)"
   ]
  },
  {
   "cell_type": "code",
   "execution_count": 62,
   "metadata": {
    "colab": {
     "base_uri": "https://localhost:8080/"
    },
    "id": "tIqbjm1o3nA_",
    "outputId": "9d755f28-2ced-4adc-e9dc-4907049aeb4a"
   },
   "outputs": [
    {
     "data": {
      "text/plain": [
       "tensor([[26.0624,  2.6740, 22.9356],\n",
       "        [13.5264,  9.8849, 17.6694],\n",
       "        [ 1.2291, 16.4907, 25.8245],\n",
       "        [15.7192, 17.7479,  7.7857]])"
      ]
     },
     "execution_count": 62,
     "metadata": {},
     "output_type": "execute_result"
    }
   ],
   "source": [
    "x.grad"
   ]
  },
  {
   "cell_type": "code",
   "execution_count": 65,
   "metadata": {
    "colab": {
     "base_uri": "https://localhost:8080/"
    },
    "id": "YIuFIZd436UH",
    "outputId": "ce45a499-f5fe-4799-b591-11503f629abe"
   },
   "outputs": [
    {
     "name": "stdout",
     "output_type": "stream",
     "text": [
      "Original shape: torch.Size([2, 3, 4])\n",
      "Flattened shape: torch.Size([2, 12])\n"
     ]
    }
   ],
   "source": [
    "import torch\n",
    "\n",
    "# Создаем тензор размерности (2, 3, 4)\n",
    "x = torch.randn(2, 3, 4)\n",
    "print(\"Original shape:\", x.shape)\n",
    "\n",
    "# Применяем flatten начиная с первой размерности\n",
    "x = torch.flatten(x, 1)\n",
    "print(\"Flattened shape:\", x.shape)\n",
    "\n"
   ]
  },
  {
   "cell_type": "code",
   "execution_count": 67,
   "metadata": {
    "colab": {
     "base_uri": "https://localhost:8080/"
    },
    "id": "IChUib8P5uRc",
    "outputId": "4087ed29-3a7a-4ad4-df80-66b41125bc25"
   },
   "outputs": [
    {
     "data": {
      "text/plain": [
       "tensor([[[0.5005, 0.9846, 0.0869, 0.4443],\n",
       "         [0.8834, 0.9419, 0.9780, 0.2849],\n",
       "         [0.0318, 0.1687, 0.8090, 0.2502]],\n",
       "\n",
       "        [[0.2728, 0.9500, 0.1209, 0.9081],\n",
       "         [0.7182, 0.4134, 0.2332, 0.7136],\n",
       "         [0.5921, 0.2361, 0.8365, 0.5786]]])"
      ]
     },
     "execution_count": 67,
     "metadata": {},
     "output_type": "execute_result"
    }
   ],
   "source": [
    "x = torch.rand(2, 3, 4)\n",
    "x"
   ]
  },
  {
   "cell_type": "code",
   "execution_count": 68,
   "metadata": {
    "colab": {
     "base_uri": "https://localhost:8080/"
    },
    "id": "IfPqWNEd5zqD",
    "outputId": "12634142-1ecb-4301-f5a8-9125dc80de86"
   },
   "outputs": [
    {
     "data": {
      "text/plain": [
       "tensor([0.5005, 0.9846, 0.0869, 0.4443, 0.8834, 0.9419, 0.9780, 0.2849, 0.0318,\n",
       "        0.1687, 0.8090, 0.2502, 0.2728, 0.9500, 0.1209, 0.9081, 0.7182, 0.4134,\n",
       "        0.2332, 0.7136, 0.5921, 0.2361, 0.8365, 0.5786])"
      ]
     },
     "execution_count": 68,
     "metadata": {},
     "output_type": "execute_result"
    }
   ],
   "source": [
    "x.flatten()"
   ]
  },
  {
   "cell_type": "code",
   "execution_count": 69,
   "metadata": {
    "colab": {
     "base_uri": "https://localhost:8080/"
    },
    "id": "fhwCMaHO53hj",
    "outputId": "5a973539-098d-46c2-94ee-6daa8812da75"
   },
   "outputs": [
    {
     "data": {
      "text/plain": [
       "tensor([0.5005, 0.9846, 0.0869, 0.4443, 0.8834, 0.9419, 0.9780, 0.2849, 0.0318,\n",
       "        0.1687, 0.8090, 0.2502, 0.2728, 0.9500, 0.1209, 0.9081, 0.7182, 0.4134,\n",
       "        0.2332, 0.7136, 0.5921, 0.2361, 0.8365, 0.5786])"
      ]
     },
     "execution_count": 69,
     "metadata": {},
     "output_type": "execute_result"
    }
   ],
   "source": [
    "x.flatten(0)"
   ]
  },
  {
   "cell_type": "code",
   "execution_count": 70,
   "metadata": {
    "colab": {
     "base_uri": "https://localhost:8080/"
    },
    "id": "-9Cx0BKm58XQ",
    "outputId": "33c0b3bd-87cb-4695-88c5-92ec84bdc278"
   },
   "outputs": [
    {
     "data": {
      "text/plain": [
       "tensor([[0.5005, 0.9846, 0.0869, 0.4443, 0.8834, 0.9419, 0.9780, 0.2849, 0.0318,\n",
       "         0.1687, 0.8090, 0.2502],\n",
       "        [0.2728, 0.9500, 0.1209, 0.9081, 0.7182, 0.4134, 0.2332, 0.7136, 0.5921,\n",
       "         0.2361, 0.8365, 0.5786]])"
      ]
     },
     "execution_count": 70,
     "metadata": {},
     "output_type": "execute_result"
    }
   ],
   "source": [
    "x.flatten(1)"
   ]
  },
  {
   "cell_type": "code",
   "execution_count": 71,
   "metadata": {
    "colab": {
     "base_uri": "https://localhost:8080/"
    },
    "id": "TJ6QpKrb59-v",
    "outputId": "05504f75-95ed-41bc-88bc-053b81a28960"
   },
   "outputs": [
    {
     "data": {
      "text/plain": [
       "tensor([[[0.5005, 0.9846, 0.0869, 0.4443],\n",
       "         [0.8834, 0.9419, 0.9780, 0.2849],\n",
       "         [0.0318, 0.1687, 0.8090, 0.2502]],\n",
       "\n",
       "        [[0.2728, 0.9500, 0.1209, 0.9081],\n",
       "         [0.7182, 0.4134, 0.2332, 0.7136],\n",
       "         [0.5921, 0.2361, 0.8365, 0.5786]]])"
      ]
     },
     "execution_count": 71,
     "metadata": {},
     "output_type": "execute_result"
    }
   ],
   "source": [
    "x.flatten(2)"
   ]
  },
  {
   "cell_type": "code",
   "execution_count": 72,
   "metadata": {
    "colab": {
     "base_uri": "https://localhost:8080/"
    },
    "id": "lr6UoId46KsC",
    "outputId": "e51fe6a3-a934-4abc-c9c1-00d943566e1a"
   },
   "outputs": [
    {
     "data": {
      "text/plain": [
       "tensor([[0.5005, 0.9846, 0.0869, 0.4443],\n",
       "        [0.8834, 0.9419, 0.9780, 0.2849],\n",
       "        [0.0318, 0.1687, 0.8090, 0.2502],\n",
       "        [0.2728, 0.9500, 0.1209, 0.9081],\n",
       "        [0.7182, 0.4134, 0.2332, 0.7136],\n",
       "        [0.5921, 0.2361, 0.8365, 0.5786]])"
      ]
     },
     "execution_count": 72,
     "metadata": {},
     "output_type": "execute_result"
    }
   ],
   "source": [
    "x.flatten(0, 1)"
   ]
  },
  {
   "cell_type": "code",
   "execution_count": 73,
   "metadata": {
    "id": "3T0y1yvL6M3N"
   },
   "outputs": [],
   "source": []
  },
  {
   "cell_type": "code",
   "execution_count": 76,
   "metadata": {
    "id": "Eqo7s1VC6mbd"
   },
   "outputs": [],
   "source": [
    "import torch\n",
    "from torch.utils.data import Dataset\n",
    "\n",
    "class TextDataset(Dataset):\n",
    "    def __init__(self, texts):\n",
    "        super().__init__()\n",
    "        self.texts = texts\n",
    "\n",
    "    def __len__(self):\n",
    "        return len(self.texts)\n",
    "\n",
    "    def __getitem__(self, idx):\n",
    "        return self.texts[idx]\n",
    "\n",
    "texts = [\"Hello, world!\", \"How are you?\", \"I love NLP.\"]\n",
    "dataset = TextDataset(texts)\n"
   ]
  },
  {
   "cell_type": "code",
   "execution_count": 75,
   "metadata": {
    "id": "-5q5IQRI8pbH"
   },
   "outputs": [],
   "source": [
    "d = TextDataset([])"
   ]
  },
  {
   "cell_type": "code",
   "execution_count": 78,
   "metadata": {
    "id": "NwpCKLo59MFq"
   },
   "outputs": [],
   "source": [
    "import torch\n",
    "import torch.nn as nn\n",
    "import torch.optim as optim\n",
    "from torchvision import datasets, transforms\n",
    "from torch.utils.data import DataLoader\n",
    "\n",
    "# Определение архитектуры модели\n",
    "class SimpleNN(nn.Module):\n",
    "    def __init__(self):\n",
    "        super(SimpleNN, self).__init__()\n",
    "        self.fc1 = nn.Linear(28*28, 128)  # Входной слой: 28*28 пикселей\n",
    "        self.fc2 = nn.Linear(128, 64)     # Скрытый слой: 128 нейронов\n",
    "        self.fc3 = nn.Linear(64, 10)      # Выходной слой: 10 классов (цифры 0-9)\n",
    "\n",
    "    def forward(self, x):\n",
    "        x = x.view(-1, 28*28)  # Развертывание изображений в вектор\n",
    "        x = torch.relu(self.fc1(x))\n",
    "        x = torch.relu(self.fc2(x))\n",
    "        x = self.fc3(x)\n",
    "        return x\n",
    "\n",
    "# Подготовка данных\n",
    "transform = transforms.Compose([transforms.ToTensor(), transforms.Normalize((0.5,), (0.5,))])\n",
    "train_dataset = datasets.MNIST(root='./data', train=True, download=True, transform=transform)\n",
    "train_loader = DataLoader(train_dataset, batch_size=64, shuffle=True)\n",
    "\n",
    "# Инициализация модели, функции потерь и оптимизатора\n",
    "model = SimpleNN()\n",
    "criterion = nn.CrossEntropyLoss()\n",
    "optimizer = optim.Adam(model.parameters(), lr=0.001)\n",
    "\n",
    "\n"
   ]
  },
  {
   "cell_type": "code",
   "execution_count": 79,
   "metadata": {
    "colab": {
     "base_uri": "https://localhost:8080/"
    },
    "id": "idipHBWd-GpC",
    "outputId": "95337195-4b94-43b6-8da2-8d2f26159d40"
   },
   "outputs": [
    {
     "name": "stdout",
     "output_type": "stream",
     "text": [
      "Epoch [1/10], Loss: 0.5398\n",
      "Epoch [2/10], Loss: 0.1690\n",
      "Epoch [3/10], Loss: 0.0262\n",
      "Epoch [4/10], Loss: 0.0065\n",
      "Epoch [5/10], Loss: 0.1224\n",
      "Epoch [6/10], Loss: 0.0418\n",
      "Epoch [7/10], Loss: 0.0196\n",
      "Epoch [8/10], Loss: 0.1330\n",
      "Epoch [9/10], Loss: 0.0900\n",
      "Epoch [10/10], Loss: 0.0113\n"
     ]
    }
   ],
   "source": [
    "# Обучение модели\n",
    "num_epochs = 10\n",
    "for epoch in range(num_epochs):\n",
    "    for images, labels in train_loader:\n",
    "        optimizer.zero_grad()  # Обнуление градиентов\n",
    "        outputs = model(images)\n",
    "        loss = criterion(outputs, labels)\n",
    "        loss.backward()        # Вычисление градиентов\n",
    "        optimizer.step()       # Обновление параметров модели\n",
    "\n",
    "    print(f'Epoch [{epoch+1}/{num_epochs}], Loss: {loss.item():.4f}')"
   ]
  },
  {
   "cell_type": "code",
   "execution_count": 18,
   "metadata": {
    "id": "K6j5PHKM-s47"
   },
   "outputs": [],
   "source": [
    "import torch\n",
    "import torch.nn as nn\n",
    "import torch.optim as optim\n",
    "from torchvision import datasets, transforms\n",
    "from torch.utils.data import DataLoader\n",
    "import matplotlib.pyplot as plt\n",
    "from tqdm import tqdm\n",
    "\n",
    "\n",
    "# Определение архитектуры модели\n",
    "class SimpleNN(nn.Module):\n",
    "    def __init__(self):\n",
    "        super(SimpleNN, self).__init__()\n",
    "        self.fc1 = nn.Linear(28*28, 128)  # Входной слой: 28*28 пикселей\n",
    "        self.fc2 = nn.Linear(128, 64)     # Скрытый слой: 128 нейронов\n",
    "        self.fc3 = nn.Linear(64, 10)      # Выходной слой: 10 классов (цифры 0-9)\n",
    "\n",
    "    def forward(self, x):\n",
    "        x = x.flatten(start_dim=1)  # Развертывание изображений в вектор\n",
    "        x = torch.relu(self.fc1(x))\n",
    "        x = torch.relu(self.fc2(x))\n",
    "        x = self.fc3(x)\n",
    "        return x\n",
    "\n",
    "# Подготовка данных\n",
    "transform = transforms.Compose([transforms.ToTensor(), transforms.Normalize((0.5,), (0.5,))])\n",
    "train_dataset = datasets.MNIST(root='./data', train=True, download=True, transform=transform)\n",
    "test_dataset = datasets.MNIST(root='./data', train=False, download=True, transform=transform)\n",
    "train_loader = DataLoader(train_dataset, batch_size=64, shuffle=True)\n",
    "test_loader = DataLoader(test_dataset, batch_size=64, shuffle=False)\n",
    "\n"
   ]
  },
  {
   "cell_type": "code",
   "execution_count": 19,
   "metadata": {
    "colab": {
     "base_uri": "https://localhost:8080/"
    },
    "id": "tKmuDQy9I8VO",
    "outputId": "e214a261-0a2b-4c9b-84dd-5a46aa7602ca"
   },
   "outputs": [
    {
     "data": {
      "text/plain": [
       "device(type='cuda')"
      ]
     },
     "execution_count": 19,
     "metadata": {},
     "output_type": "execute_result"
    }
   ],
   "source": [
    "device = torch.device('cuda' if torch.cuda.is_available() else 'cpu')\n",
    "device"
   ]
  },
  {
   "cell_type": "code",
   "execution_count": 20,
   "metadata": {
    "colab": {
     "base_uri": "https://localhost:8080/"
    },
    "id": "P-d4Oy31IvpP",
    "outputId": "7740bb8a-36ad-4e96-a6c6-09aa941c53e6"
   },
   "outputs": [
    {
     "name": "stderr",
     "output_type": "stream",
     "text": [
      "100%|██████████| 938/938 [00:16<00:00, 57.90it/s]\n"
     ]
    },
    {
     "name": "stdout",
     "output_type": "stream",
     "text": [
      "Epoch [1/10], Loss: 0.3935\n"
     ]
    },
    {
     "name": "stderr",
     "output_type": "stream",
     "text": [
      "100%|██████████| 938/938 [00:15<00:00, 59.02it/s]\n"
     ]
    },
    {
     "name": "stdout",
     "output_type": "stream",
     "text": [
      "Epoch [2/10], Loss: 0.2549\n"
     ]
    },
    {
     "name": "stderr",
     "output_type": "stream",
     "text": [
      "100%|██████████| 938/938 [00:17<00:00, 53.88it/s]\n"
     ]
    },
    {
     "name": "stdout",
     "output_type": "stream",
     "text": [
      "Epoch [3/10], Loss: 0.2435\n"
     ]
    },
    {
     "name": "stderr",
     "output_type": "stream",
     "text": [
      "100%|██████████| 938/938 [00:16<00:00, 55.93it/s]\n"
     ]
    },
    {
     "name": "stdout",
     "output_type": "stream",
     "text": [
      "Epoch [4/10], Loss: 0.2326\n"
     ]
    },
    {
     "name": "stderr",
     "output_type": "stream",
     "text": [
      "100%|██████████| 938/938 [00:15<00:00, 59.93it/s]\n"
     ]
    },
    {
     "name": "stdout",
     "output_type": "stream",
     "text": [
      "Epoch [5/10], Loss: 0.2179\n"
     ]
    },
    {
     "name": "stderr",
     "output_type": "stream",
     "text": [
      "100%|██████████| 938/938 [00:16<00:00, 56.60it/s]\n"
     ]
    },
    {
     "name": "stdout",
     "output_type": "stream",
     "text": [
      "Epoch [6/10], Loss: 0.2180\n"
     ]
    },
    {
     "name": "stderr",
     "output_type": "stream",
     "text": [
      "100%|██████████| 938/938 [00:15<00:00, 59.90it/s]\n"
     ]
    },
    {
     "name": "stdout",
     "output_type": "stream",
     "text": [
      "Epoch [7/10], Loss: 0.2164\n"
     ]
    },
    {
     "name": "stderr",
     "output_type": "stream",
     "text": [
      "100%|██████████| 938/938 [00:15<00:00, 59.96it/s]\n"
     ]
    },
    {
     "name": "stdout",
     "output_type": "stream",
     "text": [
      "Epoch [8/10], Loss: 0.2051\n"
     ]
    },
    {
     "name": "stderr",
     "output_type": "stream",
     "text": [
      "100%|██████████| 938/938 [00:15<00:00, 60.30it/s]\n"
     ]
    },
    {
     "name": "stdout",
     "output_type": "stream",
     "text": [
      "Epoch [9/10], Loss: 0.2005\n"
     ]
    },
    {
     "name": "stderr",
     "output_type": "stream",
     "text": [
      "100%|██████████| 938/938 [00:16<00:00, 57.09it/s]"
     ]
    },
    {
     "name": "stdout",
     "output_type": "stream",
     "text": [
      "Epoch [10/10], Loss: 0.2071\n"
     ]
    },
    {
     "name": "stderr",
     "output_type": "stream",
     "text": [
      "\n"
     ]
    }
   ],
   "source": [
    "\n",
    "# Инициализация модели, функции потерь и оптимизатора\n",
    "model = SimpleNN().to(device)\n",
    "criterion = nn.CrossEntropyLoss().to(device)\n",
    "optimizer = optim.Adam(model.parameters(), lr=0.001)\n",
    "\n",
    "num_epochs = 10\n",
    "for epoch in range(num_epochs):\n",
    "    running_loss = 0.0\n",
    "    for images, labels in tqdm(train_loader):\n",
    "        images, labels = images.to(device), labels.to(device)  # Перенос данных на GPU\n",
    "        optimizer.zero_grad()  # Обнуление градиентов\n",
    "        outputs = model(images)\n",
    "        loss = criterion(outputs, labels)\n",
    "        loss.backward()        # Вычисление градиентов\n",
    "        optimizer.step()       # Обновление параметров модели\n",
    "        running_loss += loss.item()\n",
    "    print(f'Epoch [{epoch+1}/{num_epochs}], Loss: {running_loss/len(train_loader):.4f}')\n",
    "\n",
    "#\n"
   ]
  },
  {
   "cell_type": "code",
   "execution_count": 26,
   "metadata": {
    "colab": {
     "base_uri": "https://localhost:8080/",
     "height": 730
    },
    "id": "nij3Jyl2Gqod",
    "outputId": "f4b6e25f-5f8c-4e5a-876d-91a4e2917232"
   },
   "outputs": [
    {
     "data": {
      "image/png": "[encoded data removed]",
      "text/plain": [
       "<Figure size 1200x1200 with 20 Axes>"
      ]
     },
     "metadata": {},
     "output_type": "display_data"
    }
   ],
   "source": [
    "def evaluate_and_visualize(model, test_loader, n=2, m=5):\n",
    "    model.eval()  # Перевод модели в режим оценки\n",
    "    images, labels = next(iter(test_loader))  # Получение пакета данных из тестового загрузчика\n",
    "    images, labels = images.to(device), labels.to(device)  # Перенос данных на GPU\n",
    "    outputs = model(images)  # Предсказания модели\n",
    "    _, predicted = torch.max(outputs, 1)  # Индексы классов с наибольшими вероятностями\n",
    "\n",
    "    # Отображение изображений и предсказаний\n",
    "    plt.figure(figsize=(12, 12))\n",
    "    for i in range(n * m):\n",
    "        plt.subplot(n, m, i + 1)\n",
    "        plt.imshow(images[i].cpu().view(28, 28), cmap='gray')  # Переносим изображение обратно на CPU для отображения\n",
    "        plt.title(f'Pred: {predicted[i].item()}\\nTrue: {labels[i].item()}')\n",
    "        plt.axis('off')\n",
    "    plt.show()\n",
    "\n",
    "# Вызов функции для отображения\n",
    "evaluate_and_visualize(model, test_loader, n=4, m=5)"
   ]
  },
  {
   "cell_type": "code",
   "execution_count": null,
   "metadata": {
    "id": "J0OWVPLYH4Fb"
   },
   "outputs": [],
   "source": []
  },
  {
   "cell_type": "code",
   "execution_count": 7,
   "metadata": {
    "colab": {
     "base_uri": "https://localhost:8080/"
    },
    "id": "iHybqJUtJobe",
    "outputId": "c0584084-24c7-45ac-988d-c56b3aa38776"
   },
   "outputs": [
    {
     "name": "stdout",
     "output_type": "stream",
     "text": [
      "Requirement already satisfied: tqdm in /usr/local/lib/python3.10/dist-packages (4.66.4)\n"
     ]
    }
   ],
   "source": []
  },
  {
   "cell_type": "code",
   "execution_count": null,
   "metadata": {
    "id": "icdF63MrJots"
   },
   "outputs": [],
   "source": []
  }
 ],
 "metadata": {
  "accelerator": "GPU",
  "colab": {
   "gpuType": "T4",
   "provenance": []
  },
  "kernelspec": {
   "display_name": "Python 3 (ipykernel)",
   "language": "python",
   "name": "python3"
  },
  "language_info": {
   "codemirror_mode": {
    "name": "ipython",
    "version": 3
   },
   "file_extension": ".py",
   "mimetype": "text/x-python",
   "name": "python",
   "nbconvert_exporter": "python",
   "pygments_lexer": "ipython3",
   "version": "3.12.2"
  }
 },
 "nbformat": 4,
 "nbformat_minor": 4
}
