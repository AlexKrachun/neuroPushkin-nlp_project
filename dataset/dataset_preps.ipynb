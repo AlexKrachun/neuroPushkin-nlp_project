{
 "cells": [
  {
   "cell_type": "code",
   "execution_count": 1,
   "id": "07ffc08f-ee43-459d-85b7-4492a0e67dd4",
   "metadata": {},
   "outputs": [],
   "source": [
    "import re"
   ]
  },
  {
   "cell_type": "code",
   "execution_count": 29,
   "id": "fdafd6c8-4549-496b-9452-41c52b9f9e2f",
   "metadata": {},
   "outputs": [],
   "source": [
    "def clean_dataset(paths_dirty, paths_clean):\n",
    "    for i in range(len(paths_dirty)):\n",
    "        with open(paths_dirty[i], 'r', encoding='utf-8') as f:\n",
    "            texts = f.read().replace('\\n', ' ')\n",
    "            texts = re.sub(r'[^а-яА-ЯёЁ,.#\\-:«»—?!\" ]', '', texts)\n",
    "            texts = re.sub(r'\\*\\*[а-яА-Я ]+\\*\\*', '', texts)  # названия текстов\n",
    "            texts = re.sub(r'\\.', '. ', texts)\n",
    "            texts = re.sub(r'[ ]+', ' ', texts)\n",
    "            texts = re.sub(r'\\-+', '-', texts)\n",
    "            texts = re.sub(r'ё', 'e', texts)\n",
    "            texts = re.sub(r'Ё', 'Е', texts)\n",
    "            texts = re.sub(r' е ', ' ее ', texts)\n",
    "\n",
    "\n",
    "        with open(paths_clean[i], 'w', encoding='utf-8') as f:\n",
    "            print(texts, file=f)"
   ]
  },
  {
   "cell_type": "code",
   "execution_count": 30,
   "id": "d105abf5-f6c1-41ad-a99d-aeac00b6f60d",
   "metadata": {},
   "outputs": [],
   "source": [
    "paths_dirty = [\n",
    "    'dirty/generated_curious_pushkin.txt',\n",
    "    'dirty/generated_pushkin.txt',\n",
    "]\n",
    "\n",
    "paths_clean = [\n",
    "    'clean/generated_curious_pushkin.txt',\n",
    "    'clean/generated_pushkin.txt',\n",
    "]\n",
    "\n",
    "clean_dataset(paths_dirty, paths_clean)"
   ]
  },
  {
   "cell_type": "code",
   "execution_count": null,
   "id": "40a58db7-ea41-4d8e-9785-2932f5dd885c",
   "metadata": {},
   "outputs": [],
   "source": []
  },
  {
   "cell_type": "code",
   "execution_count": null,
   "id": "221734e9-ec27-45dd-b8ec-f8b61248eeb9",
   "metadata": {},
   "outputs": [],
   "source": []
  }
 ],
 "metadata": {
  "kernelspec": {
   "display_name": "Python 3 (ipykernel)",
   "language": "python",
   "name": "python3"
  },
  "language_info": {
   "codemirror_mode": {
    "name": "ipython",
    "version": 3
   },
   "file_extension": ".py",
   "mimetype": "text/x-python",
   "name": "python",
   "nbconvert_exporter": "python",
   "pygments_lexer": "ipython3",
   "version": "3.12.4"
  }
 },
 "nbformat": 4,
 "nbformat_minor": 5
}
